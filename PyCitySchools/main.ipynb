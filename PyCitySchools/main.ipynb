{
 "cells": [
  {
   "cell_type": "code",
   "execution_count": 1,
   "id": "ef041f46",
   "metadata": {},
   "outputs": [],
   "source": [
    "# Dependencies\n",
    "import pandas as pd"
   ]
  },
  {
   "cell_type": "code",
   "execution_count": 2,
   "id": "549f5610",
   "metadata": {},
   "outputs": [],
   "source": [
    "# Load Files\n",
    "school_data = '../Resources/schools_complete.csv'\n",
    "student_data = '../Resources/students_complete.csv'"
   ]
  },
  {
   "cell_type": "code",
   "execution_count": 3,
   "id": "9aaeeede",
   "metadata": {},
   "outputs": [],
   "source": [
    "school_df = pd.read_csv(school_data)\n",
    "student_df = pd.read_csv(student_data)\n",
    "# student_df.head()\n",
    "# student_df.columns"
   ]
  },
  {
   "cell_type": "code",
   "execution_count": 4,
   "id": "08515246",
   "metadata": {},
   "outputs": [
    {
     "data": {
      "text/plain": [
       "Index(['Student ID', 'student_name', 'gender', 'grade', 'school_name',\n",
       "       'reading_score', 'math_score', 'School ID', 'type', 'size', 'budget'],\n",
       "      dtype='object')"
      ]
     },
     "execution_count": 4,
     "metadata": {},
     "output_type": "execute_result"
    }
   ],
   "source": [
    "# Merging data into single data set\n",
    "complete_df = pd.merge(student_df, school_df, how=\"left\", on=[\"school_name\", \"school_name\"])\n",
    "# complete_df.head()\n",
    "# complete_df.columns\n",
    "# complete_df.head()\n",
    "complete_df.columns"
   ]
  },
  {
   "cell_type": "code",
   "execution_count": 5,
   "id": "508e009a",
   "metadata": {},
   "outputs": [],
   "source": [
    "# Calculate total numbers of schools\n",
    "school_count = len(complete_df[\"school_name\"].unique())\n",
    "# school_count"
   ]
  },
  {
   "cell_type": "code",
   "execution_count": 6,
   "id": "8721ce70",
   "metadata": {},
   "outputs": [],
   "source": [
    "# Calculate total number of students\n",
    "student_count = len(complete_df[\"student_name\"].unique())\n",
    "# student_count"
   ]
  },
  {
   "cell_type": "code",
   "execution_count": 7,
   "id": "76202f3e",
   "metadata": {},
   "outputs": [
    {
     "data": {
      "text/plain": [
       "Student ID        int64\n",
       "student_name     object\n",
       "gender           object\n",
       "grade            object\n",
       "school_name      object\n",
       "reading_score     int64\n",
       "math_score        int64\n",
       "School ID         int64\n",
       "type             object\n",
       "size              int64\n",
       "budget            int64\n",
       "dtype: object"
      ]
     },
     "execution_count": 7,
     "metadata": {},
     "output_type": "execute_result"
    }
   ],
   "source": [
    "# complete_df.dtypes"
   ]
  },
  {
   "cell_type": "code",
   "execution_count": 9,
   "id": "defbaa79",
   "metadata": {},
   "outputs": [
    {
     "data": {
      "text/plain": [
       "Index(['Student ID', 'student_name', 'gender', 'grade', 'school_name',\n",
       "       'reading_score', 'math_score', 'School ID', 'type', 'size', 'budget'],\n",
       "      dtype='object')"
      ]
     },
     "execution_count": 9,
     "metadata": {},
     "output_type": "execute_result"
    }
   ],
   "source": [
    "# Calculate Total Budget -  I'm using groupby method\n",
    "# make copy of merged data frame\n",
    "# create data framed grouped by school name column with copy if the merged data frame\n",
    "complete_copy_df = complete_df.copy()\n",
    "complete_copy_df.columns"
   ]
  },
  {
   "cell_type": "code",
   "execution_count": 17,
   "id": "2fe12b33",
   "metadata": {},
   "outputs": [
    {
     "name": "stdout",
     "output_type": "stream",
     "text": [
      "<pandas.core.groupby.generic.DataFrameGroupBy object at 0x0000020C9481A9C8>\n"
     ]
    },
    {
     "data": {
      "text/html": [
       "<div>\n",
       "<style scoped>\n",
       "    .dataframe tbody tr th:only-of-type {\n",
       "        vertical-align: middle;\n",
       "    }\n",
       "\n",
       "    .dataframe tbody tr th {\n",
       "        vertical-align: top;\n",
       "    }\n",
       "\n",
       "    .dataframe thead th {\n",
       "        text-align: right;\n",
       "    }\n",
       "</style>\n",
       "<table border=\"1\" class=\"dataframe\">\n",
       "  <thead>\n",
       "    <tr style=\"text-align: right;\">\n",
       "      <th></th>\n",
       "      <th>Student ID</th>\n",
       "      <th>student_name</th>\n",
       "      <th>gender</th>\n",
       "      <th>grade</th>\n",
       "      <th>reading_score</th>\n",
       "      <th>math_score</th>\n",
       "      <th>School ID</th>\n",
       "      <th>type</th>\n",
       "      <th>size</th>\n",
       "      <th>budget</th>\n",
       "    </tr>\n",
       "    <tr>\n",
       "      <th>school_name</th>\n",
       "      <th></th>\n",
       "      <th></th>\n",
       "      <th></th>\n",
       "      <th></th>\n",
       "      <th></th>\n",
       "      <th></th>\n",
       "      <th></th>\n",
       "      <th></th>\n",
       "      <th></th>\n",
       "      <th></th>\n",
       "    </tr>\n",
       "  </thead>\n",
       "  <tbody>\n",
       "    <tr>\n",
       "      <th>Bailey High School</th>\n",
       "      <td>4976</td>\n",
       "      <td>4976</td>\n",
       "      <td>4976</td>\n",
       "      <td>4976</td>\n",
       "      <td>4976</td>\n",
       "      <td>4976</td>\n",
       "      <td>4976</td>\n",
       "      <td>4976</td>\n",
       "      <td>4976</td>\n",
       "      <td>4976</td>\n",
       "    </tr>\n",
       "    <tr>\n",
       "      <th>Cabrera High School</th>\n",
       "      <td>1858</td>\n",
       "      <td>1858</td>\n",
       "      <td>1858</td>\n",
       "      <td>1858</td>\n",
       "      <td>1858</td>\n",
       "      <td>1858</td>\n",
       "      <td>1858</td>\n",
       "      <td>1858</td>\n",
       "      <td>1858</td>\n",
       "      <td>1858</td>\n",
       "    </tr>\n",
       "    <tr>\n",
       "      <th>Figueroa High School</th>\n",
       "      <td>2949</td>\n",
       "      <td>2949</td>\n",
       "      <td>2949</td>\n",
       "      <td>2949</td>\n",
       "      <td>2949</td>\n",
       "      <td>2949</td>\n",
       "      <td>2949</td>\n",
       "      <td>2949</td>\n",
       "      <td>2949</td>\n",
       "      <td>2949</td>\n",
       "    </tr>\n",
       "    <tr>\n",
       "      <th>Ford High School</th>\n",
       "      <td>2739</td>\n",
       "      <td>2739</td>\n",
       "      <td>2739</td>\n",
       "      <td>2739</td>\n",
       "      <td>2739</td>\n",
       "      <td>2739</td>\n",
       "      <td>2739</td>\n",
       "      <td>2739</td>\n",
       "      <td>2739</td>\n",
       "      <td>2739</td>\n",
       "    </tr>\n",
       "    <tr>\n",
       "      <th>Griffin High School</th>\n",
       "      <td>1468</td>\n",
       "      <td>1468</td>\n",
       "      <td>1468</td>\n",
       "      <td>1468</td>\n",
       "      <td>1468</td>\n",
       "      <td>1468</td>\n",
       "      <td>1468</td>\n",
       "      <td>1468</td>\n",
       "      <td>1468</td>\n",
       "      <td>1468</td>\n",
       "    </tr>\n",
       "    <tr>\n",
       "      <th>Hernandez High School</th>\n",
       "      <td>4635</td>\n",
       "      <td>4635</td>\n",
       "      <td>4635</td>\n",
       "      <td>4635</td>\n",
       "      <td>4635</td>\n",
       "      <td>4635</td>\n",
       "      <td>4635</td>\n",
       "      <td>4635</td>\n",
       "      <td>4635</td>\n",
       "      <td>4635</td>\n",
       "    </tr>\n",
       "    <tr>\n",
       "      <th>Holden High School</th>\n",
       "      <td>427</td>\n",
       "      <td>427</td>\n",
       "      <td>427</td>\n",
       "      <td>427</td>\n",
       "      <td>427</td>\n",
       "      <td>427</td>\n",
       "      <td>427</td>\n",
       "      <td>427</td>\n",
       "      <td>427</td>\n",
       "      <td>427</td>\n",
       "    </tr>\n",
       "    <tr>\n",
       "      <th>Huang High School</th>\n",
       "      <td>2917</td>\n",
       "      <td>2917</td>\n",
       "      <td>2917</td>\n",
       "      <td>2917</td>\n",
       "      <td>2917</td>\n",
       "      <td>2917</td>\n",
       "      <td>2917</td>\n",
       "      <td>2917</td>\n",
       "      <td>2917</td>\n",
       "      <td>2917</td>\n",
       "    </tr>\n",
       "    <tr>\n",
       "      <th>Johnson High School</th>\n",
       "      <td>4761</td>\n",
       "      <td>4761</td>\n",
       "      <td>4761</td>\n",
       "      <td>4761</td>\n",
       "      <td>4761</td>\n",
       "      <td>4761</td>\n",
       "      <td>4761</td>\n",
       "      <td>4761</td>\n",
       "      <td>4761</td>\n",
       "      <td>4761</td>\n",
       "    </tr>\n",
       "    <tr>\n",
       "      <th>Pena High School</th>\n",
       "      <td>962</td>\n",
       "      <td>962</td>\n",
       "      <td>962</td>\n",
       "      <td>962</td>\n",
       "      <td>962</td>\n",
       "      <td>962</td>\n",
       "      <td>962</td>\n",
       "      <td>962</td>\n",
       "      <td>962</td>\n",
       "      <td>962</td>\n",
       "    </tr>\n",
       "    <tr>\n",
       "      <th>Rodriguez High School</th>\n",
       "      <td>3999</td>\n",
       "      <td>3999</td>\n",
       "      <td>3999</td>\n",
       "      <td>3999</td>\n",
       "      <td>3999</td>\n",
       "      <td>3999</td>\n",
       "      <td>3999</td>\n",
       "      <td>3999</td>\n",
       "      <td>3999</td>\n",
       "      <td>3999</td>\n",
       "    </tr>\n",
       "    <tr>\n",
       "      <th>Shelton High School</th>\n",
       "      <td>1761</td>\n",
       "      <td>1761</td>\n",
       "      <td>1761</td>\n",
       "      <td>1761</td>\n",
       "      <td>1761</td>\n",
       "      <td>1761</td>\n",
       "      <td>1761</td>\n",
       "      <td>1761</td>\n",
       "      <td>1761</td>\n",
       "      <td>1761</td>\n",
       "    </tr>\n",
       "    <tr>\n",
       "      <th>Thomas High School</th>\n",
       "      <td>1635</td>\n",
       "      <td>1635</td>\n",
       "      <td>1635</td>\n",
       "      <td>1635</td>\n",
       "      <td>1635</td>\n",
       "      <td>1635</td>\n",
       "      <td>1635</td>\n",
       "      <td>1635</td>\n",
       "      <td>1635</td>\n",
       "      <td>1635</td>\n",
       "    </tr>\n",
       "    <tr>\n",
       "      <th>Wilson High School</th>\n",
       "      <td>2283</td>\n",
       "      <td>2283</td>\n",
       "      <td>2283</td>\n",
       "      <td>2283</td>\n",
       "      <td>2283</td>\n",
       "      <td>2283</td>\n",
       "      <td>2283</td>\n",
       "      <td>2283</td>\n",
       "      <td>2283</td>\n",
       "      <td>2283</td>\n",
       "    </tr>\n",
       "    <tr>\n",
       "      <th>Wright High School</th>\n",
       "      <td>1800</td>\n",
       "      <td>1800</td>\n",
       "      <td>1800</td>\n",
       "      <td>1800</td>\n",
       "      <td>1800</td>\n",
       "      <td>1800</td>\n",
       "      <td>1800</td>\n",
       "      <td>1800</td>\n",
       "      <td>1800</td>\n",
       "      <td>1800</td>\n",
       "    </tr>\n",
       "  </tbody>\n",
       "</table>\n",
       "</div>"
      ],
      "text/plain": [
       "                       Student ID  student_name  gender  grade  reading_score  \\\n",
       "school_name                                                                     \n",
       "Bailey High School           4976          4976    4976   4976           4976   \n",
       "Cabrera High School          1858          1858    1858   1858           1858   \n",
       "Figueroa High School         2949          2949    2949   2949           2949   \n",
       "Ford High School             2739          2739    2739   2739           2739   \n",
       "Griffin High School          1468          1468    1468   1468           1468   \n",
       "Hernandez High School        4635          4635    4635   4635           4635   \n",
       "Holden High School            427           427     427    427            427   \n",
       "Huang High School            2917          2917    2917   2917           2917   \n",
       "Johnson High School          4761          4761    4761   4761           4761   \n",
       "Pena High School              962           962     962    962            962   \n",
       "Rodriguez High School        3999          3999    3999   3999           3999   \n",
       "Shelton High School          1761          1761    1761   1761           1761   \n",
       "Thomas High School           1635          1635    1635   1635           1635   \n",
       "Wilson High School           2283          2283    2283   2283           2283   \n",
       "Wright High School           1800          1800    1800   1800           1800   \n",
       "\n",
       "                       math_score  School ID  type  size  budget  \n",
       "school_name                                                       \n",
       "Bailey High School           4976       4976  4976  4976    4976  \n",
       "Cabrera High School          1858       1858  1858  1858    1858  \n",
       "Figueroa High School         2949       2949  2949  2949    2949  \n",
       "Ford High School             2739       2739  2739  2739    2739  \n",
       "Griffin High School          1468       1468  1468  1468    1468  \n",
       "Hernandez High School        4635       4635  4635  4635    4635  \n",
       "Holden High School            427        427   427   427     427  \n",
       "Huang High School            2917       2917  2917  2917    2917  \n",
       "Johnson High School          4761       4761  4761  4761    4761  \n",
       "Pena High School              962        962   962   962     962  \n",
       "Rodriguez High School        3999       3999  3999  3999    3999  \n",
       "Shelton High School          1761       1761  1761  1761    1761  \n",
       "Thomas High School           1635       1635  1635  1635    1635  \n",
       "Wilson High School           2283       2283  2283  2283    2283  \n",
       "Wright High School           1800       1800  1800  1800    1800  "
      ]
     },
     "execution_count": 17,
     "metadata": {},
     "output_type": "execute_result"
    }
   ],
   "source": [
    "# group by data frame \n",
    "grouped_df = complete_copy_df.groupby([\"school_name\"])\n",
    "\n",
    "print(grouped_df)\n",
    "\n",
    "# grouped_df.count()"
   ]
  },
  {
   "cell_type": "code",
   "execution_count": 22,
   "id": "1c0c0545",
   "metadata": {},
   "outputs": [
    {
     "data": {
      "text/plain": [
       "school_name            budget \n",
       "Bailey High School     3124928    4976\n",
       "Cabrera High School    1081356    1858\n",
       "Figueroa High School   1884411    2949\n",
       "Ford High School       1763916    2739\n",
       "Griffin High School    917500     1468\n",
       "Hernandez High School  3022020    4635\n",
       "Holden High School     248087      427\n",
       "Huang High School      1910635    2917\n",
       "Johnson High School    3094650    4761\n",
       "Pena High School       585858      962\n",
       "Rodriguez High School  2547363    3999\n",
       "Shelton High School    1056600    1761\n",
       "Thomas High School     1043130    1635\n",
       "Wilson High School     1319574    2283\n",
       "Wright High School     1049400    1800\n",
       "Name: budget, dtype: int64"
      ]
     },
     "execution_count": 22,
     "metadata": {},
     "output_type": "execute_result"
    }
   ],
   "source": [
    "# Getting value counts for budgets for each school\n",
    "grouped_df[\"budget\"].value_counts()"
   ]
  },
  {
   "cell_type": "code",
   "execution_count": 45,
   "id": "ccadd243",
   "metadata": {},
   "outputs": [
    {
     "data": {
      "text/plain": [
       "24649428"
      ]
     },
     "execution_count": 45,
     "metadata": {},
     "output_type": "execute_result"
    }
   ],
   "source": [
    "# create data frame for the average budget for each school, then take sum of the dataframe to get to total budget\n",
    "school_budgets_df = grouped_df[\"budget\"].mean()\n",
    "# school_budgets_df.sum()\n",
    "total_budget = school_budgets_df.sum()\n",
    "total_budget"
   ]
  },
  {
   "cell_type": "code",
   "execution_count": 35,
   "id": "c2c4c066",
   "metadata": {},
   "outputs": [
    {
     "data": {
      "text/plain": [
       "80.43252976460249"
      ]
     },
     "execution_count": 35,
     "metadata": {},
     "output_type": "execute_result"
    }
   ],
   "source": [
    "# Calculate Average Math Score\n",
    "# use grouped data frame,  check value counts for math score\n",
    "# grouped_df[\"math_score\"].value_counts()\n",
    "school_average_mathscore_df = grouped_df[\"math_score\"].mean()\n",
    "school_average_mathscore_df.mean()"
   ]
  },
  {
   "cell_type": "code",
   "execution_count": 38,
   "id": "1c3b06fa",
   "metadata": {},
   "outputs": [
    {
     "name": "stdout",
     "output_type": "stream",
     "text": [
      "<pandas.core.groupby.generic.DataFrameGroupBy object at 0x0000020C93ABDD48>\n"
     ]
    },
    {
     "data": {
      "text/html": [
       "<div>\n",
       "<style scoped>\n",
       "    .dataframe tbody tr th:only-of-type {\n",
       "        vertical-align: middle;\n",
       "    }\n",
       "\n",
       "    .dataframe tbody tr th {\n",
       "        vertical-align: top;\n",
       "    }\n",
       "\n",
       "    .dataframe thead th {\n",
       "        text-align: right;\n",
       "    }\n",
       "</style>\n",
       "<table border=\"1\" class=\"dataframe\">\n",
       "  <thead>\n",
       "    <tr style=\"text-align: right;\">\n",
       "      <th></th>\n",
       "      <th>Student ID</th>\n",
       "      <th>gender</th>\n",
       "      <th>grade</th>\n",
       "      <th>school_name</th>\n",
       "      <th>reading_score</th>\n",
       "      <th>math_score</th>\n",
       "      <th>School ID</th>\n",
       "      <th>type</th>\n",
       "      <th>size</th>\n",
       "      <th>budget</th>\n",
       "    </tr>\n",
       "    <tr>\n",
       "      <th>student_name</th>\n",
       "      <th></th>\n",
       "      <th></th>\n",
       "      <th></th>\n",
       "      <th></th>\n",
       "      <th></th>\n",
       "      <th></th>\n",
       "      <th></th>\n",
       "      <th></th>\n",
       "      <th></th>\n",
       "      <th></th>\n",
       "    </tr>\n",
       "  </thead>\n",
       "  <tbody>\n",
       "    <tr>\n",
       "      <th>Aaron Acosta</th>\n",
       "      <td>1</td>\n",
       "      <td>1</td>\n",
       "      <td>1</td>\n",
       "      <td>1</td>\n",
       "      <td>1</td>\n",
       "      <td>1</td>\n",
       "      <td>1</td>\n",
       "      <td>1</td>\n",
       "      <td>1</td>\n",
       "      <td>1</td>\n",
       "    </tr>\n",
       "    <tr>\n",
       "      <th>Aaron Aguilar</th>\n",
       "      <td>1</td>\n",
       "      <td>1</td>\n",
       "      <td>1</td>\n",
       "      <td>1</td>\n",
       "      <td>1</td>\n",
       "      <td>1</td>\n",
       "      <td>1</td>\n",
       "      <td>1</td>\n",
       "      <td>1</td>\n",
       "      <td>1</td>\n",
       "    </tr>\n",
       "    <tr>\n",
       "      <th>Aaron Anderson</th>\n",
       "      <td>1</td>\n",
       "      <td>1</td>\n",
       "      <td>1</td>\n",
       "      <td>1</td>\n",
       "      <td>1</td>\n",
       "      <td>1</td>\n",
       "      <td>1</td>\n",
       "      <td>1</td>\n",
       "      <td>1</td>\n",
       "      <td>1</td>\n",
       "    </tr>\n",
       "    <tr>\n",
       "      <th>Aaron Atkinson</th>\n",
       "      <td>1</td>\n",
       "      <td>1</td>\n",
       "      <td>1</td>\n",
       "      <td>1</td>\n",
       "      <td>1</td>\n",
       "      <td>1</td>\n",
       "      <td>1</td>\n",
       "      <td>1</td>\n",
       "      <td>1</td>\n",
       "      <td>1</td>\n",
       "    </tr>\n",
       "    <tr>\n",
       "      <th>Aaron Bailey</th>\n",
       "      <td>1</td>\n",
       "      <td>1</td>\n",
       "      <td>1</td>\n",
       "      <td>1</td>\n",
       "      <td>1</td>\n",
       "      <td>1</td>\n",
       "      <td>1</td>\n",
       "      <td>1</td>\n",
       "      <td>1</td>\n",
       "      <td>1</td>\n",
       "    </tr>\n",
       "  </tbody>\n",
       "</table>\n",
       "</div>"
      ],
      "text/plain": [
       "                Student ID  gender  grade  school_name  reading_score  \\\n",
       "student_name                                                            \n",
       "Aaron Acosta             1       1      1            1              1   \n",
       "Aaron Aguilar            1       1      1            1              1   \n",
       "Aaron Anderson           1       1      1            1              1   \n",
       "Aaron Atkinson           1       1      1            1              1   \n",
       "Aaron Bailey             1       1      1            1              1   \n",
       "\n",
       "                math_score  School ID  type  size  budget  \n",
       "student_name                                               \n",
       "Aaron Acosta             1          1     1     1       1  \n",
       "Aaron Aguilar            1          1     1     1       1  \n",
       "Aaron Anderson           1          1     1     1       1  \n",
       "Aaron Atkinson           1          1     1     1       1  \n",
       "Aaron Bailey             1          1     1     1       1  "
      ]
     },
     "execution_count": 38,
     "metadata": {},
     "output_type": "execute_result"
    }
   ],
   "source": [
    "# calculate average math score - not by school though - by all the stundents\n",
    "# creating grouped dataframe by students\n",
    "# complete_copy_df\n",
    "student_grouped_df = complete_copy_df.groupby([\"student_name\"])\n",
    "print(student_grouped_df)\n",
    "# student_grouped_df.count().head()"
   ]
  },
  {
   "cell_type": "code",
   "execution_count": 46,
   "id": "1d3ad8c7",
   "metadata": {},
   "outputs": [
    {
     "data": {
      "text/plain": [
       "78.99834099820231"
      ]
     },
     "execution_count": 46,
     "metadata": {},
     "output_type": "execute_result"
    }
   ],
   "source": [
    "# calculate average math score continued\n",
    "# use stundent groupby data frame to check math score\n",
    "# student_grouped_df[\"math_score\"].value_counts()\n",
    "# student_grouped_df[\"math_score\"].mean().mean()\n",
    "average_math_score = student_grouped_df[\"math_score\"].mean().mean()\n",
    "average_math_score"
   ]
  },
  {
   "cell_type": "code",
   "execution_count": 49,
   "id": "51a79900",
   "metadata": {},
   "outputs": [
    {
     "data": {
      "text/plain": [
       "81.87905805751977"
      ]
     },
     "execution_count": 49,
     "metadata": {},
     "output_type": "execute_result"
    }
   ],
   "source": [
    "# calculate average reading score\n",
    "# use student grouped data frame, filter reading scores for each student, take average, take average\n",
    "# student_grouped_df[\"reading_score\"].value_counts()\n",
    "average_reading_score = student_grouped_df[\"reading_score\"].mean().mean()\n",
    "average_reading_score"
   ]
  },
  {
   "cell_type": "code",
   "execution_count": 52,
   "id": "1856ba9e",
   "metadata": {},
   "outputs": [
    {
     "data": {
      "text/plain": [
       "39170"
      ]
     },
     "execution_count": 52,
     "metadata": {},
     "output_type": "execute_result"
    }
   ],
   "source": [
    "# Calculate the percentage of students with a passing math score (70 or greater)\n",
    "# set variable and get value for total students\n",
    "total_students = len(complete_copy_df[\"student_name\"])\n",
    "# total_students"
   ]
  },
  {
   "cell_type": "code",
   "execution_count": 57,
   "id": "e7d21114",
   "metadata": {},
   "outputs": [
    {
     "name": "stdout",
     "output_type": "stream",
     "text": [
      "       Student ID     student_name gender grade         school_name  \\\n",
      "0               0     Paul Bradley      M   9th   Huang High School   \n",
      "4               4       Bonnie Ray      F   9th   Huang High School   \n",
      "5               5    Bryan Miranda      M   9th   Huang High School   \n",
      "6               6    Sheena Carter      F  11th   Huang High School   \n",
      "8               8     Michael Roth      M  10th   Huang High School   \n",
      "...           ...              ...    ...   ...                 ...   \n",
      "39165       39165     Donna Howard      F  12th  Thomas High School   \n",
      "39166       39166        Dawn Bell      F  10th  Thomas High School   \n",
      "39167       39167   Rebecca Tanner      F   9th  Thomas High School   \n",
      "39168       39168     Desiree Kidd      F  10th  Thomas High School   \n",
      "39169       39169  Carolyn Jackson      F  11th  Thomas High School   \n",
      "\n",
      "       reading_score  math_score  School ID      type  size   budget  \n",
      "0                 66          79          0  District  2917  1910635  \n",
      "4                 97          84          0  District  2917  1910635  \n",
      "5                 94          94          0  District  2917  1910635  \n",
      "6                 82          80          0  District  2917  1910635  \n",
      "8                 95          87          0  District  2917  1910635  \n",
      "...              ...         ...        ...       ...   ...      ...  \n",
      "39165             99          90         14   Charter  1635  1043130  \n",
      "39166             95          70         14   Charter  1635  1043130  \n",
      "39167             73          84         14   Charter  1635  1043130  \n",
      "39168             99          90         14   Charter  1635  1043130  \n",
      "39169             95          75         14   Charter  1635  1043130  \n",
      "\n",
      "[29370 rows x 11 columns]\n"
     ]
    }
   ],
   "source": [
    "# find number of students who have a math score of 70 or greater using LOC\n",
    "passing_math_students = complete_copy_df.loc[complete_copy_df[\"math_score\"] >= 70]\n",
    "\n",
    "\n",
    "print(passing_math_students)\n",
    "\n"
   ]
  },
  {
   "cell_type": "code",
   "execution_count": 58,
   "id": "e08a22e7",
   "metadata": {},
   "outputs": [
    {
     "data": {
      "text/plain": [
       "29370"
      ]
     },
     "execution_count": 58,
     "metadata": {},
     "output_type": "execute_result"
    }
   ],
   "source": [
    "# set variable and value for total students who are passing math\n",
    "total_passing_math_students = len(passing_math_students)\n",
    "total_passing_math_students"
   ]
  },
  {
   "cell_type": "code",
   "execution_count": 59,
   "id": "93a5e2d1",
   "metadata": {},
   "outputs": [
    {
     "name": "stdout",
     "output_type": "stream",
     "text": [
      "       Student ID     student_name gender grade         school_name  \\\n",
      "1               1     Victor Smith      M  12th   Huang High School   \n",
      "2               2  Kevin Rodriguez      M  12th   Huang High School   \n",
      "4               4       Bonnie Ray      F   9th   Huang High School   \n",
      "5               5    Bryan Miranda      M   9th   Huang High School   \n",
      "6               6    Sheena Carter      F  11th   Huang High School   \n",
      "...           ...              ...    ...   ...                 ...   \n",
      "39165       39165     Donna Howard      F  12th  Thomas High School   \n",
      "39166       39166        Dawn Bell      F  10th  Thomas High School   \n",
      "39167       39167   Rebecca Tanner      F   9th  Thomas High School   \n",
      "39168       39168     Desiree Kidd      F  10th  Thomas High School   \n",
      "39169       39169  Carolyn Jackson      F  11th  Thomas High School   \n",
      "\n",
      "       reading_score  math_score  School ID      type  size   budget  \n",
      "1                 94          61          0  District  2917  1910635  \n",
      "2                 90          60          0  District  2917  1910635  \n",
      "4                 97          84          0  District  2917  1910635  \n",
      "5                 94          94          0  District  2917  1910635  \n",
      "6                 82          80          0  District  2917  1910635  \n",
      "...              ...         ...        ...       ...   ...      ...  \n",
      "39165             99          90         14   Charter  1635  1043130  \n",
      "39166             95          70         14   Charter  1635  1043130  \n",
      "39167             73          84         14   Charter  1635  1043130  \n",
      "39168             99          90         14   Charter  1635  1043130  \n",
      "39169             95          75         14   Charter  1635  1043130  \n",
      "\n",
      "[33610 rows x 11 columns]\n"
     ]
    }
   ],
   "source": [
    "# find number of student who have a math score of 70 or greater\n",
    "passing_reading_students = complete_copy_df.loc[complete_copy_df[\"reading_score\"] >= 70]\n",
    "\n",
    "print(passing_reading_students)"
   ]
  },
  {
   "cell_type": "code",
   "execution_count": 60,
   "id": "e1f51d98",
   "metadata": {},
   "outputs": [
    {
     "data": {
      "text/plain": [
       "33610"
      ]
     },
     "execution_count": 60,
     "metadata": {},
     "output_type": "execute_result"
    }
   ],
   "source": [
    "# set variable and value for total students who are passing reading\n",
    "total_passing_reading_students = len(passing_reading_students)\n",
    "total_passing_reading_students"
   ]
  },
  {
   "cell_type": "code",
   "execution_count": 63,
   "id": "3987e13e",
   "metadata": {},
   "outputs": [],
   "source": [
    "# calculating percentage of students passing math and percentage of students passing reading passing divide by total student\n",
    "# need to convert to correct data types\n"
   ]
  },
  {
   "cell_type": "code",
   "execution_count": null,
   "id": "0ab673a2",
   "metadata": {},
   "outputs": [],
   "source": []
  }
 ],
 "metadata": {
  "kernelspec": {
   "display_name": "Python 3 (ipykernel)",
   "language": "python",
   "name": "python3"
  },
  "language_info": {
   "codemirror_mode": {
    "name": "ipython",
    "version": 3
   },
   "file_extension": ".py",
   "mimetype": "text/x-python",
   "name": "python",
   "nbconvert_exporter": "python",
   "pygments_lexer": "ipython3",
   "version": "3.7.7"
  }
 },
 "nbformat": 4,
 "nbformat_minor": 5
}
