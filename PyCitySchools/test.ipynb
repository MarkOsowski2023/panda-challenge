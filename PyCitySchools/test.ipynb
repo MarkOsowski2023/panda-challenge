{
 "cells": [
  {
   "cell_type": "code",
   "execution_count": 1,
   "id": "5df66ee8",
   "metadata": {},
   "outputs": [],
   "source": [
    "# Dependencies\n",
    "import pandas as pd"
   ]
  },
  {
   "cell_type": "code",
   "execution_count": 2,
   "id": "6a641a70",
   "metadata": {},
   "outputs": [],
   "source": [
    "# Load Files\n",
    "school_data = '../Resources/schools_complete.csv'\n",
    "student_data = '../Resources/students_complete.csv'"
   ]
  },
  {
   "cell_type": "code",
   "execution_count": 3,
   "id": "ae03b2a7",
   "metadata": {},
   "outputs": [
    {
     "data": {
      "text/plain": [
       "Index(['School ID', 'school_name', 'type', 'size', 'budget'], dtype='object')"
      ]
     },
     "execution_count": 3,
     "metadata": {},
     "output_type": "execute_result"
    }
   ],
   "source": [
    "school_df = pd.read_csv(school_data)\n",
    "student_df = pd.read_csv(student_data)\n",
    "# student_df.head()\n",
    "# student_df.columns\n",
    "school_df.columns"
   ]
  },
  {
   "cell_type": "code",
   "execution_count": 4,
   "id": "df596df7",
   "metadata": {},
   "outputs": [
    {
     "data": {
      "text/plain": [
       "Index(['Student ID', 'student_name', 'gender', 'grade', 'school_name',\n",
       "       'reading_score', 'math_score', 'School ID', 'type', 'size', 'budget'],\n",
       "      dtype='object')"
      ]
     },
     "execution_count": 4,
     "metadata": {},
     "output_type": "execute_result"
    }
   ],
   "source": [
    "# Merging data into single data set\n",
    "complete_df = pd.merge(student_df, school_df, how=\"left\", on=[\"school_name\", \"school_name\"])\n",
    "# complete_df.head()\n",
    "# complete_df.columns\n",
    "# complete_df.head()\n",
    "complete_df.columns"
   ]
  },
  {
   "cell_type": "code",
   "execution_count": 5,
   "id": "d07494ef",
   "metadata": {},
   "outputs": [],
   "source": [
    "# ----------------------------------------------------------------------------------------------------------------------------\n",
    "# DISTRICT SUMMARY\n",
    "# ----------------------------------------------------------------------------------------------------------------------------"
   ]
  },
  {
   "cell_type": "code",
   "execution_count": 6,
   "id": "ff7ae8dd",
   "metadata": {},
   "outputs": [],
   "source": [
    "# Setting Variable and calculate total numbers of schools\n",
    "school_count = len(complete_df[\"school_name\"].unique())\n",
    "\n",
    "# school_count"
   ]
  },
  {
   "cell_type": "code",
   "execution_count": 7,
   "id": "121b7ead",
   "metadata": {},
   "outputs": [],
   "source": [
    "# Setting Variable and calculate total number of students\n",
    "student_count = len(complete_df[\"student_name\"].unique())\n",
    "\n",
    "# student_count"
   ]
  },
  {
   "cell_type": "code",
   "execution_count": 8,
   "id": "26dedd1f",
   "metadata": {},
   "outputs": [],
   "source": [
    "# complete_df.dtypes"
   ]
  },
  {
   "cell_type": "code",
   "execution_count": null,
   "id": "b3e9d29f",
   "metadata": {},
   "outputs": [],
   "source": [
    "# Calculate Total Budget -  I'm using groupby method\n",
    "# make copy of merged data frame\n",
    "# create data framed grouped by school name column with copy if the merged data frame\n",
    "complete_copy_df = complete_df.copy()\n",
    "# complete_copy_df.columns"
   ]
  },
  {
   "cell_type": "code",
   "execution_count": null,
   "id": "10f3902c",
   "metadata": {},
   "outputs": [],
   "source": [
    "# group by data frame \n",
    "grouped_df = complete_copy_df.groupby([\"school_name\"])\n",
    "\n",
    "print(grouped_df)\n",
    "\n",
    "\n",
    "# grouped_df.count()"
   ]
  },
  {
   "cell_type": "code",
   "execution_count": null,
   "id": "8f762696",
   "metadata": {},
   "outputs": [],
   "source": [
    "# Getting value counts for budgets for each school\n",
    "# grouped_df[\"budget\"].value_counts()"
   ]
  },
  {
   "cell_type": "code",
   "execution_count": null,
   "id": "588c1139",
   "metadata": {},
   "outputs": [],
   "source": [
    "# create data frame for the average budget for each school, then take sum of the dataframe to get to total budget\n",
    "school_budgets_df = grouped_df[\"budget\"].mean()\n",
    "# school_budgets_df.sum()\n",
    "total_budget = school_budgets_df.sum()\n",
    "\n",
    "# total_budget"
   ]
  },
  {
   "cell_type": "code",
   "execution_count": null,
   "id": "0509f01c",
   "metadata": {},
   "outputs": [],
   "source": [
    "# Calculate Average Math Score\n",
    "# use grouped data frame,  check value counts for math score\n",
    "# grouped_df[\"math_score\"].value_counts()\n",
    "school_average_mathscore_df = grouped_df[\"math_score\"].mean()\n"
   ]
  },
  {
   "cell_type": "code",
   "execution_count": null,
   "id": "bb9fd63a",
   "metadata": {},
   "outputs": [],
   "source": [
    "# calculate average math score - not by school though - by all the stundents\n",
    "# creating grouped dataframe by students\n",
    "# complete_copy_df\n",
    "student_grouped_df = complete_copy_df.groupby([\"student_name\"])\n",
    "print(student_grouped_df)\n",
    "# student_grouped_df.count().head()"
   ]
  },
  {
   "cell_type": "code",
   "execution_count": null,
   "id": "fd78adee",
   "metadata": {},
   "outputs": [],
   "source": [
    "# calculate average math score continued\n",
    "# use stundent groupby data frame to check math score\n",
    "# student_grouped_df[\"math_score\"].value_counts()\n",
    "# student_grouped_df[\"math_score\"].mean().mean()\n",
    "average_math_score = student_grouped_df[\"math_score\"].mean().mean()\n",
    "# average_math_score"
   ]
  },
  {
   "cell_type": "code",
   "execution_count": null,
   "id": "e3721f1d",
   "metadata": {},
   "outputs": [],
   "source": [
    "# calculate average reading score\n",
    "# use student grouped data frame, filter reading scores for each student, take average, take average\n",
    "# student_grouped_df[\"reading_score\"].value_counts()\n",
    "average_reading_score = student_grouped_df[\"reading_score\"].mean().mean()\n",
    "# average_reading_score"
   ]
  },
  {
   "cell_type": "code",
   "execution_count": null,
   "id": "5113ad21",
   "metadata": {},
   "outputs": [],
   "source": [
    "# Calculate the percentage of students with a passing math score (70 or greater)\n",
    "# set variable and get value for total students\n",
    "total_students = len(complete_copy_df[\"student_name\"])\n",
    "# total_students"
   ]
  },
  {
   "cell_type": "code",
   "execution_count": null,
   "id": "bb8a9f21",
   "metadata": {},
   "outputs": [],
   "source": [
    "# find number of students who have a math score of 70 or greater using LOC\n",
    "passing_math_students = complete_copy_df.loc[complete_copy_df[\"math_score\"] >= 70]\n",
    "\n",
    "\n",
    "# print(passing_math_students)\n",
    "\n"
   ]
  },
  {
   "cell_type": "code",
   "execution_count": null,
   "id": "c26a1815",
   "metadata": {},
   "outputs": [],
   "source": [
    "# set variable and value for total students who are passing math\n",
    "total_passing_math_students = len(passing_math_students)\n",
    "# total_passing_math_students"
   ]
  },
  {
   "cell_type": "code",
   "execution_count": null,
   "id": "c5b07c83",
   "metadata": {},
   "outputs": [],
   "source": [
    "# find number of student who have a math score of 70 or greater\n",
    "passing_reading_students = complete_copy_df.loc[complete_copy_df[\"reading_score\"] >= 70]\n",
    "\n",
    "# print(passing_reading_students)"
   ]
  },
  {
   "cell_type": "code",
   "execution_count": null,
   "id": "b5e00c9f",
   "metadata": {},
   "outputs": [],
   "source": [
    "# set variable and value for total students who are passing reading\n",
    "total_passing_reading_students = len(passing_reading_students)\n",
    "# total_passing_reading_students"
   ]
  },
  {
   "cell_type": "code",
   "execution_count": null,
   "id": "20232616",
   "metadata": {},
   "outputs": [],
   "source": [
    "# calculating percentage of students passing math and percentage of students passing reading passing divide by total student\n",
    "# need to convert to correct data type"
   ]
  },
  {
   "cell_type": "code",
   "execution_count": null,
   "id": "da0345a8",
   "metadata": {},
   "outputs": [],
   "source": [
    "# calculate percent of students passing math\n",
    "percent_passing_math = (total_passing_math_students / total_students) * 100\n",
    "# percent_passing_math"
   ]
  },
  {
   "cell_type": "code",
   "execution_count": null,
   "id": "27705950",
   "metadata": {},
   "outputs": [],
   "source": [
    "# calculate percent of students passing reading\n",
    "percent_passing_reading =  (total_passing_reading_students / total_students) * 100\n",
    "# percent_passing_reading"
   ]
  },
  {
   "cell_type": "code",
   "execution_count": null,
   "id": "cb13ac2d",
   "metadata": {},
   "outputs": [],
   "source": [
    "# calculate percent of students who passed math and reading\n",
    "# using loc for students who have 70 or greater in math and 70 or greater in reading (dont forget to print)\n",
    "overall_passing = complete_copy_df.loc[(complete_copy_df[\"math_score\"] >= 70) & (complete_copy_df[\"reading_score\"] >= 70)]\n",
    "# print(overall_passing)"
   ]
  },
  {
   "cell_type": "code",
   "execution_count": null,
   "id": "f0f0da8a",
   "metadata": {},
   "outputs": [],
   "source": [
    "# set variable for total students overall passing, use length function to get value\n",
    "total_overall_passing = len(overall_passing)\n",
    "# total_overall_passing"
   ]
  },
  {
   "cell_type": "code",
   "execution_count": null,
   "id": "f8ff49a0",
   "metadata": {},
   "outputs": [],
   "source": [
    "# find percent of students overall passing\n",
    "percent_overall_passing = (total_overall_passing / total_students) * 100\n",
    "# percent_overall_passing"
   ]
  },
  {
   "cell_type": "code",
   "execution_count": null,
   "id": "1bfe8091",
   "metadata": {},
   "outputs": [],
   "source": [
    "# creating Data Frame with the results\n",
    "results_df = pd.DataFrame({\"Total Schools\": [school_count],\n",
    "                           \"Total Students\": total_students,\n",
    "                           \"Total Budget\": total_budget,\n",
    "                           \"Average Math Score\": average_math_score,\n",
    "                           \"Average Reading Score\": average_reading_score,\n",
    "                           \"% Passing Math\": percent_passing_math,\n",
    "                           \"% Passing Reading\": percent_passing_reading,\n",
    "                           \"% Overall Passing\": percent_overall_passing,})"
   ]
  },
  {
   "cell_type": "code",
   "execution_count": null,
   "id": "38e04609",
   "metadata": {},
   "outputs": [],
   "source": [
    "# results_df"
   ]
  },
  {
   "cell_type": "code",
   "execution_count": null,
   "id": "bdfda1a4",
   "metadata": {},
   "outputs": [],
   "source": [
    "# Formatting Results Data Frame, using Mapping\n",
    "# for total students\n",
    "\n",
    "# for total budget\n",
    "results_df[\"Total Budget\"] = results_df[\"Total Budget\"].map(\"${:,.2f}\".format)\n",
    "# results_df"
   ]
  },
  {
   "cell_type": "code",
   "execution_count": null,
   "id": "ef3540e5",
   "metadata": {},
   "outputs": [],
   "source": [
    "# Formatt for total students\n",
    "results_df[\"Total Students\"] = results_df[\"Total Students\"].map(\"{:,}\".format)"
   ]
  },
  {
   "cell_type": "code",
   "execution_count": null,
   "id": "ffbf2805",
   "metadata": {},
   "outputs": [],
   "source": [
    "# DISTRICT SUMMARRY TABLE\n",
    "results_df"
   ]
  },
  {
   "cell_type": "code",
   "execution_count": null,
   "id": "45e5ba8b",
   "metadata": {},
   "outputs": [],
   "source": [
    "# ----------------------------------------------------------------------------------------------------------------------------\n",
    "# SCHOOL SUMMARY\n",
    "# ----------------------------------------------------------------------------------------------------------------------------\n",
    "# want to use the groupby school name data frame that I already created\n",
    "# use column manipulation to take mean of budget for each school to get the budget for each school\n",
    "# basically a lot of column manipulation on groupby data frames"
   ]
  },
  {
   "cell_type": "code",
   "execution_count": null,
   "id": "587465cd",
   "metadata": {},
   "outputs": [],
   "source": [
    "# using previously made grouped data frame, which I grouped by school names, Checking counts and value counts, so on\n",
    "print(grouped_df)"
   ]
  },
  {
   "cell_type": "code",
   "execution_count": null,
   "id": "690d6cbc",
   "metadata": {},
   "outputs": [],
   "source": [
    "# what I see from this is that the count of Student ID series with give me the total students per school\n",
    "# so just total students (=) will be grouped_df[\"Student ID\"].count then change column title in new data frame\n",
    "# total school budget I already have, the variable is saved as school_budget_df\n",
    "# budget per student will be new column that calculates school budget / total students\n",
    "# school type (=) will be grouped_df[\"type\"].value_counts()\n",
    "grouped_df.count()"
   ]
  },
  {
   "cell_type": "code",
   "execution_count": null,
   "id": "870a6c7b",
   "metadata": {},
   "outputs": [],
   "source": [
    "# Setting Variable and finding value for average math score by school\n",
    "school_summary_math_score = grouped_df[\"math_score\"].mean()\n",
    "# school_summary_math_score"
   ]
  },
  {
   "cell_type": "code",
   "execution_count": null,
   "id": "6c283a71",
   "metadata": {},
   "outputs": [],
   "source": [
    "# Setting Variable and finding values for average reading score by school\n",
    "school_summary_reading_score = grouped_df[\"reading_score\"].mean()\n",
    "# school_summary_reading_score"
   ]
  },
  {
   "cell_type": "code",
   "execution_count": null,
   "id": "54ebf784",
   "metadata": {},
   "outputs": [],
   "source": [
    "# OVER THINKING\n",
    "# create the varibales and the values for the columns first \n",
    "# create another copy of the complete df and add these columns to that copy\n",
    "# then make a groupby data frame for the summary with the columns you want\n",
    "# so still use .loc in the 2nd copy of the complete data frame"
   ]
  },
  {
   "cell_type": "code",
   "execution_count": null,
   "id": "1cd65465",
   "metadata": {},
   "outputs": [],
   "source": [
    "# Copy of complete df for school summary table section\n",
    "school_summary_copy_df = complete_df.copy()\n",
    "# school_summary_copy_df"
   ]
  },
  {
   "cell_type": "code",
   "execution_count": null,
   "id": "3b40ab23",
   "metadata": {},
   "outputs": [],
   "source": [
    "# Defining and setting variables for students passing math, students passing reading, and students passing both reading and math\n",
    "# ------------------------------------------------------------------------------------------------------------------------------\n",
    "# Students Passing Math\n",
    "school_summary_passing_math_df = school_summary_copy_df.loc[school_summary_copy_df[\"math_score\"] >= 70]\n",
    "math_summary = school_summary_passing_math_df[\"school_name\"].value_counts()"
   ]
  },
  {
   "cell_type": "code",
   "execution_count": null,
   "id": "183446c8",
   "metadata": {},
   "outputs": [],
   "source": [
    "# Students Passing Reading\n",
    "school_summary_passing_reading_df = school_summary_copy_df.loc[school_summary_copy_df[\"reading_score\"] >= 70]\n",
    "reading_summary = school_summary_passing_reading_df[\"school_name\"].value_counts()"
   ]
  },
  {
   "cell_type": "code",
   "execution_count": null,
   "id": "9d06a349",
   "metadata": {},
   "outputs": [],
   "source": [
    "# Students Passing both Math and Reading\n",
    "school_summary_passing_overall_df = school_summary_copy_df.loc[(school_summary_copy_df[\"math_score\"] >= 70) & (school_summary_copy_df[\"reading_score\"] >= 70)]\n",
    "overall_summary = school_summary_passing_overall_df[\"school_name\"].value_counts()"
   ]
  },
  {
   "cell_type": "code",
   "execution_count": null,
   "id": "11c5afd8",
   "metadata": {},
   "outputs": [],
   "source": [
    "# Setting variable and value for school budgets\n",
    "# already have school budgets variable\n",
    "# school_budgets_df"
   ]
  },
  {
   "cell_type": "code",
   "execution_count": null,
   "id": "a19e40c7",
   "metadata": {},
   "outputs": [],
   "source": [
    "# fixing a problem I realized (just now) in my code, going to setindex school df instead of using .unique\n",
    "fixed_school_types = school_df.set_index(\"school_name\")[\"type\"]"
   ]
  },
  {
   "cell_type": "code",
   "execution_count": null,
   "id": "fd0db852",
   "metadata": {},
   "outputs": [],
   "source": [
    "# Setting Variable for total students\n",
    "school_summary_total_students = grouped_df[\"student_name\"].count()"
   ]
  },
  {
   "cell_type": "code",
   "execution_count": null,
   "id": "a283027f",
   "metadata": {},
   "outputs": [],
   "source": [
    "# Setting variable for and calculating % passing math for each school \n",
    "percent_math = (math_summary / school_summary_total_students) * 100"
   ]
  },
  {
   "cell_type": "code",
   "execution_count": null,
   "id": "0fcbce5c",
   "metadata": {},
   "outputs": [],
   "source": [
    "# Setting variable for and calvulating % passing reading for each school\n",
    "percent_reading = (reading_summary / school_summary_total_students) * 100"
   ]
  },
  {
   "cell_type": "code",
   "execution_count": null,
   "id": "e465b613",
   "metadata": {},
   "outputs": [],
   "source": [
    "# Setting variable for and calculation % overall passing for each school\n",
    "overall_percent = (overall_summary / school_summary_total_students) * 100"
   ]
  },
  {
   "cell_type": "code",
   "execution_count": null,
   "id": "4e03075a",
   "metadata": {},
   "outputs": [],
   "source": [
    "# Setting variable for and calculating budget per student at each school\n",
    "per_student_budget = (school_budgets_df / school_summary_total_students)"
   ]
  },
  {
   "cell_type": "code",
   "execution_count": null,
   "id": "6023caa3",
   "metadata": {},
   "outputs": [],
   "source": [
    "# Creating new data frame school summary\n",
    "school_summary_table = pd.DataFrame({\"School Type\": fixed_school_types,\n",
    "                                    \"Total Students\": school_summary_total_students,\n",
    "                                    \"Total School Budget\": school_budgets_df,\n",
    "                                    \"Per Student Budget\": per_student_budget,\n",
    "                                    \"Average Math Score\": school_summary_math_score,\n",
    "                                    \"Average Reading Score\": school_summary_reading_score,\n",
    "                                    \"% Passing Math\": percent_math,\n",
    "                                    \"% Passing Reading\": percent_reading,\n",
    "                                    \"% Overall Passing\": overall_percent})\n",
    "school_summary_table"
   ]
  },
  {
   "cell_type": "code",
   "execution_count": null,
   "id": "d6f1f66e",
   "metadata": {},
   "outputs": [],
   "source": [
    "# Formatting School Summary Table Using Mapping\n",
    "school_summary_table[\"Total School Budget\"] = school_summary_table[\"Total School Budget\"].map(\"${:,.2f}\".format)\n",
    "school_summary_table[\"Per Student Budget\"] = school_summary_table[\"Per Student Budget\"].map(\"${:,.2f}\".format)"
   ]
  },
  {
   "cell_type": "code",
   "execution_count": null,
   "id": "423efb38",
   "metadata": {},
   "outputs": [],
   "source": [
    "# SCHOOL SUMMARY TABLE\n",
    "school_summary_table"
   ]
  },
  {
   "cell_type": "code",
   "execution_count": null,
   "id": "1ba2d366",
   "metadata": {},
   "outputs": [],
   "source": [
    "school_summary_table.columns"
   ]
  },
  {
   "cell_type": "code",
   "execution_count": null,
   "id": "cb85fa14",
   "metadata": {},
   "outputs": [],
   "source": [
    "school_summary_table.index"
   ]
  },
  {
   "cell_type": "code",
   "execution_count": null,
   "id": "5cb51dcd",
   "metadata": {},
   "outputs": [],
   "source": [
    "# NEED TO ASK ABOUT GETTING RID OF BRACKETS AROUND OBJECTS IN SCHOOL TYPE\n",
    "# NEED TO ASK ABOUT HIDING INDEX NAME (school_name)"
   ]
  },
  {
   "cell_type": "code",
   "execution_count": null,
   "id": "dc132396",
   "metadata": {},
   "outputs": [],
   "source": [
    "# ---------------------------------------------------------------------------------------------------------\n",
    "# TOP PERFORMING SCHOOLS (BY % OVERALL PASSING)\n",
    "# ----------------------------------------------------------------------------------------------------------"
   ]
  },
  {
   "cell_type": "code",
   "execution_count": null,
   "id": "f7a28d5a",
   "metadata": {},
   "outputs": [],
   "source": [
    "# Sorting and displaying the top five performing schools by % overall passing\n",
    "top_performing_df = school_summary_table.sort_values(\"% Overall Passing\", ascending=False)\n",
    "top_performing_df.head()"
   ]
  },
  {
   "cell_type": "code",
   "execution_count": null,
   "id": "b0d64ae7",
   "metadata": {},
   "outputs": [],
   "source": [
    "# -----------------------------------------------------------------------------------------\n",
    "# BOTTOM PERFORMING SCHOOLS (BY % OVERALL PASSING)\n",
    "# -----------------------------------------------------------------------------------------"
   ]
  },
  {
   "cell_type": "code",
   "execution_count": null,
   "id": "ad5f3559",
   "metadata": {},
   "outputs": [],
   "source": [
    "# Sorting and displaying the bottom five performing schools by % overall passing\n",
    "bottom_performing_df = school_summary_table.sort_values(\"% Overall Passing\", ascending=True)\n",
    "bottom_performing_df.head()"
   ]
  },
  {
   "cell_type": "code",
   "execution_count": null,
   "id": "79b0de90",
   "metadata": {},
   "outputs": [],
   "source": [
    "# ---------------------------------------------------------------------\n",
    "# MATH SCORES BY GRADE\n",
    "# ----------------------------------------------------------------------"
   ]
  },
  {
   "cell_type": "code",
   "execution_count": null,
   "id": "2d4b7441",
   "metadata": {},
   "outputs": [],
   "source": [
    "# creating series for each grade\n",
    "# going to create copy of the complete df\n",
    "copy_three = complete_df.copy()\n",
    "# copy_three"
   ]
  },
  {
   "cell_type": "code",
   "execution_count": null,
   "id": "f1a9c7d7",
   "metadata": {},
   "outputs": [],
   "source": [
    "copy_three[\"grade\"].value_counts()"
   ]
  },
  {
   "cell_type": "code",
   "execution_count": null,
   "id": "f728cbd8",
   "metadata": {},
   "outputs": [],
   "source": [
    "copy_three[\"grade\"].dtypes"
   ]
  },
  {
   "cell_type": "code",
   "execution_count": null,
   "id": "58baf28a",
   "metadata": {},
   "outputs": [],
   "source": [
    "ninth_grade_math = copy_three.loc[copy_three[\"grade\"] == \"9th\"]\n",
    "# print(ninth_grade_math)"
   ]
  },
  {
   "cell_type": "code",
   "execution_count": null,
   "id": "7b383ae5",
   "metadata": {},
   "outputs": [],
   "source": [
    "ninth_grade_group = ninth_grade_math.groupby([\"school_name\"])\n",
    "print(ninth_grade_group)"
   ]
  },
  {
   "cell_type": "code",
   "execution_count": null,
   "id": "636ec948",
   "metadata": {},
   "outputs": [],
   "source": [
    "tenth_grade = copy_three.loc[copy_three[\"grade\"] == \"10th\"]\n",
    "# print(tenth_grade)"
   ]
  },
  {
   "cell_type": "code",
   "execution_count": null,
   "id": "1f64e148",
   "metadata": {},
   "outputs": [],
   "source": [
    "tenth_grade_group = tenth_grade.groupby([\"school_name\"])\n",
    "print(tenth_grade_group)"
   ]
  },
  {
   "cell_type": "code",
   "execution_count": null,
   "id": "0b0cbb22",
   "metadata": {},
   "outputs": [],
   "source": [
    "eleventh_grade = copy_three.loc[copy_three[\"grade\"] == \"11th\"]\n",
    "# print(eleventh_grade)"
   ]
  },
  {
   "cell_type": "code",
   "execution_count": null,
   "id": "89c9c6e2",
   "metadata": {},
   "outputs": [],
   "source": [
    "eleventh_grade_group = eleventh_grade.groupby([\"school_name\"])\n",
    "print(eleventh_grade_group)"
   ]
  },
  {
   "cell_type": "code",
   "execution_count": null,
   "id": "24060491",
   "metadata": {},
   "outputs": [],
   "source": [
    "twelfth_grade = copy_three.loc[copy_three[\"grade\"] == \"12th\"]\n",
    "# print(twelfth_grade)"
   ]
  },
  {
   "cell_type": "code",
   "execution_count": null,
   "id": "f5fa7f3e",
   "metadata": {},
   "outputs": [],
   "source": [
    "twelfth_grade_group = twelfth_grade.groupby([\"school_name\"])\n",
    "print(twelfth_grade_group)"
   ]
  },
  {
   "cell_type": "code",
   "execution_count": null,
   "id": "112fb7c9",
   "metadata": {},
   "outputs": [],
   "source": [
    "ninth_grade_average_math_score_grouped = ninth_grade_group[\"math_score\"].mean()\n",
    "ninth_grade_average_math_score_grouped"
   ]
  },
  {
   "cell_type": "code",
   "execution_count": null,
   "id": "79a3ac27",
   "metadata": {},
   "outputs": [],
   "source": [
    "tenth_grade_average_math_score_grouped = tenth_grade_group[\"math_score\"].mean()\n",
    "tenth_grade_average_math_score_grouped"
   ]
  },
  {
   "cell_type": "code",
   "execution_count": null,
   "id": "89dd848a",
   "metadata": {},
   "outputs": [],
   "source": [
    "eleventh_grade_average_math_score_grouped = eleventh_grade_group[\"math_score\"].mean()\n",
    "eleventh_grade_average_math_score_grouped"
   ]
  },
  {
   "cell_type": "code",
   "execution_count": null,
   "id": "361e95f2",
   "metadata": {},
   "outputs": [],
   "source": [
    "twelfth_grade_average_math_score_grouped = twelfth_grade_group[\"math_score\"].mean()\n",
    "twelfth_grade_average_math_score_grouped"
   ]
  },
  {
   "cell_type": "code",
   "execution_count": null,
   "id": "32f84574",
   "metadata": {},
   "outputs": [],
   "source": [
    "# MATH SCORES BY GRADE DATAFRAME\n",
    "math_scores_by_grade_df = pd.DataFrame({\"9th\": ninth_grade_average_math_score_grouped,\n",
    "                                       \"10th\": tenth_grade_average_math_score_grouped,\n",
    "                                       \"11th\": eleventh_grade_average_math_score_grouped,\n",
    "                                       \"12th\": twelfth_grade_average_math_score_grouped})\n",
    "math_scores_by_grade_df"
   ]
  },
  {
   "cell_type": "code",
   "execution_count": null,
   "id": "8daaca3f",
   "metadata": {},
   "outputs": [],
   "source": [
    "math_scores_by_grade_df.index"
   ]
  },
  {
   "cell_type": "code",
   "execution_count": null,
   "id": "f098320b",
   "metadata": {},
   "outputs": [],
   "source": [
    "math_scores_by_grade_df.columns"
   ]
  },
  {
   "cell_type": "code",
   "execution_count": null,
   "id": "3c18bc26",
   "metadata": {},
   "outputs": [],
   "source": [
    "# -----------------------------------------------------------------------\n",
    "# READING SCORE BY GRADE\n",
    "# -------------------------------------------------------------------------------"
   ]
  },
  {
   "cell_type": "code",
   "execution_count": null,
   "id": "fb5a4422",
   "metadata": {},
   "outputs": [],
   "source": [
    "ninth_grade_average_reading_score_grouped = ninth_grade_group[\"reading_score\"].mean()\n",
    "ninth_grade_average_reading_score_grouped"
   ]
  },
  {
   "cell_type": "code",
   "execution_count": null,
   "id": "97b4ddd8",
   "metadata": {},
   "outputs": [],
   "source": [
    "tenth_grade_average_reading_score_grouped = tenth_grade_group[\"reading_score\"].mean()\n",
    "tenth_grade_average_reading_score_grouped"
   ]
  },
  {
   "cell_type": "code",
   "execution_count": null,
   "id": "9fa00297",
   "metadata": {},
   "outputs": [],
   "source": [
    "eleventh_grade_average_reading_score_grouped = eleventh_grade_group[\"reading_score\"].mean()\n",
    "eleventh_grade_average_reading_score_grouped"
   ]
  },
  {
   "cell_type": "code",
   "execution_count": null,
   "id": "f1885432",
   "metadata": {},
   "outputs": [],
   "source": [
    "twelfth_grade_average_reading_score_grouped = twelfth_grade_group[\"reading_score\"].mean()\n",
    "twelfth_grade_average_reading_score_grouped"
   ]
  },
  {
   "cell_type": "code",
   "execution_count": null,
   "id": "2133248e",
   "metadata": {},
   "outputs": [],
   "source": [
    "# READING SCORE BY GRADE DATAFRAME\n",
    "reading_score_by_grade_df = pd.DataFrame({\"9th\": ninth_grade_average_reading_score_grouped,\n",
    "                                         \"10th\": tenth_grade_average_reading_score_grouped,\n",
    "                                         \"11th\": eleventh_grade_average_reading_score_grouped,\n",
    "                                         \"12th\": twelfth_grade_average_reading_score_grouped})\n",
    "reading_score_by_grade_df"
   ]
  },
  {
   "cell_type": "code",
   "execution_count": null,
   "id": "a48b486c",
   "metadata": {},
   "outputs": [],
   "source": [
    "reading_score_by_grade_df.index"
   ]
  },
  {
   "cell_type": "code",
   "execution_count": null,
   "id": "9634f722",
   "metadata": {},
   "outputs": [],
   "source": [
    "reading_score_by_grade_df.columns"
   ]
  },
  {
   "cell_type": "code",
   "execution_count": null,
   "id": "923a1922",
   "metadata": {},
   "outputs": [],
   "source": [
    "# -------------------------------------------------------------\n",
    "# SCORES BY SCHOOL SPENDING\n",
    "# --------------------------------------------------------------"
   ]
  },
  {
   "cell_type": "code",
   "execution_count": null,
   "id": "7ffb6736",
   "metadata": {},
   "outputs": [],
   "source": [
    "# creating bins (based on average spending ranges (per student)) for....\n",
    "# average math score\n",
    "# average reading score\n",
    "# % passing math\n",
    "# % passing reading\n",
    "# % overall passing"
   ]
  },
  {
   "cell_type": "code",
   "execution_count": null,
   "id": "32c16b53",
   "metadata": {},
   "outputs": [],
   "source": [
    "# checking dtype\n",
    "per_student_budget"
   ]
  },
  {
   "cell_type": "code",
   "execution_count": null,
   "id": "196dc2e5",
   "metadata": {},
   "outputs": [],
   "source": [
    "# creating bins\n",
    "bins = [0, 584.99, 629.99, 644.99, 680.00]\n",
    "\n",
    "# create group labels\n",
    "group_names = [\"<$585\", \"$585-630\", \"$630-645\", \"$645-680\"]"
   ]
  },
  {
   "cell_type": "code",
   "execution_count": null,
   "id": "ef5fe0c3",
   "metadata": {},
   "outputs": [],
   "source": [
    "# new data frame\n",
    "new_df = pd.DataFrame({\"Spending\": per_student_budget,\n",
    "                      \"Average Math Score\": school_summary_math_score,\n",
    "                      \"Average Reading Score\": school_summary_reading_score,\n",
    "                      \"% Passing Math\": percent_math,\n",
    "                      \"% Passing Reading\": percent_reading,\n",
    "                      \"% Overall Passing\": overall_percent})\n",
    "new_df"
   ]
  },
  {
   "cell_type": "code",
   "execution_count": null,
   "id": "62bc5bca",
   "metadata": {},
   "outputs": [],
   "source": [
    "# testing to see if this works\n",
    "pd.cut(new_df[\"Spending\"], bins, labels=group_names, include_lowest=True).head()"
   ]
  },
  {
   "cell_type": "code",
   "execution_count": null,
   "id": "6b203d05",
   "metadata": {},
   "outputs": [],
   "source": [
    "# Creating Spending Ranges Column\n",
    "new_df[\"Spending Ranges (Per Student)\"] = pd.cut(new_df[\"Spending\"], bins, labels=group_names, include_lowest=True)\n",
    "new_df"
   ]
  },
  {
   "cell_type": "code",
   "execution_count": null,
   "id": "4c6d1a57",
   "metadata": {},
   "outputs": [],
   "source": [
    "# Grouping by Spending Ranges\n",
    "spending_range_groups = new_df.groupby(\"Spending Ranges (Per Student)\")\n",
    "spending_range_groups"
   ]
  },
  {
   "cell_type": "code",
   "execution_count": null,
   "id": "b1c03fb9",
   "metadata": {},
   "outputs": [],
   "source": [
    "# Getting Averages and Percentages by Spending Ranges\n",
    "spending_range_groups[[\"Average Math Score\", \"Average Reading Score\", \"% Passing Math\", \"% Passing Reading\", \"% Overall Passing\"]].mean()"
   ]
  },
  {
   "cell_type": "code",
   "execution_count": null,
   "id": "10280c39",
   "metadata": {},
   "outputs": [],
   "source": [
    "# ----------------------------------------------------------------------\n",
    "# SCORES BY SCHOOL SIZE\n",
    "# ----------------------------------------------------------------------"
   ]
  },
  {
   "cell_type": "code",
   "execution_count": null,
   "id": "6d563fcf",
   "metadata": {},
   "outputs": [],
   "source": [
    "raw_summary_table = pd.DataFrame({\"School Type\": fixed_school_types,\n",
    "                                    \"Total Students\": school_summary_total_students,\n",
    "                                    \"Total School Budget\": school_budgets_df,\n",
    "                                    \"Per Student Budget\": per_student_budget,\n",
    "                                    \"Average Math Score\": school_summary_math_score,\n",
    "                                    \"Average Reading Score\": school_summary_reading_score,\n",
    "                                    \"% Passing Math\": percent_math,\n",
    "                                    \"% Passing Reading\": percent_reading,\n",
    "                                    \"% Overall Passing\": overall_percent})\n",
    "raw_summary_table"
   ]
  },
  {
   "cell_type": "code",
   "execution_count": null,
   "id": "daa26601",
   "metadata": {},
   "outputs": [],
   "source": [
    "# checking max and min of size series\n",
    "print(raw_summary_table[\"Total Students\"].max())\n",
    "print(raw_summary_table[\"Total Students\"].min())"
   ]
  },
  {
   "cell_type": "code",
   "execution_count": null,
   "id": "4d49a4e2",
   "metadata": {},
   "outputs": [],
   "source": [
    "# creating bins and labels\n",
    "size_bins = [0, 999, 1999, 5000]\n",
    "\n",
    "# labels\n",
    "size_labels = [\"Small (<100)\", \"Medium (1000-2000)\", \"Large (2000-5000)\"]"
   ]
  },
  {
   "cell_type": "code",
   "execution_count": null,
   "id": "80974da8",
   "metadata": {},
   "outputs": [],
   "source": [
    "pd.cut(raw_summary_table[\"Total Students\"], size_bins,  labels=size_labels, include_lowest=True)"
   ]
  },
  {
   "cell_type": "code",
   "execution_count": null,
   "id": "e7bf9a7b",
   "metadata": {},
   "outputs": [],
   "source": [
    "raw_summary_table[\"School Size\"] = pd.cut(raw_summary_table[\"Total Students\"], size_bins,  labels=size_labels, include_lowest=True)\n",
    "raw_summary_table"
   ]
  },
  {
   "cell_type": "code",
   "execution_count": null,
   "id": "a3f15399",
   "metadata": {},
   "outputs": [],
   "source": [
    "# groupby school size\n",
    "size_groups = raw_summary_table.groupby(\"School Size\")\n",
    "size_groups"
   ]
  },
  {
   "cell_type": "code",
   "execution_count": null,
   "id": "7e7e6b58",
   "metadata": {},
   "outputs": [],
   "source": [
    "# AVERAGES AND PERCENTAGES BY SCHOOL SIZE\n",
    "size_groups[[\"Average Math Score\", \"Average Reading Score\", \"% Passing Math\", \"% Passing Reading\", \"% Overall Passing\"]].mean()"
   ]
  },
  {
   "cell_type": "code",
   "execution_count": null,
   "id": "9fe5c1da",
   "metadata": {},
   "outputs": [],
   "source": [
    "# ---------------------------------------------------------------------------------------------------------\n",
    "# SCORES BY SCHOOL TYPE\n",
    "# ---------------------------------------------------------------------------------------------------------"
   ]
  },
  {
   "cell_type": "code",
   "execution_count": null,
   "id": "78997a89",
   "metadata": {},
   "outputs": [],
   "source": [
    "raw_summary_table[\"School Type\"].count"
   ]
  },
  {
   "cell_type": "code",
   "execution_count": null,
   "id": "2ac1143d",
   "metadata": {},
   "outputs": [],
   "source": [
    "# groupby school types\n",
    "type_groups = raw_summary_table.groupby(\"School Type\")"
   ]
  },
  {
   "cell_type": "code",
   "execution_count": null,
   "id": "95240ff2",
   "metadata": {},
   "outputs": [],
   "source": [
    "# AVERAGES AND PERCENTAGES BY SCHOOL TYPE\n",
    "type_groups[[\"Average Math Score\", \"Average Reading Score\", \"% Passing Math\", \"% Passing Reading\", \"% Overall Passing\"]].mean()"
   ]
  },
  {
   "cell_type": "code",
   "execution_count": null,
   "id": "736c7132",
   "metadata": {},
   "outputs": [],
   "source": []
  },
  {
   "cell_type": "code",
   "execution_count": null,
   "id": "2f703ecd",
   "metadata": {},
   "outputs": [],
   "source": []
  },
  {
   "cell_type": "code",
   "execution_count": null,
   "id": "b806c84a",
   "metadata": {},
   "outputs": [],
   "source": []
  }
 ],
 "metadata": {
  "kernelspec": {
   "display_name": "Python 3 (ipykernel)",
   "language": "python",
   "name": "python3"
  },
  "language_info": {
   "codemirror_mode": {
    "name": "ipython",
    "version": 3
   },
   "file_extension": ".py",
   "mimetype": "text/x-python",
   "name": "python",
   "nbconvert_exporter": "python",
   "pygments_lexer": "ipython3",
   "version": "3.7.7"
  }
 },
 "nbformat": 4,
 "nbformat_minor": 5
}
