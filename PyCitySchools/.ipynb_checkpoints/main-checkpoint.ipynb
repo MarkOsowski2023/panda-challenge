{
 "cells": [
  {
   "cell_type": "code",
   "execution_count": 1,
   "id": "c216f44f",
   "metadata": {},
   "outputs": [],
   "source": [
    "# Dependencies\n",
    "import pandas as pd"
   ]
  },
  {
   "cell_type": "code",
   "execution_count": 2,
   "id": "f82cc6db",
   "metadata": {},
   "outputs": [],
   "source": [
    "# Load Files\n",
    "school_data = '../Resources/schools_complete.csv'\n",
    "student_data = '../Resources/students_complete.csv'"
   ]
  },
  {
   "cell_type": "code",
   "execution_count": 3,
   "id": "d2ee375e",
   "metadata": {},
   "outputs": [],
   "source": [
    "school_df = pd.read_csv(school_data)\n",
    "student_df = pd.read_csv(student_data)\n",
    "# student_df.head()\n",
    "# student_df.columns"
   ]
  },
  {
   "cell_type": "code",
   "execution_count": 4,
   "id": "36bff627",
   "metadata": {},
   "outputs": [
    {
     "data": {
      "text/plain": [
       "Index(['Student ID', 'student_name', 'gender', 'grade', 'school_name',\n",
       "       'reading_score', 'math_score', 'School ID', 'type', 'size', 'budget'],\n",
       "      dtype='object')"
      ]
     },
     "execution_count": 4,
     "metadata": {},
     "output_type": "execute_result"
    }
   ],
   "source": [
    "# Merging data into single data set\n",
    "complete_df = pd.merge(student_df, school_df, how=\"left\", on=[\"school_name\", \"school_name\"])\n",
    "# complete_df.head()\n",
    "# complete_df.columns\n",
    "# complete_df.head()\n",
    "complete_df.columns"
   ]
  },
  {
   "cell_type": "code",
   "execution_count": 5,
   "id": "9e762fe0",
   "metadata": {},
   "outputs": [],
   "source": [
    "# DISTRICT SUMMARY\n",
    "# ----------------------------------------------------------------------------------------------------------------------------"
   ]
  },
  {
   "cell_type": "code",
   "execution_count": 6,
   "id": "970955b6",
   "metadata": {},
   "outputs": [],
   "source": [
    "# Setting Variable and calculate total numbers of schools\n",
    "school_count = len(complete_df[\"school_name\"].unique())\n",
    "# school_count"
   ]
  },
  {
   "cell_type": "code",
   "execution_count": 7,
   "id": "fcb91734",
   "metadata": {},
   "outputs": [],
   "source": [
    "# Setting Variable and calculate total number of students\n",
    "student_count = len(complete_df[\"student_name\"].unique())\n",
    "# student_count"
   ]
  },
  {
   "cell_type": "code",
   "execution_count": 8,
   "id": "2dfb5237",
   "metadata": {},
   "outputs": [],
   "source": [
    "# complete_df.dtypes"
   ]
  },
  {
   "cell_type": "code",
   "execution_count": 10,
   "id": "ddf8bdf0",
   "metadata": {},
   "outputs": [],
   "source": [
    "# Calculate Total Budget -  I'm using groupby method\n",
    "# make copy of merged data frame\n",
    "# create data framed grouped by school name column with copy if the merged data frame\n",
    "complete_copy_df = complete_df.copy()\n",
    "# complete_copy_df.columns"
   ]
  },
  {
   "cell_type": "code",
   "execution_count": 11,
   "id": "d6b59bc4",
   "metadata": {},
   "outputs": [
    {
     "name": "stdout",
     "output_type": "stream",
     "text": [
      "<pandas.core.groupby.generic.DataFrameGroupBy object at 0x00000277D3C30808>\n"
     ]
    }
   ],
   "source": [
    "# group by data frame \n",
    "grouped_df = complete_copy_df.groupby([\"school_name\"])\n",
    "\n",
    "print(grouped_df)\n",
    "\n",
    "# grouped_df.count()"
   ]
  },
  {
   "cell_type": "code",
   "execution_count": 13,
   "id": "d3235af8",
   "metadata": {},
   "outputs": [],
   "source": [
    "# Getting value counts for budgets for each school\n",
    "# grouped_df[\"budget\"].value_counts()"
   ]
  },
  {
   "cell_type": "code",
   "execution_count": 15,
   "id": "ac155450",
   "metadata": {},
   "outputs": [],
   "source": [
    "# create data frame for the average budget for each school, then take sum of the dataframe to get to total budget\n",
    "school_budgets_df = grouped_df[\"budget\"].mean()\n",
    "# school_budgets_df.sum()\n",
    "total_budget = school_budgets_df.sum()\n",
    "# total_budget"
   ]
  },
  {
   "cell_type": "code",
   "execution_count": 17,
   "id": "73c87ebb",
   "metadata": {},
   "outputs": [],
   "source": [
    "# Calculate Average Math Score\n",
    "# use grouped data frame,  check value counts for math score\n",
    "# grouped_df[\"math_score\"].value_counts()\n",
    "school_average_mathscore_df = grouped_df[\"math_score\"].mean()"
   ]
  },
  {
   "cell_type": "code",
   "execution_count": 18,
   "id": "e17847d5",
   "metadata": {},
   "outputs": [
    {
     "name": "stdout",
     "output_type": "stream",
     "text": [
      "<pandas.core.groupby.generic.DataFrameGroupBy object at 0x00000277D3C3B148>\n"
     ]
    }
   ],
   "source": [
    "# calculate average math score - not by school though - by all the stundents\n",
    "# creating grouped dataframe by students\n",
    "# complete_copy_df\n",
    "student_grouped_df = complete_copy_df.groupby([\"student_name\"])\n",
    "print(student_grouped_df)\n",
    "# student_grouped_df.count().head()"
   ]
  },
  {
   "cell_type": "code",
   "execution_count": 20,
   "id": "b622ccc2",
   "metadata": {},
   "outputs": [],
   "source": [
    "# calculate average math score continued\n",
    "# use stundent groupby data frame to check math score\n",
    "# student_grouped_df[\"math_score\"].value_counts()\n",
    "# student_grouped_df[\"math_score\"].mean().mean()\n",
    "average_math_score = student_grouped_df[\"math_score\"].mean().mean()\n",
    "# average_math_score"
   ]
  },
  {
   "cell_type": "code",
   "execution_count": 23,
   "id": "d92ab658",
   "metadata": {},
   "outputs": [],
   "source": [
    "# calculate average reading score\n",
    "# use student grouped data frame, filter reading scores for each student, take average, take average\n",
    "# student_grouped_df[\"reading_score\"].value_counts()\n",
    "average_reading_score = student_grouped_df[\"reading_score\"].mean().mean()\n",
    "# average_reading_score"
   ]
  },
  {
   "cell_type": "code",
   "execution_count": 24,
   "id": "fa1dd1e3",
   "metadata": {},
   "outputs": [],
   "source": [
    "# Calculate the percentage of students with a passing math score (70 or greater)\n",
    "# set variable and get value for total students\n",
    "total_students = len(complete_copy_df[\"student_name\"])\n",
    "# total_students"
   ]
  },
  {
   "cell_type": "code",
   "execution_count": 26,
   "id": "57b21084",
   "metadata": {},
   "outputs": [],
   "source": [
    "# find number of students who have a math score of 70 or greater using LOC\n",
    "passing_math_students = complete_copy_df.loc[complete_copy_df[\"math_score\"] >= 70]\n",
    "\n",
    "\n",
    "# print(passing_math_students)\n",
    "\n"
   ]
  },
  {
   "cell_type": "code",
   "execution_count": 28,
   "id": "be5d5b21",
   "metadata": {},
   "outputs": [],
   "source": [
    "# set variable and value for total students who are passing math\n",
    "total_passing_math_students = len(passing_math_students)\n",
    "# total_passing_math_students"
   ]
  },
  {
   "cell_type": "code",
   "execution_count": 30,
   "id": "11f2cf5d",
   "metadata": {},
   "outputs": [],
   "source": [
    "# find number of student who have a math score of 70 or greater\n",
    "passing_reading_students = complete_copy_df.loc[complete_copy_df[\"reading_score\"] >= 70]\n",
    "\n",
    "# print(passing_reading_students)"
   ]
  },
  {
   "cell_type": "code",
   "execution_count": 32,
   "id": "9fa27551",
   "metadata": {},
   "outputs": [],
   "source": [
    "# set variable and value for total students who are passing reading\n",
    "total_passing_reading_students = len(passing_reading_students)\n",
    "# total_passing_reading_students"
   ]
  },
  {
   "cell_type": "code",
   "execution_count": 33,
   "id": "8745b5b6",
   "metadata": {},
   "outputs": [],
   "source": [
    "# calculating percentage of students passing math and percentage of students passing reading passing divide by total student\n",
    "# need to convert to correct data type"
   ]
  },
  {
   "cell_type": "code",
   "execution_count": 35,
   "id": "ed7c6a98",
   "metadata": {},
   "outputs": [],
   "source": [
    "# calculate percent of students passing math\n",
    "percent_passing_math = (total_passing_math_students / total_students) * 100\n",
    "# percent_passing_math"
   ]
  },
  {
   "cell_type": "code",
   "execution_count": 37,
   "id": "9129a416",
   "metadata": {},
   "outputs": [],
   "source": [
    "# calculate percent of students passing reading\n",
    "percent_passing_reading =  (total_passing_reading_students / total_students) * 100\n",
    "# percent_passing_reading"
   ]
  },
  {
   "cell_type": "code",
   "execution_count": 40,
   "id": "59b705c7",
   "metadata": {},
   "outputs": [],
   "source": [
    "# calculate percent of students who passed math and reading\n",
    "# using loc for students who have 70 or greater in math and 70 or greater in reading (dont forget to print)\n",
    "overall_passing = complete_copy_df.loc[(complete_copy_df[\"math_score\"] >= 70) & (complete_copy_df[\"reading_score\"] >= 70)]\n",
    "# print(overall_passing)"
   ]
  },
  {
   "cell_type": "code",
   "execution_count": 41,
   "id": "ef4bf87f",
   "metadata": {},
   "outputs": [],
   "source": [
    "# set variable for total students overall passing, use length function to get value\n",
    "total_overall_passing = len(overall_passing)\n",
    "# total_overall_passing"
   ]
  },
  {
   "cell_type": "code",
   "execution_count": 43,
   "id": "a03cbce8",
   "metadata": {},
   "outputs": [],
   "source": [
    "# find percent of students overall passing\n",
    "percent_overall_passing = (total_overall_passing / total_students) * 100\n",
    "# percent_overall_passing"
   ]
  },
  {
   "cell_type": "code",
   "execution_count": 51,
   "id": "2e647c52",
   "metadata": {},
   "outputs": [],
   "source": [
    "# creating Data Frame with the results\n",
    "results_df = pd.DataFrame({\"Total Schools\": [school_count],\n",
    "                           \"Total Students\": total_students,\n",
    "                           \"Total Budget\": total_budget,\n",
    "                           \"Average Math Score\": average_math_score,\n",
    "                           \"Average Reading Score\": average_reading_score,\n",
    "                           \"% Passing Math\": percent_passing_math,\n",
    "                           \"% Passing Reading\": percent_passing_reading,\n",
    "                           \"% Overall Passing\": percent_overall_passing,})"
   ]
  },
  {
   "cell_type": "code",
   "execution_count": 52,
   "id": "44cf3a1e",
   "metadata": {},
   "outputs": [],
   "source": [
    "# results_df"
   ]
  },
  {
   "cell_type": "code",
   "execution_count": 53,
   "id": "2fec1077",
   "metadata": {},
   "outputs": [],
   "source": [
    "# Formatting Results Data Frame, using Mapping\n",
    "# for total students\n",
    "\n",
    "# for total budget\n",
    "results_df[\"Total Budget\"] = results_df[\"Total Budget\"].map(\"${:,.2f}\".format)\n",
    "# results_df"
   ]
  },
  {
   "cell_type": "code",
   "execution_count": 54,
   "id": "cd3dfb17",
   "metadata": {},
   "outputs": [],
   "source": [
    "# Formatt for total students\n",
    "results_df[\"Total Students\"] = results_df[\"Total Students\"].map(\"{:,}\".format)"
   ]
  },
  {
   "cell_type": "code",
   "execution_count": 56,
   "id": "cf64f1b2",
   "metadata": {},
   "outputs": [
    {
     "data": {
      "text/html": [
       "<div>\n",
       "<style scoped>\n",
       "    .dataframe tbody tr th:only-of-type {\n",
       "        vertical-align: middle;\n",
       "    }\n",
       "\n",
       "    .dataframe tbody tr th {\n",
       "        vertical-align: top;\n",
       "    }\n",
       "\n",
       "    .dataframe thead th {\n",
       "        text-align: right;\n",
       "    }\n",
       "</style>\n",
       "<table border=\"1\" class=\"dataframe\">\n",
       "  <thead>\n",
       "    <tr style=\"text-align: right;\">\n",
       "      <th></th>\n",
       "      <th>Total Schools</th>\n",
       "      <th>Total Students</th>\n",
       "      <th>Total Budget</th>\n",
       "      <th>Average Math Score</th>\n",
       "      <th>Average Reading Score</th>\n",
       "      <th>% Passing Math</th>\n",
       "      <th>% Passing Reading</th>\n",
       "      <th>% Overall Passing</th>\n",
       "    </tr>\n",
       "  </thead>\n",
       "  <tbody>\n",
       "    <tr>\n",
       "      <th>0</th>\n",
       "      <td>15</td>\n",
       "      <td>39,170</td>\n",
       "      <td>$24,649,428.00</td>\n",
       "      <td>78.998341</td>\n",
       "      <td>81.879058</td>\n",
       "      <td>74.980853</td>\n",
       "      <td>85.805463</td>\n",
       "      <td>65.172326</td>\n",
       "    </tr>\n",
       "  </tbody>\n",
       "</table>\n",
       "</div>"
      ],
      "text/plain": [
       "   Total Schools Total Students    Total Budget  Average Math Score  \\\n",
       "0             15         39,170  $24,649,428.00           78.998341   \n",
       "\n",
       "   Average Reading Score  % Passing Math  % Passing Reading  % Overall Passing  \n",
       "0              81.879058       74.980853          85.805463          65.172326  "
      ]
     },
     "execution_count": 56,
     "metadata": {},
     "output_type": "execute_result"
    }
   ],
   "source": [
    "# DISTRICT SUMMARRY TABLE\n",
    "results_df"
   ]
  },
  {
   "cell_type": "code",
   "execution_count": 57,
   "id": "ead85453",
   "metadata": {},
   "outputs": [],
   "source": [
    "# ---------------------------------------------------------------------------------------------------------------------------"
   ]
  },
  {
   "cell_type": "code",
   "execution_count": 58,
   "id": "80e19dcb",
   "metadata": {},
   "outputs": [],
   "source": [
    "# SCHOOL SUMMARY\n",
    "# ----------------------------------------------------------------------------------------------------------------------------\n",
    "# want to use the groupby school name data frame that I already created\n",
    "# use column manipulation to take mean of budget for each school to get the budget for each school\n",
    "# basically a lot of column manipulation on groupby data frames"
   ]
  },
  {
   "cell_type": "code",
   "execution_count": 59,
   "id": "ddfb29a0",
   "metadata": {},
   "outputs": [
    {
     "name": "stdout",
     "output_type": "stream",
     "text": [
      "<pandas.core.groupby.generic.DataFrameGroupBy object at 0x00000277D3C30808>\n"
     ]
    }
   ],
   "source": [
    "# using previously made grouped data frame, which I grouped by school names, Checking counts and value counts, so on\n",
    "print(grouped_df)"
   ]
  },
  {
   "cell_type": "code",
   "execution_count": 60,
   "id": "abd41925",
   "metadata": {},
   "outputs": [
    {
     "data": {
      "text/html": [
       "<div>\n",
       "<style scoped>\n",
       "    .dataframe tbody tr th:only-of-type {\n",
       "        vertical-align: middle;\n",
       "    }\n",
       "\n",
       "    .dataframe tbody tr th {\n",
       "        vertical-align: top;\n",
       "    }\n",
       "\n",
       "    .dataframe thead th {\n",
       "        text-align: right;\n",
       "    }\n",
       "</style>\n",
       "<table border=\"1\" class=\"dataframe\">\n",
       "  <thead>\n",
       "    <tr style=\"text-align: right;\">\n",
       "      <th></th>\n",
       "      <th>Student ID</th>\n",
       "      <th>student_name</th>\n",
       "      <th>gender</th>\n",
       "      <th>grade</th>\n",
       "      <th>reading_score</th>\n",
       "      <th>math_score</th>\n",
       "      <th>School ID</th>\n",
       "      <th>type</th>\n",
       "      <th>size</th>\n",
       "      <th>budget</th>\n",
       "    </tr>\n",
       "    <tr>\n",
       "      <th>school_name</th>\n",
       "      <th></th>\n",
       "      <th></th>\n",
       "      <th></th>\n",
       "      <th></th>\n",
       "      <th></th>\n",
       "      <th></th>\n",
       "      <th></th>\n",
       "      <th></th>\n",
       "      <th></th>\n",
       "      <th></th>\n",
       "    </tr>\n",
       "  </thead>\n",
       "  <tbody>\n",
       "    <tr>\n",
       "      <th>Bailey High School</th>\n",
       "      <td>4976</td>\n",
       "      <td>4976</td>\n",
       "      <td>4976</td>\n",
       "      <td>4976</td>\n",
       "      <td>4976</td>\n",
       "      <td>4976</td>\n",
       "      <td>4976</td>\n",
       "      <td>4976</td>\n",
       "      <td>4976</td>\n",
       "      <td>4976</td>\n",
       "    </tr>\n",
       "    <tr>\n",
       "      <th>Cabrera High School</th>\n",
       "      <td>1858</td>\n",
       "      <td>1858</td>\n",
       "      <td>1858</td>\n",
       "      <td>1858</td>\n",
       "      <td>1858</td>\n",
       "      <td>1858</td>\n",
       "      <td>1858</td>\n",
       "      <td>1858</td>\n",
       "      <td>1858</td>\n",
       "      <td>1858</td>\n",
       "    </tr>\n",
       "    <tr>\n",
       "      <th>Figueroa High School</th>\n",
       "      <td>2949</td>\n",
       "      <td>2949</td>\n",
       "      <td>2949</td>\n",
       "      <td>2949</td>\n",
       "      <td>2949</td>\n",
       "      <td>2949</td>\n",
       "      <td>2949</td>\n",
       "      <td>2949</td>\n",
       "      <td>2949</td>\n",
       "      <td>2949</td>\n",
       "    </tr>\n",
       "    <tr>\n",
       "      <th>Ford High School</th>\n",
       "      <td>2739</td>\n",
       "      <td>2739</td>\n",
       "      <td>2739</td>\n",
       "      <td>2739</td>\n",
       "      <td>2739</td>\n",
       "      <td>2739</td>\n",
       "      <td>2739</td>\n",
       "      <td>2739</td>\n",
       "      <td>2739</td>\n",
       "      <td>2739</td>\n",
       "    </tr>\n",
       "    <tr>\n",
       "      <th>Griffin High School</th>\n",
       "      <td>1468</td>\n",
       "      <td>1468</td>\n",
       "      <td>1468</td>\n",
       "      <td>1468</td>\n",
       "      <td>1468</td>\n",
       "      <td>1468</td>\n",
       "      <td>1468</td>\n",
       "      <td>1468</td>\n",
       "      <td>1468</td>\n",
       "      <td>1468</td>\n",
       "    </tr>\n",
       "    <tr>\n",
       "      <th>Hernandez High School</th>\n",
       "      <td>4635</td>\n",
       "      <td>4635</td>\n",
       "      <td>4635</td>\n",
       "      <td>4635</td>\n",
       "      <td>4635</td>\n",
       "      <td>4635</td>\n",
       "      <td>4635</td>\n",
       "      <td>4635</td>\n",
       "      <td>4635</td>\n",
       "      <td>4635</td>\n",
       "    </tr>\n",
       "    <tr>\n",
       "      <th>Holden High School</th>\n",
       "      <td>427</td>\n",
       "      <td>427</td>\n",
       "      <td>427</td>\n",
       "      <td>427</td>\n",
       "      <td>427</td>\n",
       "      <td>427</td>\n",
       "      <td>427</td>\n",
       "      <td>427</td>\n",
       "      <td>427</td>\n",
       "      <td>427</td>\n",
       "    </tr>\n",
       "    <tr>\n",
       "      <th>Huang High School</th>\n",
       "      <td>2917</td>\n",
       "      <td>2917</td>\n",
       "      <td>2917</td>\n",
       "      <td>2917</td>\n",
       "      <td>2917</td>\n",
       "      <td>2917</td>\n",
       "      <td>2917</td>\n",
       "      <td>2917</td>\n",
       "      <td>2917</td>\n",
       "      <td>2917</td>\n",
       "    </tr>\n",
       "    <tr>\n",
       "      <th>Johnson High School</th>\n",
       "      <td>4761</td>\n",
       "      <td>4761</td>\n",
       "      <td>4761</td>\n",
       "      <td>4761</td>\n",
       "      <td>4761</td>\n",
       "      <td>4761</td>\n",
       "      <td>4761</td>\n",
       "      <td>4761</td>\n",
       "      <td>4761</td>\n",
       "      <td>4761</td>\n",
       "    </tr>\n",
       "    <tr>\n",
       "      <th>Pena High School</th>\n",
       "      <td>962</td>\n",
       "      <td>962</td>\n",
       "      <td>962</td>\n",
       "      <td>962</td>\n",
       "      <td>962</td>\n",
       "      <td>962</td>\n",
       "      <td>962</td>\n",
       "      <td>962</td>\n",
       "      <td>962</td>\n",
       "      <td>962</td>\n",
       "    </tr>\n",
       "    <tr>\n",
       "      <th>Rodriguez High School</th>\n",
       "      <td>3999</td>\n",
       "      <td>3999</td>\n",
       "      <td>3999</td>\n",
       "      <td>3999</td>\n",
       "      <td>3999</td>\n",
       "      <td>3999</td>\n",
       "      <td>3999</td>\n",
       "      <td>3999</td>\n",
       "      <td>3999</td>\n",
       "      <td>3999</td>\n",
       "    </tr>\n",
       "    <tr>\n",
       "      <th>Shelton High School</th>\n",
       "      <td>1761</td>\n",
       "      <td>1761</td>\n",
       "      <td>1761</td>\n",
       "      <td>1761</td>\n",
       "      <td>1761</td>\n",
       "      <td>1761</td>\n",
       "      <td>1761</td>\n",
       "      <td>1761</td>\n",
       "      <td>1761</td>\n",
       "      <td>1761</td>\n",
       "    </tr>\n",
       "    <tr>\n",
       "      <th>Thomas High School</th>\n",
       "      <td>1635</td>\n",
       "      <td>1635</td>\n",
       "      <td>1635</td>\n",
       "      <td>1635</td>\n",
       "      <td>1635</td>\n",
       "      <td>1635</td>\n",
       "      <td>1635</td>\n",
       "      <td>1635</td>\n",
       "      <td>1635</td>\n",
       "      <td>1635</td>\n",
       "    </tr>\n",
       "    <tr>\n",
       "      <th>Wilson High School</th>\n",
       "      <td>2283</td>\n",
       "      <td>2283</td>\n",
       "      <td>2283</td>\n",
       "      <td>2283</td>\n",
       "      <td>2283</td>\n",
       "      <td>2283</td>\n",
       "      <td>2283</td>\n",
       "      <td>2283</td>\n",
       "      <td>2283</td>\n",
       "      <td>2283</td>\n",
       "    </tr>\n",
       "    <tr>\n",
       "      <th>Wright High School</th>\n",
       "      <td>1800</td>\n",
       "      <td>1800</td>\n",
       "      <td>1800</td>\n",
       "      <td>1800</td>\n",
       "      <td>1800</td>\n",
       "      <td>1800</td>\n",
       "      <td>1800</td>\n",
       "      <td>1800</td>\n",
       "      <td>1800</td>\n",
       "      <td>1800</td>\n",
       "    </tr>\n",
       "  </tbody>\n",
       "</table>\n",
       "</div>"
      ],
      "text/plain": [
       "                       Student ID  student_name  gender  grade  reading_score  \\\n",
       "school_name                                                                     \n",
       "Bailey High School           4976          4976    4976   4976           4976   \n",
       "Cabrera High School          1858          1858    1858   1858           1858   \n",
       "Figueroa High School         2949          2949    2949   2949           2949   \n",
       "Ford High School             2739          2739    2739   2739           2739   \n",
       "Griffin High School          1468          1468    1468   1468           1468   \n",
       "Hernandez High School        4635          4635    4635   4635           4635   \n",
       "Holden High School            427           427     427    427            427   \n",
       "Huang High School            2917          2917    2917   2917           2917   \n",
       "Johnson High School          4761          4761    4761   4761           4761   \n",
       "Pena High School              962           962     962    962            962   \n",
       "Rodriguez High School        3999          3999    3999   3999           3999   \n",
       "Shelton High School          1761          1761    1761   1761           1761   \n",
       "Thomas High School           1635          1635    1635   1635           1635   \n",
       "Wilson High School           2283          2283    2283   2283           2283   \n",
       "Wright High School           1800          1800    1800   1800           1800   \n",
       "\n",
       "                       math_score  School ID  type  size  budget  \n",
       "school_name                                                       \n",
       "Bailey High School           4976       4976  4976  4976    4976  \n",
       "Cabrera High School          1858       1858  1858  1858    1858  \n",
       "Figueroa High School         2949       2949  2949  2949    2949  \n",
       "Ford High School             2739       2739  2739  2739    2739  \n",
       "Griffin High School          1468       1468  1468  1468    1468  \n",
       "Hernandez High School        4635       4635  4635  4635    4635  \n",
       "Holden High School            427        427   427   427     427  \n",
       "Huang High School            2917       2917  2917  2917    2917  \n",
       "Johnson High School          4761       4761  4761  4761    4761  \n",
       "Pena High School              962        962   962   962     962  \n",
       "Rodriguez High School        3999       3999  3999  3999    3999  \n",
       "Shelton High School          1761       1761  1761  1761    1761  \n",
       "Thomas High School           1635       1635  1635  1635    1635  \n",
       "Wilson High School           2283       2283  2283  2283    2283  \n",
       "Wright High School           1800       1800  1800  1800    1800  "
      ]
     },
     "execution_count": 60,
     "metadata": {},
     "output_type": "execute_result"
    }
   ],
   "source": [
    "# what I see from this is that the count of Student ID series with give me the total students per school\n",
    "# so just total students (=) will be grouped_df[\"Student ID\"].count then change column title in new data frame\n",
    "# total school budget I already have, the variable is saved as school_budget_df\n",
    "# budget per student will be new column that calculates school budget / total students\n",
    "# school type (=) will be grouped_df[\"type\"].value_counts()\n",
    "grouped_df.count()"
   ]
  },
  {
   "cell_type": "code",
   "execution_count": 61,
   "id": "ab6c169b",
   "metadata": {},
   "outputs": [],
   "source": [
    "# Setting Variable and finding value for average math score by school\n",
    "school_summary_math_score = grouped_df[\"math_score\"].mean()\n",
    "# school_summary_math_score"
   ]
  },
  {
   "cell_type": "code",
   "execution_count": 62,
   "id": "dc09a63e",
   "metadata": {},
   "outputs": [],
   "source": [
    "# Setting Variable and finding values for average reading score by school\n",
    "school_summary_reading_score = grouped_df[\"reading_score\"].mean()\n",
    "# school_summary_reading_score"
   ]
  },
  {
   "cell_type": "code",
   "execution_count": 64,
   "id": "257872fe",
   "metadata": {},
   "outputs": [],
   "source": [
    "# OVER THINKING\n",
    "# create the varibales and the values for the columns first \n",
    "# create another copy of the complete df and add these columns to that copy\n",
    "# then make a groupby data frame for the summary with the columns you want\n",
    "# so still use .loc in the 2nd copy of the complete data frame"
   ]
  },
  {
   "cell_type": "code",
   "execution_count": 65,
   "id": "c4862908",
   "metadata": {},
   "outputs": [],
   "source": [
    "# Copy of complete df for school summary table section\n",
    "school_summary_copy_df = complete_df.copy()\n",
    "# school_summary_copy_df"
   ]
  },
  {
   "cell_type": "code",
   "execution_count": 66,
   "id": "03b899a9",
   "metadata": {},
   "outputs": [],
   "source": [
    "# Defining and setting variables for students passing math, students passing reading, and students passing both reading and math\n",
    "# ------------------------------------------------------------------------------------------------------------------------------\n",
    "# Students Passing Math\n",
    "school_summary_passing_math_df = school_summary_copy_df.loc[school_summary_copy_df[\"math_score\"] >= 70]\n",
    "math_summary = school_summary_passing_math_df[\"school_name\"].value_counts()"
   ]
  },
  {
   "cell_type": "code",
   "execution_count": 67,
   "id": "98bab89a",
   "metadata": {},
   "outputs": [],
   "source": [
    "# Students Passing Reading\n",
    "school_summary_passing_reading_df = school_summary_copy_df.loc[school_summary_copy_df[\"reading_score\"] >= 70]\n",
    "reading_summary = school_summary_passing_reading_df[\"school_name\"].value_counts()"
   ]
  },
  {
   "cell_type": "code",
   "execution_count": 68,
   "id": "36a5745b",
   "metadata": {},
   "outputs": [],
   "source": [
    "# Students Passing both Math and Reading\n",
    "school_summary_passing_overall_df = school_summary_copy_df.loc[(school_summary_copy_df[\"math_score\"] >= 70) & (school_summary_copy_df[\"reading_score\"] >= 70)]\n",
    "overall_summary = school_summary_passing_overall_df[\"school_name\"].value_counts()"
   ]
  },
  {
   "cell_type": "code",
   "execution_count": 69,
   "id": "a9405934",
   "metadata": {},
   "outputs": [],
   "source": [
    "# Setting variable and value for school budgets\n",
    "# already have school budgets variable\n",
    "# school_budgets_df"
   ]
  },
  {
   "cell_type": "code",
   "execution_count": 70,
   "id": "0e553b08",
   "metadata": {},
   "outputs": [],
   "source": [
    "# Setting Variable for total students\n",
    "school_summary_total_students = grouped_df[\"student_name\"].count()\n",
    "# school_summary_total_students"
   ]
  },
  {
   "cell_type": "code",
   "execution_count": 71,
   "id": "92bc3548",
   "metadata": {},
   "outputs": [],
   "source": [
    "# Setting variable for school type\n",
    "# grouped_df[\"type\"].unique()\n",
    "school_type = grouped_df[\"type\"].unique()\n",
    "# school_type"
   ]
  },
  {
   "cell_type": "code",
   "execution_count": 72,
   "id": "81996fa8",
   "metadata": {},
   "outputs": [],
   "source": [
    "# Setting variable for and calculating % passing math for each school \n",
    "percent_math = (math_summary / school_summary_total_students) * 100\n",
    "# percent_math"
   ]
  },
  {
   "cell_type": "code",
   "execution_count": 73,
   "id": "e53e3a64",
   "metadata": {},
   "outputs": [],
   "source": [
    "# Setting variable for and calvulating % passing reading for each school\n",
    "percent_reading = (reading_summary / school_summary_total_students) * 100\n",
    "# percent_reading"
   ]
  },
  {
   "cell_type": "code",
   "execution_count": 74,
   "id": "2a448f3f",
   "metadata": {},
   "outputs": [],
   "source": [
    "# Setting variable for and calculation % overall passing for each school\n",
    "overall_percent = (overall_summary / school_summary_total_students) * 100\n",
    "# overall_percent"
   ]
  },
  {
   "cell_type": "code",
   "execution_count": 75,
   "id": "1736148d",
   "metadata": {},
   "outputs": [],
   "source": [
    "# Setting variable for and calculating budget per student at each school\n",
    "per_student_budget = (school_budgets_df / school_summary_total_students)\n",
    "# per_student_budget"
   ]
  },
  {
   "cell_type": "code",
   "execution_count": 76,
   "id": "aef6d73c",
   "metadata": {},
   "outputs": [],
   "source": [
    "# Creating new data frame school summary\n",
    "school_summary_table = pd.DataFrame({\"School Type\": school_type,\n",
    "                                    \"Total Students\": school_summary_total_students,\n",
    "                                    \"Total School Budget\": school_budgets_df,\n",
    "                                    \"Per Student Budget\": per_student_budget,\n",
    "                                    \"Average Math Score\": school_summary_math_score,\n",
    "                                    \"Average Reading Score\": school_summary_reading_score,\n",
    "                                    \"% Passing Math\": percent_math,\n",
    "                                    \"% Passing Reading\": percent_reading,\n",
    "                                    \"% Overall Passing\": overall_percent})\n",
    "# school_summary_table"
   ]
  },
  {
   "cell_type": "code",
   "execution_count": 77,
   "id": "6a3c987e",
   "metadata": {},
   "outputs": [],
   "source": [
    "# Formatting School Summary Table Using Mapping\n",
    "school_summary_table[\"Total School Budget\"] = school_summary_table[\"Total School Budget\"].map(\"${:,.2f}\".format)\n",
    "school_summary_table[\"Per Student Budget\"] = school_summary_table[\"Per Student Budget\"].map(\"${:,.2f}\".format)"
   ]
  },
  {
   "cell_type": "code",
   "execution_count": 78,
   "id": "02164fb9",
   "metadata": {},
   "outputs": [
    {
     "data": {
      "text/html": [
       "<div>\n",
       "<style scoped>\n",
       "    .dataframe tbody tr th:only-of-type {\n",
       "        vertical-align: middle;\n",
       "    }\n",
       "\n",
       "    .dataframe tbody tr th {\n",
       "        vertical-align: top;\n",
       "    }\n",
       "\n",
       "    .dataframe thead th {\n",
       "        text-align: right;\n",
       "    }\n",
       "</style>\n",
       "<table border=\"1\" class=\"dataframe\">\n",
       "  <thead>\n",
       "    <tr style=\"text-align: right;\">\n",
       "      <th></th>\n",
       "      <th>School Type</th>\n",
       "      <th>Total Students</th>\n",
       "      <th>Total School Budget</th>\n",
       "      <th>Per Student Budget</th>\n",
       "      <th>Average Math Score</th>\n",
       "      <th>Average Reading Score</th>\n",
       "      <th>% Passing Math</th>\n",
       "      <th>% Passing Reading</th>\n",
       "      <th>% Overall Passing</th>\n",
       "    </tr>\n",
       "    <tr>\n",
       "      <th>school_name</th>\n",
       "      <th></th>\n",
       "      <th></th>\n",
       "      <th></th>\n",
       "      <th></th>\n",
       "      <th></th>\n",
       "      <th></th>\n",
       "      <th></th>\n",
       "      <th></th>\n",
       "      <th></th>\n",
       "    </tr>\n",
       "  </thead>\n",
       "  <tbody>\n",
       "    <tr>\n",
       "      <th>Bailey High School</th>\n",
       "      <td>[District]</td>\n",
       "      <td>4976</td>\n",
       "      <td>$3,124,928.00</td>\n",
       "      <td>$628.00</td>\n",
       "      <td>77.048432</td>\n",
       "      <td>81.033963</td>\n",
       "      <td>66.680064</td>\n",
       "      <td>81.933280</td>\n",
       "      <td>54.642283</td>\n",
       "    </tr>\n",
       "    <tr>\n",
       "      <th>Cabrera High School</th>\n",
       "      <td>[Charter]</td>\n",
       "      <td>1858</td>\n",
       "      <td>$1,081,356.00</td>\n",
       "      <td>$582.00</td>\n",
       "      <td>83.061895</td>\n",
       "      <td>83.975780</td>\n",
       "      <td>94.133477</td>\n",
       "      <td>97.039828</td>\n",
       "      <td>91.334769</td>\n",
       "    </tr>\n",
       "    <tr>\n",
       "      <th>Figueroa High School</th>\n",
       "      <td>[District]</td>\n",
       "      <td>2949</td>\n",
       "      <td>$1,884,411.00</td>\n",
       "      <td>$639.00</td>\n",
       "      <td>76.711767</td>\n",
       "      <td>81.158020</td>\n",
       "      <td>65.988471</td>\n",
       "      <td>80.739234</td>\n",
       "      <td>53.204476</td>\n",
       "    </tr>\n",
       "    <tr>\n",
       "      <th>Ford High School</th>\n",
       "      <td>[District]</td>\n",
       "      <td>2739</td>\n",
       "      <td>$1,763,916.00</td>\n",
       "      <td>$644.00</td>\n",
       "      <td>77.102592</td>\n",
       "      <td>80.746258</td>\n",
       "      <td>68.309602</td>\n",
       "      <td>79.299014</td>\n",
       "      <td>54.289887</td>\n",
       "    </tr>\n",
       "    <tr>\n",
       "      <th>Griffin High School</th>\n",
       "      <td>[Charter]</td>\n",
       "      <td>1468</td>\n",
       "      <td>$917,500.00</td>\n",
       "      <td>$625.00</td>\n",
       "      <td>83.351499</td>\n",
       "      <td>83.816757</td>\n",
       "      <td>93.392371</td>\n",
       "      <td>97.138965</td>\n",
       "      <td>90.599455</td>\n",
       "    </tr>\n",
       "    <tr>\n",
       "      <th>Hernandez High School</th>\n",
       "      <td>[District]</td>\n",
       "      <td>4635</td>\n",
       "      <td>$3,022,020.00</td>\n",
       "      <td>$652.00</td>\n",
       "      <td>77.289752</td>\n",
       "      <td>80.934412</td>\n",
       "      <td>66.752967</td>\n",
       "      <td>80.862999</td>\n",
       "      <td>53.527508</td>\n",
       "    </tr>\n",
       "    <tr>\n",
       "      <th>Holden High School</th>\n",
       "      <td>[Charter]</td>\n",
       "      <td>427</td>\n",
       "      <td>$248,087.00</td>\n",
       "      <td>$581.00</td>\n",
       "      <td>83.803279</td>\n",
       "      <td>83.814988</td>\n",
       "      <td>92.505855</td>\n",
       "      <td>96.252927</td>\n",
       "      <td>89.227166</td>\n",
       "    </tr>\n",
       "    <tr>\n",
       "      <th>Huang High School</th>\n",
       "      <td>[District]</td>\n",
       "      <td>2917</td>\n",
       "      <td>$1,910,635.00</td>\n",
       "      <td>$655.00</td>\n",
       "      <td>76.629414</td>\n",
       "      <td>81.182722</td>\n",
       "      <td>65.683922</td>\n",
       "      <td>81.316421</td>\n",
       "      <td>53.513884</td>\n",
       "    </tr>\n",
       "    <tr>\n",
       "      <th>Johnson High School</th>\n",
       "      <td>[District]</td>\n",
       "      <td>4761</td>\n",
       "      <td>$3,094,650.00</td>\n",
       "      <td>$650.00</td>\n",
       "      <td>77.072464</td>\n",
       "      <td>80.966394</td>\n",
       "      <td>66.057551</td>\n",
       "      <td>81.222432</td>\n",
       "      <td>53.539172</td>\n",
       "    </tr>\n",
       "    <tr>\n",
       "      <th>Pena High School</th>\n",
       "      <td>[Charter]</td>\n",
       "      <td>962</td>\n",
       "      <td>$585,858.00</td>\n",
       "      <td>$609.00</td>\n",
       "      <td>83.839917</td>\n",
       "      <td>84.044699</td>\n",
       "      <td>94.594595</td>\n",
       "      <td>95.945946</td>\n",
       "      <td>90.540541</td>\n",
       "    </tr>\n",
       "    <tr>\n",
       "      <th>Rodriguez High School</th>\n",
       "      <td>[District]</td>\n",
       "      <td>3999</td>\n",
       "      <td>$2,547,363.00</td>\n",
       "      <td>$637.00</td>\n",
       "      <td>76.842711</td>\n",
       "      <td>80.744686</td>\n",
       "      <td>66.366592</td>\n",
       "      <td>80.220055</td>\n",
       "      <td>52.988247</td>\n",
       "    </tr>\n",
       "    <tr>\n",
       "      <th>Shelton High School</th>\n",
       "      <td>[Charter]</td>\n",
       "      <td>1761</td>\n",
       "      <td>$1,056,600.00</td>\n",
       "      <td>$600.00</td>\n",
       "      <td>83.359455</td>\n",
       "      <td>83.725724</td>\n",
       "      <td>93.867121</td>\n",
       "      <td>95.854628</td>\n",
       "      <td>89.892107</td>\n",
       "    </tr>\n",
       "    <tr>\n",
       "      <th>Thomas High School</th>\n",
       "      <td>[Charter]</td>\n",
       "      <td>1635</td>\n",
       "      <td>$1,043,130.00</td>\n",
       "      <td>$638.00</td>\n",
       "      <td>83.418349</td>\n",
       "      <td>83.848930</td>\n",
       "      <td>93.272171</td>\n",
       "      <td>97.308869</td>\n",
       "      <td>90.948012</td>\n",
       "    </tr>\n",
       "    <tr>\n",
       "      <th>Wilson High School</th>\n",
       "      <td>[Charter]</td>\n",
       "      <td>2283</td>\n",
       "      <td>$1,319,574.00</td>\n",
       "      <td>$578.00</td>\n",
       "      <td>83.274201</td>\n",
       "      <td>83.989488</td>\n",
       "      <td>93.867718</td>\n",
       "      <td>96.539641</td>\n",
       "      <td>90.582567</td>\n",
       "    </tr>\n",
       "    <tr>\n",
       "      <th>Wright High School</th>\n",
       "      <td>[Charter]</td>\n",
       "      <td>1800</td>\n",
       "      <td>$1,049,400.00</td>\n",
       "      <td>$583.00</td>\n",
       "      <td>83.682222</td>\n",
       "      <td>83.955000</td>\n",
       "      <td>93.333333</td>\n",
       "      <td>96.611111</td>\n",
       "      <td>90.333333</td>\n",
       "    </tr>\n",
       "  </tbody>\n",
       "</table>\n",
       "</div>"
      ],
      "text/plain": [
       "                      School Type  Total Students Total School Budget  \\\n",
       "school_name                                                             \n",
       "Bailey High School     [District]            4976       $3,124,928.00   \n",
       "Cabrera High School     [Charter]            1858       $1,081,356.00   \n",
       "Figueroa High School   [District]            2949       $1,884,411.00   \n",
       "Ford High School       [District]            2739       $1,763,916.00   \n",
       "Griffin High School     [Charter]            1468         $917,500.00   \n",
       "Hernandez High School  [District]            4635       $3,022,020.00   \n",
       "Holden High School      [Charter]             427         $248,087.00   \n",
       "Huang High School      [District]            2917       $1,910,635.00   \n",
       "Johnson High School    [District]            4761       $3,094,650.00   \n",
       "Pena High School        [Charter]             962         $585,858.00   \n",
       "Rodriguez High School  [District]            3999       $2,547,363.00   \n",
       "Shelton High School     [Charter]            1761       $1,056,600.00   \n",
       "Thomas High School      [Charter]            1635       $1,043,130.00   \n",
       "Wilson High School      [Charter]            2283       $1,319,574.00   \n",
       "Wright High School      [Charter]            1800       $1,049,400.00   \n",
       "\n",
       "                      Per Student Budget  Average Math Score  \\\n",
       "school_name                                                    \n",
       "Bailey High School               $628.00           77.048432   \n",
       "Cabrera High School              $582.00           83.061895   \n",
       "Figueroa High School             $639.00           76.711767   \n",
       "Ford High School                 $644.00           77.102592   \n",
       "Griffin High School              $625.00           83.351499   \n",
       "Hernandez High School            $652.00           77.289752   \n",
       "Holden High School               $581.00           83.803279   \n",
       "Huang High School                $655.00           76.629414   \n",
       "Johnson High School              $650.00           77.072464   \n",
       "Pena High School                 $609.00           83.839917   \n",
       "Rodriguez High School            $637.00           76.842711   \n",
       "Shelton High School              $600.00           83.359455   \n",
       "Thomas High School               $638.00           83.418349   \n",
       "Wilson High School               $578.00           83.274201   \n",
       "Wright High School               $583.00           83.682222   \n",
       "\n",
       "                       Average Reading Score  % Passing Math  \\\n",
       "school_name                                                    \n",
       "Bailey High School                 81.033963       66.680064   \n",
       "Cabrera High School                83.975780       94.133477   \n",
       "Figueroa High School               81.158020       65.988471   \n",
       "Ford High School                   80.746258       68.309602   \n",
       "Griffin High School                83.816757       93.392371   \n",
       "Hernandez High School              80.934412       66.752967   \n",
       "Holden High School                 83.814988       92.505855   \n",
       "Huang High School                  81.182722       65.683922   \n",
       "Johnson High School                80.966394       66.057551   \n",
       "Pena High School                   84.044699       94.594595   \n",
       "Rodriguez High School              80.744686       66.366592   \n",
       "Shelton High School                83.725724       93.867121   \n",
       "Thomas High School                 83.848930       93.272171   \n",
       "Wilson High School                 83.989488       93.867718   \n",
       "Wright High School                 83.955000       93.333333   \n",
       "\n",
       "                       % Passing Reading  % Overall Passing  \n",
       "school_name                                                  \n",
       "Bailey High School             81.933280          54.642283  \n",
       "Cabrera High School            97.039828          91.334769  \n",
       "Figueroa High School           80.739234          53.204476  \n",
       "Ford High School               79.299014          54.289887  \n",
       "Griffin High School            97.138965          90.599455  \n",
       "Hernandez High School          80.862999          53.527508  \n",
       "Holden High School             96.252927          89.227166  \n",
       "Huang High School              81.316421          53.513884  \n",
       "Johnson High School            81.222432          53.539172  \n",
       "Pena High School               95.945946          90.540541  \n",
       "Rodriguez High School          80.220055          52.988247  \n",
       "Shelton High School            95.854628          89.892107  \n",
       "Thomas High School             97.308869          90.948012  \n",
       "Wilson High School             96.539641          90.582567  \n",
       "Wright High School             96.611111          90.333333  "
      ]
     },
     "execution_count": 78,
     "metadata": {},
     "output_type": "execute_result"
    }
   ],
   "source": [
    "# SCHOOL SUMMARY TABLE\n",
    "school_summary_table"
   ]
  },
  {
   "cell_type": "code",
   "execution_count": 79,
   "id": "71228663",
   "metadata": {},
   "outputs": [
    {
     "data": {
      "text/plain": [
       "Index(['School Type', 'Total Students', 'Total School Budget',\n",
       "       'Per Student Budget', 'Average Math Score', 'Average Reading Score',\n",
       "       '% Passing Math', '% Passing Reading', '% Overall Passing'],\n",
       "      dtype='object')"
      ]
     },
     "execution_count": 79,
     "metadata": {},
     "output_type": "execute_result"
    }
   ],
   "source": [
    "school_summary_table.columns"
   ]
  },
  {
   "cell_type": "code",
   "execution_count": 80,
   "id": "2d1142dc",
   "metadata": {},
   "outputs": [
    {
     "data": {
      "text/plain": [
       "Index(['Bailey High School', 'Cabrera High School', 'Figueroa High School',\n",
       "       'Ford High School', 'Griffin High School', 'Hernandez High School',\n",
       "       'Holden High School', 'Huang High School', 'Johnson High School',\n",
       "       'Pena High School', 'Rodriguez High School', 'Shelton High School',\n",
       "       'Thomas High School', 'Wilson High School', 'Wright High School'],\n",
       "      dtype='object', name='school_name')"
      ]
     },
     "execution_count": 80,
     "metadata": {},
     "output_type": "execute_result"
    }
   ],
   "source": [
    "school_summary_table.index"
   ]
  },
  {
   "cell_type": "code",
   "execution_count": 81,
   "id": "2287ddc1",
   "metadata": {},
   "outputs": [],
   "source": [
    "# NEED TO ASK ABOUT GETTING RID OF BRACKETS AROUND OBJECTS IN SCHOOL TYPE\n",
    "# NEED TO ASK ABOUT HIDING INDEX NAME (school_name)"
   ]
  },
  {
   "cell_type": "code",
   "execution_count": 82,
   "id": "6b1cab06",
   "metadata": {},
   "outputs": [],
   "source": [
    "# ----------------------------------------------------------------------------------------------------------"
   ]
  },
  {
   "cell_type": "code",
   "execution_count": 83,
   "id": "ac6b60c3",
   "metadata": {},
   "outputs": [],
   "source": [
    "# TOP PERFORMING SCHOOLS (BY % OVERALL PASSING)\n",
    "# ----------------------------------------------------------------------------------------------------------"
   ]
  },
  {
   "cell_type": "code",
   "execution_count": 84,
   "id": "0f1e5455",
   "metadata": {},
   "outputs": [
    {
     "data": {
      "text/html": [
       "<div>\n",
       "<style scoped>\n",
       "    .dataframe tbody tr th:only-of-type {\n",
       "        vertical-align: middle;\n",
       "    }\n",
       "\n",
       "    .dataframe tbody tr th {\n",
       "        vertical-align: top;\n",
       "    }\n",
       "\n",
       "    .dataframe thead th {\n",
       "        text-align: right;\n",
       "    }\n",
       "</style>\n",
       "<table border=\"1\" class=\"dataframe\">\n",
       "  <thead>\n",
       "    <tr style=\"text-align: right;\">\n",
       "      <th></th>\n",
       "      <th>School Type</th>\n",
       "      <th>Total Students</th>\n",
       "      <th>Total School Budget</th>\n",
       "      <th>Per Student Budget</th>\n",
       "      <th>Average Math Score</th>\n",
       "      <th>Average Reading Score</th>\n",
       "      <th>% Passing Math</th>\n",
       "      <th>% Passing Reading</th>\n",
       "      <th>% Overall Passing</th>\n",
       "    </tr>\n",
       "    <tr>\n",
       "      <th>school_name</th>\n",
       "      <th></th>\n",
       "      <th></th>\n",
       "      <th></th>\n",
       "      <th></th>\n",
       "      <th></th>\n",
       "      <th></th>\n",
       "      <th></th>\n",
       "      <th></th>\n",
       "      <th></th>\n",
       "    </tr>\n",
       "  </thead>\n",
       "  <tbody>\n",
       "    <tr>\n",
       "      <th>Cabrera High School</th>\n",
       "      <td>[Charter]</td>\n",
       "      <td>1858</td>\n",
       "      <td>$1,081,356.00</td>\n",
       "      <td>$582.00</td>\n",
       "      <td>83.061895</td>\n",
       "      <td>83.975780</td>\n",
       "      <td>94.133477</td>\n",
       "      <td>97.039828</td>\n",
       "      <td>91.334769</td>\n",
       "    </tr>\n",
       "    <tr>\n",
       "      <th>Thomas High School</th>\n",
       "      <td>[Charter]</td>\n",
       "      <td>1635</td>\n",
       "      <td>$1,043,130.00</td>\n",
       "      <td>$638.00</td>\n",
       "      <td>83.418349</td>\n",
       "      <td>83.848930</td>\n",
       "      <td>93.272171</td>\n",
       "      <td>97.308869</td>\n",
       "      <td>90.948012</td>\n",
       "    </tr>\n",
       "    <tr>\n",
       "      <th>Griffin High School</th>\n",
       "      <td>[Charter]</td>\n",
       "      <td>1468</td>\n",
       "      <td>$917,500.00</td>\n",
       "      <td>$625.00</td>\n",
       "      <td>83.351499</td>\n",
       "      <td>83.816757</td>\n",
       "      <td>93.392371</td>\n",
       "      <td>97.138965</td>\n",
       "      <td>90.599455</td>\n",
       "    </tr>\n",
       "    <tr>\n",
       "      <th>Wilson High School</th>\n",
       "      <td>[Charter]</td>\n",
       "      <td>2283</td>\n",
       "      <td>$1,319,574.00</td>\n",
       "      <td>$578.00</td>\n",
       "      <td>83.274201</td>\n",
       "      <td>83.989488</td>\n",
       "      <td>93.867718</td>\n",
       "      <td>96.539641</td>\n",
       "      <td>90.582567</td>\n",
       "    </tr>\n",
       "    <tr>\n",
       "      <th>Pena High School</th>\n",
       "      <td>[Charter]</td>\n",
       "      <td>962</td>\n",
       "      <td>$585,858.00</td>\n",
       "      <td>$609.00</td>\n",
       "      <td>83.839917</td>\n",
       "      <td>84.044699</td>\n",
       "      <td>94.594595</td>\n",
       "      <td>95.945946</td>\n",
       "      <td>90.540541</td>\n",
       "    </tr>\n",
       "  </tbody>\n",
       "</table>\n",
       "</div>"
      ],
      "text/plain": [
       "                    School Type  Total Students Total School Budget  \\\n",
       "school_name                                                           \n",
       "Cabrera High School   [Charter]            1858       $1,081,356.00   \n",
       "Thomas High School    [Charter]            1635       $1,043,130.00   \n",
       "Griffin High School   [Charter]            1468         $917,500.00   \n",
       "Wilson High School    [Charter]            2283       $1,319,574.00   \n",
       "Pena High School      [Charter]             962         $585,858.00   \n",
       "\n",
       "                    Per Student Budget  Average Math Score  \\\n",
       "school_name                                                  \n",
       "Cabrera High School            $582.00           83.061895   \n",
       "Thomas High School             $638.00           83.418349   \n",
       "Griffin High School            $625.00           83.351499   \n",
       "Wilson High School             $578.00           83.274201   \n",
       "Pena High School               $609.00           83.839917   \n",
       "\n",
       "                     Average Reading Score  % Passing Math  % Passing Reading  \\\n",
       "school_name                                                                     \n",
       "Cabrera High School              83.975780       94.133477          97.039828   \n",
       "Thomas High School               83.848930       93.272171          97.308869   \n",
       "Griffin High School              83.816757       93.392371          97.138965   \n",
       "Wilson High School               83.989488       93.867718          96.539641   \n",
       "Pena High School                 84.044699       94.594595          95.945946   \n",
       "\n",
       "                     % Overall Passing  \n",
       "school_name                             \n",
       "Cabrera High School          91.334769  \n",
       "Thomas High School           90.948012  \n",
       "Griffin High School          90.599455  \n",
       "Wilson High School           90.582567  \n",
       "Pena High School             90.540541  "
      ]
     },
     "execution_count": 84,
     "metadata": {},
     "output_type": "execute_result"
    }
   ],
   "source": [
    "# Sorting and displaying the top five performing schools by % overall passing\n",
    "top_performing_df = school_summary_table.sort_values(\"% Overall Passing\", ascending=False)\n",
    "top_performing_df.head()"
   ]
  },
  {
   "cell_type": "code",
   "execution_count": 85,
   "id": "9da26d17",
   "metadata": {},
   "outputs": [],
   "source": [
    "# ------------------------------------------------------------------------------------------"
   ]
  },
  {
   "cell_type": "code",
   "execution_count": 86,
   "id": "f7a99cca",
   "metadata": {},
   "outputs": [],
   "source": [
    "# BOTTOM PERFORMING SCHOOLS (BY % OVERALL PASSING)\n",
    "# -----------------------------------------------------------------------------------------"
   ]
  },
  {
   "cell_type": "code",
   "execution_count": 87,
   "id": "4a4f97d7",
   "metadata": {},
   "outputs": [
    {
     "data": {
      "text/html": [
       "<div>\n",
       "<style scoped>\n",
       "    .dataframe tbody tr th:only-of-type {\n",
       "        vertical-align: middle;\n",
       "    }\n",
       "\n",
       "    .dataframe tbody tr th {\n",
       "        vertical-align: top;\n",
       "    }\n",
       "\n",
       "    .dataframe thead th {\n",
       "        text-align: right;\n",
       "    }\n",
       "</style>\n",
       "<table border=\"1\" class=\"dataframe\">\n",
       "  <thead>\n",
       "    <tr style=\"text-align: right;\">\n",
       "      <th></th>\n",
       "      <th>School Type</th>\n",
       "      <th>Total Students</th>\n",
       "      <th>Total School Budget</th>\n",
       "      <th>Per Student Budget</th>\n",
       "      <th>Average Math Score</th>\n",
       "      <th>Average Reading Score</th>\n",
       "      <th>% Passing Math</th>\n",
       "      <th>% Passing Reading</th>\n",
       "      <th>% Overall Passing</th>\n",
       "    </tr>\n",
       "    <tr>\n",
       "      <th>school_name</th>\n",
       "      <th></th>\n",
       "      <th></th>\n",
       "      <th></th>\n",
       "      <th></th>\n",
       "      <th></th>\n",
       "      <th></th>\n",
       "      <th></th>\n",
       "      <th></th>\n",
       "      <th></th>\n",
       "    </tr>\n",
       "  </thead>\n",
       "  <tbody>\n",
       "    <tr>\n",
       "      <th>Rodriguez High School</th>\n",
       "      <td>[District]</td>\n",
       "      <td>3999</td>\n",
       "      <td>$2,547,363.00</td>\n",
       "      <td>$637.00</td>\n",
       "      <td>76.842711</td>\n",
       "      <td>80.744686</td>\n",
       "      <td>66.366592</td>\n",
       "      <td>80.220055</td>\n",
       "      <td>52.988247</td>\n",
       "    </tr>\n",
       "    <tr>\n",
       "      <th>Figueroa High School</th>\n",
       "      <td>[District]</td>\n",
       "      <td>2949</td>\n",
       "      <td>$1,884,411.00</td>\n",
       "      <td>$639.00</td>\n",
       "      <td>76.711767</td>\n",
       "      <td>81.158020</td>\n",
       "      <td>65.988471</td>\n",
       "      <td>80.739234</td>\n",
       "      <td>53.204476</td>\n",
       "    </tr>\n",
       "    <tr>\n",
       "      <th>Huang High School</th>\n",
       "      <td>[District]</td>\n",
       "      <td>2917</td>\n",
       "      <td>$1,910,635.00</td>\n",
       "      <td>$655.00</td>\n",
       "      <td>76.629414</td>\n",
       "      <td>81.182722</td>\n",
       "      <td>65.683922</td>\n",
       "      <td>81.316421</td>\n",
       "      <td>53.513884</td>\n",
       "    </tr>\n",
       "    <tr>\n",
       "      <th>Hernandez High School</th>\n",
       "      <td>[District]</td>\n",
       "      <td>4635</td>\n",
       "      <td>$3,022,020.00</td>\n",
       "      <td>$652.00</td>\n",
       "      <td>77.289752</td>\n",
       "      <td>80.934412</td>\n",
       "      <td>66.752967</td>\n",
       "      <td>80.862999</td>\n",
       "      <td>53.527508</td>\n",
       "    </tr>\n",
       "    <tr>\n",
       "      <th>Johnson High School</th>\n",
       "      <td>[District]</td>\n",
       "      <td>4761</td>\n",
       "      <td>$3,094,650.00</td>\n",
       "      <td>$650.00</td>\n",
       "      <td>77.072464</td>\n",
       "      <td>80.966394</td>\n",
       "      <td>66.057551</td>\n",
       "      <td>81.222432</td>\n",
       "      <td>53.539172</td>\n",
       "    </tr>\n",
       "  </tbody>\n",
       "</table>\n",
       "</div>"
      ],
      "text/plain": [
       "                      School Type  Total Students Total School Budget  \\\n",
       "school_name                                                             \n",
       "Rodriguez High School  [District]            3999       $2,547,363.00   \n",
       "Figueroa High School   [District]            2949       $1,884,411.00   \n",
       "Huang High School      [District]            2917       $1,910,635.00   \n",
       "Hernandez High School  [District]            4635       $3,022,020.00   \n",
       "Johnson High School    [District]            4761       $3,094,650.00   \n",
       "\n",
       "                      Per Student Budget  Average Math Score  \\\n",
       "school_name                                                    \n",
       "Rodriguez High School            $637.00           76.842711   \n",
       "Figueroa High School             $639.00           76.711767   \n",
       "Huang High School                $655.00           76.629414   \n",
       "Hernandez High School            $652.00           77.289752   \n",
       "Johnson High School              $650.00           77.072464   \n",
       "\n",
       "                       Average Reading Score  % Passing Math  \\\n",
       "school_name                                                    \n",
       "Rodriguez High School              80.744686       66.366592   \n",
       "Figueroa High School               81.158020       65.988471   \n",
       "Huang High School                  81.182722       65.683922   \n",
       "Hernandez High School              80.934412       66.752967   \n",
       "Johnson High School                80.966394       66.057551   \n",
       "\n",
       "                       % Passing Reading  % Overall Passing  \n",
       "school_name                                                  \n",
       "Rodriguez High School          80.220055          52.988247  \n",
       "Figueroa High School           80.739234          53.204476  \n",
       "Huang High School              81.316421          53.513884  \n",
       "Hernandez High School          80.862999          53.527508  \n",
       "Johnson High School            81.222432          53.539172  "
      ]
     },
     "execution_count": 87,
     "metadata": {},
     "output_type": "execute_result"
    }
   ],
   "source": [
    "# Sorting and displaying the bottom five performing schools by % overall passing\n",
    "bottom_performing_df = school_summary_table.sort_values(\"% Overall Passing\", ascending=True)\n",
    "bottom_performing_df.head()"
   ]
  },
  {
   "cell_type": "code",
   "execution_count": 88,
   "id": "ac17a274",
   "metadata": {},
   "outputs": [],
   "source": [
    "# -----------------------------------------------------------------------------------------"
   ]
  },
  {
   "cell_type": "code",
   "execution_count": 89,
   "id": "163be4fe",
   "metadata": {},
   "outputs": [],
   "source": [
    "# MATH SCORES BY GRADE\n",
    "# ----------------------------------------------------------------------"
   ]
  },
  {
   "cell_type": "code",
   "execution_count": 92,
   "id": "6aa101d6",
   "metadata": {},
   "outputs": [],
   "source": [
    "# creating series for each grade\n",
    "# going to create copy of the complete df\n",
    "copy_three = complete_df.copy()\n",
    "# copy_three"
   ]
  },
  {
   "cell_type": "code",
   "execution_count": 93,
   "id": "a90cee56",
   "metadata": {},
   "outputs": [
    {
     "data": {
      "text/plain": [
       "9th     11408\n",
       "10th    10168\n",
       "11th     9695\n",
       "12th     7899\n",
       "Name: grade, dtype: int64"
      ]
     },
     "execution_count": 93,
     "metadata": {},
     "output_type": "execute_result"
    }
   ],
   "source": [
    "copy_three[\"grade\"].value_counts()"
   ]
  },
  {
   "cell_type": "code",
   "execution_count": 94,
   "id": "d61a2aae",
   "metadata": {},
   "outputs": [
    {
     "data": {
      "text/plain": [
       "dtype('O')"
      ]
     },
     "execution_count": 94,
     "metadata": {},
     "output_type": "execute_result"
    }
   ],
   "source": [
    "copy_three[\"grade\"].dtypes"
   ]
  },
  {
   "cell_type": "code",
   "execution_count": 96,
   "id": "0fc56dd4",
   "metadata": {},
   "outputs": [],
   "source": [
    "ninth_grade_math = copy_three.loc[copy_three[\"grade\"] == \"9th\"]\n",
    "# print(ninth_grade_math)"
   ]
  },
  {
   "cell_type": "code",
   "execution_count": 97,
   "id": "04d55d69",
   "metadata": {},
   "outputs": [
    {
     "name": "stdout",
     "output_type": "stream",
     "text": [
      "<pandas.core.groupby.generic.DataFrameGroupBy object at 0x00000277D4494E08>\n"
     ]
    }
   ],
   "source": [
    "ninth_grade_group = ninth_grade_math.groupby([\"school_name\"])\n",
    "print(ninth_grade_group)"
   ]
  },
  {
   "cell_type": "code",
   "execution_count": 99,
   "id": "7f852dde",
   "metadata": {},
   "outputs": [],
   "source": [
    "tenth_grade = copy_three.loc[copy_three[\"grade\"] == \"10th\"]\n",
    "# print(tenth_grade)"
   ]
  },
  {
   "cell_type": "code",
   "execution_count": 100,
   "id": "5450e825",
   "metadata": {},
   "outputs": [
    {
     "name": "stdout",
     "output_type": "stream",
     "text": [
      "<pandas.core.groupby.generic.DataFrameGroupBy object at 0x00000277D445A348>\n"
     ]
    }
   ],
   "source": [
    "tenth_grade_group = tenth_grade.groupby([\"school_name\"])\n",
    "print(tenth_grade_group)"
   ]
  },
  {
   "cell_type": "code",
   "execution_count": 102,
   "id": "c70aa3f8",
   "metadata": {},
   "outputs": [],
   "source": [
    "eleventh_grade = copy_three.loc[copy_three[\"grade\"] == \"11th\"]\n",
    "# print(eleventh_grade)"
   ]
  },
  {
   "cell_type": "code",
   "execution_count": 103,
   "id": "1bf17b7e",
   "metadata": {},
   "outputs": [
    {
     "name": "stdout",
     "output_type": "stream",
     "text": [
      "<pandas.core.groupby.generic.DataFrameGroupBy object at 0x00000277D448DE48>\n"
     ]
    }
   ],
   "source": [
    "eleventh_grade_group = eleventh_grade.groupby([\"school_name\"])\n",
    "print(eleventh_grade_group)"
   ]
  },
  {
   "cell_type": "code",
   "execution_count": 105,
   "id": "6cc180dd",
   "metadata": {},
   "outputs": [],
   "source": [
    "twelfth_grade = copy_three.loc[copy_three[\"grade\"] == \"12th\"]\n",
    "# print(twelfth_grade)"
   ]
  },
  {
   "cell_type": "code",
   "execution_count": 106,
   "id": "d1eb134c",
   "metadata": {},
   "outputs": [
    {
     "name": "stdout",
     "output_type": "stream",
     "text": [
      "<pandas.core.groupby.generic.DataFrameGroupBy object at 0x00000277D44A0B08>\n"
     ]
    }
   ],
   "source": [
    "twelfth_grade_group = twelfth_grade.groupby([\"school_name\"])\n",
    "print(twelfth_grade_group)"
   ]
  },
  {
   "cell_type": "code",
   "execution_count": 109,
   "id": "11b5d5c6",
   "metadata": {},
   "outputs": [
    {
     "data": {
      "text/plain": [
       "school_name\n",
       "Bailey High School       77.083676\n",
       "Cabrera High School      83.094697\n",
       "Figueroa High School     76.403037\n",
       "Ford High School         77.361345\n",
       "Griffin High School      82.044010\n",
       "Hernandez High School    77.438495\n",
       "Holden High School       83.787402\n",
       "Huang High School        77.027251\n",
       "Johnson High School      77.187857\n",
       "Pena High School         83.625455\n",
       "Rodriguez High School    76.859966\n",
       "Shelton High School      83.420755\n",
       "Thomas High School       83.590022\n",
       "Wilson High School       83.085578\n",
       "Wright High School       83.264706\n",
       "Name: math_score, dtype: float64"
      ]
     },
     "execution_count": 109,
     "metadata": {},
     "output_type": "execute_result"
    }
   ],
   "source": [
    "ninth_grade_average_math_score_grouped = ninth_grade_group[\"math_score\"].mean()\n",
    "ninth_grade_average_math_score_grouped"
   ]
  },
  {
   "cell_type": "code",
   "execution_count": 111,
   "id": "c31484db",
   "metadata": {},
   "outputs": [
    {
     "data": {
      "text/plain": [
       "school_name\n",
       "Bailey High School       76.996772\n",
       "Cabrera High School      83.154506\n",
       "Figueroa High School     76.539974\n",
       "Ford High School         77.672316\n",
       "Griffin High School      84.229064\n",
       "Hernandez High School    77.337408\n",
       "Holden High School       83.429825\n",
       "Huang High School        75.908735\n",
       "Johnson High School      76.691117\n",
       "Pena High School         83.372000\n",
       "Rodriguez High School    76.612500\n",
       "Shelton High School      82.917411\n",
       "Thomas High School       83.087886\n",
       "Wilson High School       83.724422\n",
       "Wright High School       84.010288\n",
       "Name: math_score, dtype: float64"
      ]
     },
     "execution_count": 111,
     "metadata": {},
     "output_type": "execute_result"
    }
   ],
   "source": [
    "tenth_grade_average_math_score_grouped = tenth_grade_group[\"math_score\"].mean()\n",
    "tenth_grade_average_math_score_grouped"
   ]
  },
  {
   "cell_type": "code",
   "execution_count": 113,
   "id": "bd1d5cbe",
   "metadata": {},
   "outputs": [
    {
     "data": {
      "text/plain": [
       "school_name\n",
       "Bailey High School       77.515588\n",
       "Cabrera High School      82.765560\n",
       "Figueroa High School     76.884344\n",
       "Ford High School         76.918058\n",
       "Griffin High School      83.842105\n",
       "Hernandez High School    77.136029\n",
       "Holden High School       85.000000\n",
       "Huang High School        76.446602\n",
       "Johnson High School      77.491653\n",
       "Pena High School         84.328125\n",
       "Rodriguez High School    76.395626\n",
       "Shelton High School      83.383495\n",
       "Thomas High School       83.498795\n",
       "Wilson High School       83.195326\n",
       "Wright High School       83.836782\n",
       "Name: math_score, dtype: float64"
      ]
     },
     "execution_count": 113,
     "metadata": {},
     "output_type": "execute_result"
    }
   ],
   "source": [
    "eleventh_grade_average_math_score_grouped = eleventh_grade_group[\"math_score\"].mean()\n",
    "eleventh_grade_average_math_score_grouped"
   ]
  },
  {
   "cell_type": "code",
   "execution_count": 115,
   "id": "32644904",
   "metadata": {},
   "outputs": [
    {
     "data": {
      "text/plain": [
       "school_name\n",
       "Bailey High School       76.492218\n",
       "Cabrera High School      83.277487\n",
       "Figueroa High School     77.151369\n",
       "Ford High School         76.179963\n",
       "Griffin High School      83.356164\n",
       "Hernandez High School    77.186567\n",
       "Holden High School       82.855422\n",
       "Huang High School        77.225641\n",
       "Johnson High School      76.863248\n",
       "Pena High School         84.121547\n",
       "Rodriguez High School    77.690748\n",
       "Shelton High School      83.778976\n",
       "Thomas High School       83.497041\n",
       "Wilson High School       83.035794\n",
       "Wright High School       83.644986\n",
       "Name: math_score, dtype: float64"
      ]
     },
     "execution_count": 115,
     "metadata": {},
     "output_type": "execute_result"
    }
   ],
   "source": [
    "twelfth_grade_average_math_score_grouped = twelfth_grade_group[\"math_score\"].mean()\n",
    "twelfth_grade_average_math_score_grouped"
   ]
  },
  {
   "cell_type": "code",
   "execution_count": 116,
   "id": "79d3ef88",
   "metadata": {},
   "outputs": [
    {
     "data": {
      "text/html": [
       "<div>\n",
       "<style scoped>\n",
       "    .dataframe tbody tr th:only-of-type {\n",
       "        vertical-align: middle;\n",
       "    }\n",
       "\n",
       "    .dataframe tbody tr th {\n",
       "        vertical-align: top;\n",
       "    }\n",
       "\n",
       "    .dataframe thead th {\n",
       "        text-align: right;\n",
       "    }\n",
       "</style>\n",
       "<table border=\"1\" class=\"dataframe\">\n",
       "  <thead>\n",
       "    <tr style=\"text-align: right;\">\n",
       "      <th></th>\n",
       "      <th>9th</th>\n",
       "      <th>10th</th>\n",
       "      <th>11th</th>\n",
       "      <th>12th</th>\n",
       "    </tr>\n",
       "    <tr>\n",
       "      <th>school_name</th>\n",
       "      <th></th>\n",
       "      <th></th>\n",
       "      <th></th>\n",
       "      <th></th>\n",
       "    </tr>\n",
       "  </thead>\n",
       "  <tbody>\n",
       "    <tr>\n",
       "      <th>Bailey High School</th>\n",
       "      <td>77.083676</td>\n",
       "      <td>76.996772</td>\n",
       "      <td>77.515588</td>\n",
       "      <td>76.492218</td>\n",
       "    </tr>\n",
       "    <tr>\n",
       "      <th>Cabrera High School</th>\n",
       "      <td>83.094697</td>\n",
       "      <td>83.154506</td>\n",
       "      <td>82.765560</td>\n",
       "      <td>83.277487</td>\n",
       "    </tr>\n",
       "    <tr>\n",
       "      <th>Figueroa High School</th>\n",
       "      <td>76.403037</td>\n",
       "      <td>76.539974</td>\n",
       "      <td>76.884344</td>\n",
       "      <td>77.151369</td>\n",
       "    </tr>\n",
       "    <tr>\n",
       "      <th>Ford High School</th>\n",
       "      <td>77.361345</td>\n",
       "      <td>77.672316</td>\n",
       "      <td>76.918058</td>\n",
       "      <td>76.179963</td>\n",
       "    </tr>\n",
       "    <tr>\n",
       "      <th>Griffin High School</th>\n",
       "      <td>82.044010</td>\n",
       "      <td>84.229064</td>\n",
       "      <td>83.842105</td>\n",
       "      <td>83.356164</td>\n",
       "    </tr>\n",
       "    <tr>\n",
       "      <th>Hernandez High School</th>\n",
       "      <td>77.438495</td>\n",
       "      <td>77.337408</td>\n",
       "      <td>77.136029</td>\n",
       "      <td>77.186567</td>\n",
       "    </tr>\n",
       "    <tr>\n",
       "      <th>Holden High School</th>\n",
       "      <td>83.787402</td>\n",
       "      <td>83.429825</td>\n",
       "      <td>85.000000</td>\n",
       "      <td>82.855422</td>\n",
       "    </tr>\n",
       "    <tr>\n",
       "      <th>Huang High School</th>\n",
       "      <td>77.027251</td>\n",
       "      <td>75.908735</td>\n",
       "      <td>76.446602</td>\n",
       "      <td>77.225641</td>\n",
       "    </tr>\n",
       "    <tr>\n",
       "      <th>Johnson High School</th>\n",
       "      <td>77.187857</td>\n",
       "      <td>76.691117</td>\n",
       "      <td>77.491653</td>\n",
       "      <td>76.863248</td>\n",
       "    </tr>\n",
       "    <tr>\n",
       "      <th>Pena High School</th>\n",
       "      <td>83.625455</td>\n",
       "      <td>83.372000</td>\n",
       "      <td>84.328125</td>\n",
       "      <td>84.121547</td>\n",
       "    </tr>\n",
       "    <tr>\n",
       "      <th>Rodriguez High School</th>\n",
       "      <td>76.859966</td>\n",
       "      <td>76.612500</td>\n",
       "      <td>76.395626</td>\n",
       "      <td>77.690748</td>\n",
       "    </tr>\n",
       "    <tr>\n",
       "      <th>Shelton High School</th>\n",
       "      <td>83.420755</td>\n",
       "      <td>82.917411</td>\n",
       "      <td>83.383495</td>\n",
       "      <td>83.778976</td>\n",
       "    </tr>\n",
       "    <tr>\n",
       "      <th>Thomas High School</th>\n",
       "      <td>83.590022</td>\n",
       "      <td>83.087886</td>\n",
       "      <td>83.498795</td>\n",
       "      <td>83.497041</td>\n",
       "    </tr>\n",
       "    <tr>\n",
       "      <th>Wilson High School</th>\n",
       "      <td>83.085578</td>\n",
       "      <td>83.724422</td>\n",
       "      <td>83.195326</td>\n",
       "      <td>83.035794</td>\n",
       "    </tr>\n",
       "    <tr>\n",
       "      <th>Wright High School</th>\n",
       "      <td>83.264706</td>\n",
       "      <td>84.010288</td>\n",
       "      <td>83.836782</td>\n",
       "      <td>83.644986</td>\n",
       "    </tr>\n",
       "  </tbody>\n",
       "</table>\n",
       "</div>"
      ],
      "text/plain": [
       "                             9th       10th       11th       12th\n",
       "school_name                                                      \n",
       "Bailey High School     77.083676  76.996772  77.515588  76.492218\n",
       "Cabrera High School    83.094697  83.154506  82.765560  83.277487\n",
       "Figueroa High School   76.403037  76.539974  76.884344  77.151369\n",
       "Ford High School       77.361345  77.672316  76.918058  76.179963\n",
       "Griffin High School    82.044010  84.229064  83.842105  83.356164\n",
       "Hernandez High School  77.438495  77.337408  77.136029  77.186567\n",
       "Holden High School     83.787402  83.429825  85.000000  82.855422\n",
       "Huang High School      77.027251  75.908735  76.446602  77.225641\n",
       "Johnson High School    77.187857  76.691117  77.491653  76.863248\n",
       "Pena High School       83.625455  83.372000  84.328125  84.121547\n",
       "Rodriguez High School  76.859966  76.612500  76.395626  77.690748\n",
       "Shelton High School    83.420755  82.917411  83.383495  83.778976\n",
       "Thomas High School     83.590022  83.087886  83.498795  83.497041\n",
       "Wilson High School     83.085578  83.724422  83.195326  83.035794\n",
       "Wright High School     83.264706  84.010288  83.836782  83.644986"
      ]
     },
     "execution_count": 116,
     "metadata": {},
     "output_type": "execute_result"
    }
   ],
   "source": [
    "# MATH SCORES BY GRADE DATAFRAME\n",
    "math_scores_by_grade_df = pd.DataFrame({\"9th\": ninth_grade_average_math_score_grouped,\n",
    "                                       \"10th\": tenth_grade_average_math_score_grouped,\n",
    "                                       \"11th\": eleventh_grade_average_math_score_grouped,\n",
    "                                       \"12th\": twelfth_grade_average_math_score_grouped})\n",
    "math_scores_by_grade_df"
   ]
  },
  {
   "cell_type": "code",
   "execution_count": 117,
   "id": "eb234047",
   "metadata": {},
   "outputs": [
    {
     "data": {
      "text/plain": [
       "Index(['Bailey High School', 'Cabrera High School', 'Figueroa High School',\n",
       "       'Ford High School', 'Griffin High School', 'Hernandez High School',\n",
       "       'Holden High School', 'Huang High School', 'Johnson High School',\n",
       "       'Pena High School', 'Rodriguez High School', 'Shelton High School',\n",
       "       'Thomas High School', 'Wilson High School', 'Wright High School'],\n",
       "      dtype='object', name='school_name')"
      ]
     },
     "execution_count": 117,
     "metadata": {},
     "output_type": "execute_result"
    }
   ],
   "source": [
    "math_scores_by_grade_df.index"
   ]
  },
  {
   "cell_type": "code",
   "execution_count": 118,
   "id": "445ce317",
   "metadata": {},
   "outputs": [
    {
     "data": {
      "text/plain": [
       "Index(['9th', '10th', '11th', '12th'], dtype='object')"
      ]
     },
     "execution_count": 118,
     "metadata": {},
     "output_type": "execute_result"
    }
   ],
   "source": [
    "math_scores_by_grade_df.columns"
   ]
  },
  {
   "cell_type": "code",
   "execution_count": 119,
   "id": "e2cede34",
   "metadata": {},
   "outputs": [],
   "source": [
    "# -----------------------------------------------------------------------\n",
    "# READING SCORE BY GRADE\n",
    "# -------------------------------------------------------------------------------"
   ]
  },
  {
   "cell_type": "code",
   "execution_count": 120,
   "id": "0251f494",
   "metadata": {},
   "outputs": [
    {
     "data": {
      "text/plain": [
       "school_name\n",
       "Bailey High School       81.303155\n",
       "Cabrera High School      83.676136\n",
       "Figueroa High School     81.198598\n",
       "Ford High School         80.632653\n",
       "Griffin High School      83.369193\n",
       "Hernandez High School    80.866860\n",
       "Holden High School       83.677165\n",
       "Huang High School        81.290284\n",
       "Johnson High School      81.260714\n",
       "Pena High School         83.807273\n",
       "Rodriguez High School    80.993127\n",
       "Shelton High School      84.122642\n",
       "Thomas High School       83.728850\n",
       "Wilson High School       83.939778\n",
       "Wright High School       83.833333\n",
       "Name: reading_score, dtype: float64"
      ]
     },
     "execution_count": 120,
     "metadata": {},
     "output_type": "execute_result"
    }
   ],
   "source": [
    "ninth_grade_average_reading_score_grouped = ninth_grade_group[\"reading_score\"].mean()\n",
    "ninth_grade_average_reading_score_grouped"
   ]
  },
  {
   "cell_type": "code",
   "execution_count": 122,
   "id": "a69f79ae",
   "metadata": {},
   "outputs": [
    {
     "data": {
      "text/plain": [
       "school_name\n",
       "Bailey High School       80.907183\n",
       "Cabrera High School      84.253219\n",
       "Figueroa High School     81.408912\n",
       "Ford High School         81.262712\n",
       "Griffin High School      83.706897\n",
       "Hernandez High School    80.660147\n",
       "Holden High School       83.324561\n",
       "Huang High School        81.512386\n",
       "Johnson High School      80.773431\n",
       "Pena High School         83.612000\n",
       "Rodriguez High School    80.629808\n",
       "Shelton High School      83.441964\n",
       "Thomas High School       84.254157\n",
       "Wilson High School       84.021452\n",
       "Wright High School       83.812757\n",
       "Name: reading_score, dtype: float64"
      ]
     },
     "execution_count": 122,
     "metadata": {},
     "output_type": "execute_result"
    }
   ],
   "source": [
    "tenth_grade_average_reading_score_grouped = tenth_grade_group[\"reading_score\"].mean()\n",
    "tenth_grade_average_reading_score_grouped"
   ]
  },
  {
   "cell_type": "code",
   "execution_count": 123,
   "id": "672b46f9",
   "metadata": {},
   "outputs": [
    {
     "data": {
      "text/plain": [
       "school_name\n",
       "Bailey High School       80.945643\n",
       "Cabrera High School      83.788382\n",
       "Figueroa High School     80.640339\n",
       "Ford High School         80.403642\n",
       "Griffin High School      84.288089\n",
       "Hernandez High School    81.396140\n",
       "Holden High School       83.815534\n",
       "Huang High School        81.417476\n",
       "Johnson High School      80.616027\n",
       "Pena High School         84.335938\n",
       "Rodriguez High School    80.864811\n",
       "Shelton High School      84.373786\n",
       "Thomas High School       83.585542\n",
       "Wilson High School       83.764608\n",
       "Wright High School       84.156322\n",
       "Name: reading_score, dtype: float64"
      ]
     },
     "execution_count": 123,
     "metadata": {},
     "output_type": "execute_result"
    }
   ],
   "source": [
    "eleventh_grade_average_reading_score_grouped = eleventh_grade_group[\"reading_score\"].mean()\n",
    "eleventh_grade_average_reading_score_grouped"
   ]
  },
  {
   "cell_type": "code",
   "execution_count": 124,
   "id": "4fb4bfdc",
   "metadata": {},
   "outputs": [
    {
     "data": {
      "text/plain": [
       "school_name\n",
       "Bailey High School       80.912451\n",
       "Cabrera High School      84.287958\n",
       "Figueroa High School     81.384863\n",
       "Ford High School         80.662338\n",
       "Griffin High School      84.013699\n",
       "Hernandez High School    80.857143\n",
       "Holden High School       84.698795\n",
       "Huang High School        80.305983\n",
       "Johnson High School      81.227564\n",
       "Pena High School         84.591160\n",
       "Rodriguez High School    80.376426\n",
       "Shelton High School      82.781671\n",
       "Thomas High School       83.831361\n",
       "Wilson High School       84.317673\n",
       "Wright High School       84.073171\n",
       "Name: reading_score, dtype: float64"
      ]
     },
     "execution_count": 124,
     "metadata": {},
     "output_type": "execute_result"
    }
   ],
   "source": [
    "twelfth_grade_average_reading_score_grouped = twelfth_grade_group[\"reading_score\"].mean()\n",
    "twelfth_grade_average_reading_score_grouped"
   ]
  },
  {
   "cell_type": "code",
   "execution_count": 125,
   "id": "62e38f2d",
   "metadata": {},
   "outputs": [
    {
     "data": {
      "text/html": [
       "<div>\n",
       "<style scoped>\n",
       "    .dataframe tbody tr th:only-of-type {\n",
       "        vertical-align: middle;\n",
       "    }\n",
       "\n",
       "    .dataframe tbody tr th {\n",
       "        vertical-align: top;\n",
       "    }\n",
       "\n",
       "    .dataframe thead th {\n",
       "        text-align: right;\n",
       "    }\n",
       "</style>\n",
       "<table border=\"1\" class=\"dataframe\">\n",
       "  <thead>\n",
       "    <tr style=\"text-align: right;\">\n",
       "      <th></th>\n",
       "      <th>9th</th>\n",
       "      <th>10th</th>\n",
       "      <th>11th</th>\n",
       "      <th>12th</th>\n",
       "    </tr>\n",
       "    <tr>\n",
       "      <th>school_name</th>\n",
       "      <th></th>\n",
       "      <th></th>\n",
       "      <th></th>\n",
       "      <th></th>\n",
       "    </tr>\n",
       "  </thead>\n",
       "  <tbody>\n",
       "    <tr>\n",
       "      <th>Bailey High School</th>\n",
       "      <td>81.303155</td>\n",
       "      <td>80.907183</td>\n",
       "      <td>80.945643</td>\n",
       "      <td>80.912451</td>\n",
       "    </tr>\n",
       "    <tr>\n",
       "      <th>Cabrera High School</th>\n",
       "      <td>83.676136</td>\n",
       "      <td>84.253219</td>\n",
       "      <td>83.788382</td>\n",
       "      <td>84.287958</td>\n",
       "    </tr>\n",
       "    <tr>\n",
       "      <th>Figueroa High School</th>\n",
       "      <td>81.198598</td>\n",
       "      <td>81.408912</td>\n",
       "      <td>80.640339</td>\n",
       "      <td>81.384863</td>\n",
       "    </tr>\n",
       "    <tr>\n",
       "      <th>Ford High School</th>\n",
       "      <td>80.632653</td>\n",
       "      <td>81.262712</td>\n",
       "      <td>80.403642</td>\n",
       "      <td>80.662338</td>\n",
       "    </tr>\n",
       "    <tr>\n",
       "      <th>Griffin High School</th>\n",
       "      <td>83.369193</td>\n",
       "      <td>83.706897</td>\n",
       "      <td>84.288089</td>\n",
       "      <td>84.013699</td>\n",
       "    </tr>\n",
       "    <tr>\n",
       "      <th>Hernandez High School</th>\n",
       "      <td>80.866860</td>\n",
       "      <td>80.660147</td>\n",
       "      <td>81.396140</td>\n",
       "      <td>80.857143</td>\n",
       "    </tr>\n",
       "    <tr>\n",
       "      <th>Holden High School</th>\n",
       "      <td>83.677165</td>\n",
       "      <td>83.324561</td>\n",
       "      <td>83.815534</td>\n",
       "      <td>84.698795</td>\n",
       "    </tr>\n",
       "    <tr>\n",
       "      <th>Huang High School</th>\n",
       "      <td>81.290284</td>\n",
       "      <td>81.512386</td>\n",
       "      <td>81.417476</td>\n",
       "      <td>80.305983</td>\n",
       "    </tr>\n",
       "    <tr>\n",
       "      <th>Johnson High School</th>\n",
       "      <td>81.260714</td>\n",
       "      <td>80.773431</td>\n",
       "      <td>80.616027</td>\n",
       "      <td>81.227564</td>\n",
       "    </tr>\n",
       "    <tr>\n",
       "      <th>Pena High School</th>\n",
       "      <td>83.807273</td>\n",
       "      <td>83.612000</td>\n",
       "      <td>84.335938</td>\n",
       "      <td>84.591160</td>\n",
       "    </tr>\n",
       "    <tr>\n",
       "      <th>Rodriguez High School</th>\n",
       "      <td>80.993127</td>\n",
       "      <td>80.629808</td>\n",
       "      <td>80.864811</td>\n",
       "      <td>80.376426</td>\n",
       "    </tr>\n",
       "    <tr>\n",
       "      <th>Shelton High School</th>\n",
       "      <td>84.122642</td>\n",
       "      <td>83.441964</td>\n",
       "      <td>84.373786</td>\n",
       "      <td>82.781671</td>\n",
       "    </tr>\n",
       "    <tr>\n",
       "      <th>Thomas High School</th>\n",
       "      <td>83.728850</td>\n",
       "      <td>84.254157</td>\n",
       "      <td>83.585542</td>\n",
       "      <td>83.831361</td>\n",
       "    </tr>\n",
       "    <tr>\n",
       "      <th>Wilson High School</th>\n",
       "      <td>83.939778</td>\n",
       "      <td>84.021452</td>\n",
       "      <td>83.764608</td>\n",
       "      <td>84.317673</td>\n",
       "    </tr>\n",
       "    <tr>\n",
       "      <th>Wright High School</th>\n",
       "      <td>83.833333</td>\n",
       "      <td>83.812757</td>\n",
       "      <td>84.156322</td>\n",
       "      <td>84.073171</td>\n",
       "    </tr>\n",
       "  </tbody>\n",
       "</table>\n",
       "</div>"
      ],
      "text/plain": [
       "                             9th       10th       11th       12th\n",
       "school_name                                                      \n",
       "Bailey High School     81.303155  80.907183  80.945643  80.912451\n",
       "Cabrera High School    83.676136  84.253219  83.788382  84.287958\n",
       "Figueroa High School   81.198598  81.408912  80.640339  81.384863\n",
       "Ford High School       80.632653  81.262712  80.403642  80.662338\n",
       "Griffin High School    83.369193  83.706897  84.288089  84.013699\n",
       "Hernandez High School  80.866860  80.660147  81.396140  80.857143\n",
       "Holden High School     83.677165  83.324561  83.815534  84.698795\n",
       "Huang High School      81.290284  81.512386  81.417476  80.305983\n",
       "Johnson High School    81.260714  80.773431  80.616027  81.227564\n",
       "Pena High School       83.807273  83.612000  84.335938  84.591160\n",
       "Rodriguez High School  80.993127  80.629808  80.864811  80.376426\n",
       "Shelton High School    84.122642  83.441964  84.373786  82.781671\n",
       "Thomas High School     83.728850  84.254157  83.585542  83.831361\n",
       "Wilson High School     83.939778  84.021452  83.764608  84.317673\n",
       "Wright High School     83.833333  83.812757  84.156322  84.073171"
      ]
     },
     "execution_count": 125,
     "metadata": {},
     "output_type": "execute_result"
    }
   ],
   "source": [
    "# READING SCORE BY GRADE DATAFRAME\n",
    "reading_score_by_grade_df = pd.DataFrame({\"9th\": ninth_grade_average_reading_score_grouped,\n",
    "                                         \"10th\": tenth_grade_average_reading_score_grouped,\n",
    "                                         \"11th\": eleventh_grade_average_reading_score_grouped,\n",
    "                                         \"12th\": twelfth_grade_average_reading_score_grouped})\n",
    "reading_score_by_grade_df"
   ]
  },
  {
   "cell_type": "code",
   "execution_count": 126,
   "id": "4280cfef",
   "metadata": {},
   "outputs": [
    {
     "data": {
      "text/plain": [
       "Index(['Bailey High School', 'Cabrera High School', 'Figueroa High School',\n",
       "       'Ford High School', 'Griffin High School', 'Hernandez High School',\n",
       "       'Holden High School', 'Huang High School', 'Johnson High School',\n",
       "       'Pena High School', 'Rodriguez High School', 'Shelton High School',\n",
       "       'Thomas High School', 'Wilson High School', 'Wright High School'],\n",
       "      dtype='object', name='school_name')"
      ]
     },
     "execution_count": 126,
     "metadata": {},
     "output_type": "execute_result"
    }
   ],
   "source": [
    "reading_score_by_grade_df.index"
   ]
  },
  {
   "cell_type": "code",
   "execution_count": 127,
   "id": "0ca22489",
   "metadata": {},
   "outputs": [
    {
     "data": {
      "text/plain": [
       "Index(['9th', '10th', '11th', '12th'], dtype='object')"
      ]
     },
     "execution_count": 127,
     "metadata": {},
     "output_type": "execute_result"
    }
   ],
   "source": [
    "reading_score_by_grade_df.columns"
   ]
  },
  {
   "cell_type": "code",
   "execution_count": 128,
   "id": "2fd4daf0",
   "metadata": {},
   "outputs": [],
   "source": [
    "# -------------------------------------------------------------\n",
    "# SCORES BY SCHOOL SPENDING\n",
    "# --------------------------------------------------------------"
   ]
  },
  {
   "cell_type": "code",
   "execution_count": 129,
   "id": "2ee1f825",
   "metadata": {},
   "outputs": [],
   "source": [
    "# creating bins (based on average spending ranges (per student)) for....\n",
    "# average math score\n",
    "# average reading score\n",
    "# % passing math\n",
    "# % passing reading\n",
    "# % overall passing"
   ]
  },
  {
   "cell_type": "code",
   "execution_count": null,
   "id": "c67ce377",
   "metadata": {},
   "outputs": [],
   "source": []
  }
 ],
 "metadata": {
  "kernelspec": {
   "display_name": "Python 3 (ipykernel)",
   "language": "python",
   "name": "python3"
  },
  "language_info": {
   "codemirror_mode": {
    "name": "ipython",
    "version": 3
   },
   "file_extension": ".py",
   "mimetype": "text/x-python",
   "name": "python",
   "nbconvert_exporter": "python",
   "pygments_lexer": "ipython3",
   "version": "3.7.7"
  }
 },
 "nbformat": 4,
 "nbformat_minor": 5
}
