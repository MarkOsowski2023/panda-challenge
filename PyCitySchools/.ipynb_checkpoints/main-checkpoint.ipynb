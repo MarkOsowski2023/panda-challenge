{
 "cells": [
  {
   "cell_type": "code",
   "execution_count": 1,
   "id": "6217c3e9",
   "metadata": {},
   "outputs": [],
   "source": [
    "# Dependencies\n",
    "import pandas as pd"
   ]
  },
  {
   "cell_type": "code",
   "execution_count": 2,
   "id": "6612a525",
   "metadata": {},
   "outputs": [],
   "source": [
    "# Load Files\n",
    "school_data = '../Resources/schools_complete.csv'\n",
    "student_data = '../Resources/students_complete.csv'"
   ]
  },
  {
   "cell_type": "code",
   "execution_count": 3,
   "id": "5c9e00b8",
   "metadata": {},
   "outputs": [],
   "source": [
    "school_df = pd.read_csv(school_data)\n",
    "student_df = pd.read_csv(student_data)\n",
    "# student_df.head()\n",
    "# student_df.columns"
   ]
  },
  {
   "cell_type": "code",
   "execution_count": 4,
   "id": "fba0e9a4",
   "metadata": {},
   "outputs": [
    {
     "data": {
      "text/plain": [
       "Index(['Student ID', 'student_name', 'gender', 'grade', 'school_name',\n",
       "       'reading_score', 'math_score', 'School ID', 'type', 'size', 'budget'],\n",
       "      dtype='object')"
      ]
     },
     "execution_count": 4,
     "metadata": {},
     "output_type": "execute_result"
    }
   ],
   "source": [
    "# Merging data into single data set\n",
    "complete_df = pd.merge(student_df, school_df, how=\"left\", on=[\"school_name\", \"school_name\"])\n",
    "# complete_df.head()\n",
    "# complete_df.columns\n",
    "# complete_df.head()\n",
    "complete_df.columns"
   ]
  },
  {
   "cell_type": "code",
   "execution_count": 5,
   "id": "e8e47042",
   "metadata": {},
   "outputs": [],
   "source": [
    "# Calculate total numbers of schools\n",
    "school_count = len(complete_df[\"school_name\"].unique())\n",
    "# school_count"
   ]
  },
  {
   "cell_type": "code",
   "execution_count": 6,
   "id": "79ca7e52",
   "metadata": {},
   "outputs": [],
   "source": [
    "# Calculate total number of students\n",
    "student_count = len(complete_df[\"student_name\"].unique())\n",
    "# student_count"
   ]
  },
  {
   "cell_type": "code",
   "execution_count": 7,
   "id": "5d2846b1",
   "metadata": {},
   "outputs": [],
   "source": [
    "# complete_df.dtypes"
   ]
  },
  {
   "cell_type": "code",
   "execution_count": 8,
   "id": "22a34f13",
   "metadata": {},
   "outputs": [
    {
     "data": {
      "text/plain": [
       "Index(['Student ID', 'student_name', 'gender', 'grade', 'school_name',\n",
       "       'reading_score', 'math_score', 'School ID', 'type', 'size', 'budget'],\n",
       "      dtype='object')"
      ]
     },
     "execution_count": 8,
     "metadata": {},
     "output_type": "execute_result"
    }
   ],
   "source": [
    "# Calculate Total Budget -  I'm using groupby method\n",
    "# make copy of merged data frame\n",
    "# create data framed grouped by school name column with copy if the merged data frame\n",
    "complete_copy_df = complete_df.copy()\n",
    "complete_copy_df.columns"
   ]
  },
  {
   "cell_type": "code",
   "execution_count": 9,
   "id": "71b12d9d",
   "metadata": {},
   "outputs": [
    {
     "name": "stdout",
     "output_type": "stream",
     "text": [
      "<pandas.core.groupby.generic.DataFrameGroupBy object at 0x000001D743E92AC8>\n"
     ]
    }
   ],
   "source": [
    "# group by data frame \n",
    "grouped_df = complete_copy_df.groupby([\"school_name\"])\n",
    "\n",
    "print(grouped_df)\n",
    "\n",
    "# grouped_df.count()"
   ]
  },
  {
   "cell_type": "code",
   "execution_count": 10,
   "id": "05bcd222",
   "metadata": {},
   "outputs": [
    {
     "data": {
      "text/plain": [
       "school_name            budget \n",
       "Bailey High School     3124928    4976\n",
       "Cabrera High School    1081356    1858\n",
       "Figueroa High School   1884411    2949\n",
       "Ford High School       1763916    2739\n",
       "Griffin High School    917500     1468\n",
       "Hernandez High School  3022020    4635\n",
       "Holden High School     248087      427\n",
       "Huang High School      1910635    2917\n",
       "Johnson High School    3094650    4761\n",
       "Pena High School       585858      962\n",
       "Rodriguez High School  2547363    3999\n",
       "Shelton High School    1056600    1761\n",
       "Thomas High School     1043130    1635\n",
       "Wilson High School     1319574    2283\n",
       "Wright High School     1049400    1800\n",
       "Name: budget, dtype: int64"
      ]
     },
     "execution_count": 10,
     "metadata": {},
     "output_type": "execute_result"
    }
   ],
   "source": [
    "# Getting value counts for budgets for each school\n",
    "grouped_df[\"budget\"].value_counts()"
   ]
  },
  {
   "cell_type": "code",
   "execution_count": 11,
   "id": "078b337b",
   "metadata": {},
   "outputs": [
    {
     "data": {
      "text/plain": [
       "24649428"
      ]
     },
     "execution_count": 11,
     "metadata": {},
     "output_type": "execute_result"
    }
   ],
   "source": [
    "# create data frame for the average budget for each school, then take sum of the dataframe to get to total budget\n",
    "school_budgets_df = grouped_df[\"budget\"].mean()\n",
    "# school_budgets_df.sum()\n",
    "total_budget = school_budgets_df.sum()\n",
    "total_budget"
   ]
  },
  {
   "cell_type": "code",
   "execution_count": 12,
   "id": "fc5d2645",
   "metadata": {},
   "outputs": [
    {
     "data": {
      "text/plain": [
       "80.43252976460249"
      ]
     },
     "execution_count": 12,
     "metadata": {},
     "output_type": "execute_result"
    }
   ],
   "source": [
    "# Calculate Average Math Score\n",
    "# use grouped data frame,  check value counts for math score\n",
    "# grouped_df[\"math_score\"].value_counts()\n",
    "school_average_mathscore_df = grouped_df[\"math_score\"].mean()\n",
    "school_average_mathscore_df.mean()"
   ]
  },
  {
   "cell_type": "code",
   "execution_count": 13,
   "id": "a97c6688",
   "metadata": {},
   "outputs": [
    {
     "name": "stdout",
     "output_type": "stream",
     "text": [
      "<pandas.core.groupby.generic.DataFrameGroupBy object at 0x000001D743E83108>\n"
     ]
    }
   ],
   "source": [
    "# calculate average math score - not by school though - by all the stundents\n",
    "# creating grouped dataframe by students\n",
    "# complete_copy_df\n",
    "student_grouped_df = complete_copy_df.groupby([\"student_name\"])\n",
    "print(student_grouped_df)\n",
    "# student_grouped_df.count().head()"
   ]
  },
  {
   "cell_type": "code",
   "execution_count": 14,
   "id": "defa1a66",
   "metadata": {},
   "outputs": [
    {
     "data": {
      "text/plain": [
       "78.99834099820231"
      ]
     },
     "execution_count": 14,
     "metadata": {},
     "output_type": "execute_result"
    }
   ],
   "source": [
    "# calculate average math score continued\n",
    "# use stundent groupby data frame to check math score\n",
    "# student_grouped_df[\"math_score\"].value_counts()\n",
    "# student_grouped_df[\"math_score\"].mean().mean()\n",
    "average_math_score = student_grouped_df[\"math_score\"].mean().mean()\n",
    "average_math_score"
   ]
  },
  {
   "cell_type": "code",
   "execution_count": 15,
   "id": "e435fc65",
   "metadata": {},
   "outputs": [
    {
     "data": {
      "text/plain": [
       "81.87905805751977"
      ]
     },
     "execution_count": 15,
     "metadata": {},
     "output_type": "execute_result"
    }
   ],
   "source": [
    "# calculate average reading score\n",
    "# use student grouped data frame, filter reading scores for each student, take average, take average\n",
    "# student_grouped_df[\"reading_score\"].value_counts()\n",
    "average_reading_score = student_grouped_df[\"reading_score\"].mean().mean()\n",
    "average_reading_score"
   ]
  },
  {
   "cell_type": "code",
   "execution_count": 16,
   "id": "b92dfc32",
   "metadata": {},
   "outputs": [],
   "source": [
    "# Calculate the percentage of students with a passing math score (70 or greater)\n",
    "# set variable and get value for total students\n",
    "total_students = len(complete_copy_df[\"student_name\"])\n",
    "# total_students"
   ]
  },
  {
   "cell_type": "code",
   "execution_count": 17,
   "id": "fc829512",
   "metadata": {},
   "outputs": [
    {
     "name": "stdout",
     "output_type": "stream",
     "text": [
      "       Student ID     student_name gender grade         school_name  \\\n",
      "0               0     Paul Bradley      M   9th   Huang High School   \n",
      "4               4       Bonnie Ray      F   9th   Huang High School   \n",
      "5               5    Bryan Miranda      M   9th   Huang High School   \n",
      "6               6    Sheena Carter      F  11th   Huang High School   \n",
      "8               8     Michael Roth      M  10th   Huang High School   \n",
      "...           ...              ...    ...   ...                 ...   \n",
      "39165       39165     Donna Howard      F  12th  Thomas High School   \n",
      "39166       39166        Dawn Bell      F  10th  Thomas High School   \n",
      "39167       39167   Rebecca Tanner      F   9th  Thomas High School   \n",
      "39168       39168     Desiree Kidd      F  10th  Thomas High School   \n",
      "39169       39169  Carolyn Jackson      F  11th  Thomas High School   \n",
      "\n",
      "       reading_score  math_score  School ID      type  size   budget  \n",
      "0                 66          79          0  District  2917  1910635  \n",
      "4                 97          84          0  District  2917  1910635  \n",
      "5                 94          94          0  District  2917  1910635  \n",
      "6                 82          80          0  District  2917  1910635  \n",
      "8                 95          87          0  District  2917  1910635  \n",
      "...              ...         ...        ...       ...   ...      ...  \n",
      "39165             99          90         14   Charter  1635  1043130  \n",
      "39166             95          70         14   Charter  1635  1043130  \n",
      "39167             73          84         14   Charter  1635  1043130  \n",
      "39168             99          90         14   Charter  1635  1043130  \n",
      "39169             95          75         14   Charter  1635  1043130  \n",
      "\n",
      "[29370 rows x 11 columns]\n"
     ]
    }
   ],
   "source": [
    "# find number of students who have a math score of 70 or greater using LOC\n",
    "passing_math_students = complete_copy_df.loc[complete_copy_df[\"math_score\"] >= 70]\n",
    "\n",
    "\n",
    "print(passing_math_students)\n",
    "\n"
   ]
  },
  {
   "cell_type": "code",
   "execution_count": 18,
   "id": "60b9b31e",
   "metadata": {},
   "outputs": [
    {
     "data": {
      "text/plain": [
       "29370"
      ]
     },
     "execution_count": 18,
     "metadata": {},
     "output_type": "execute_result"
    }
   ],
   "source": [
    "# set variable and value for total students who are passing math\n",
    "total_passing_math_students = len(passing_math_students)\n",
    "total_passing_math_students"
   ]
  },
  {
   "cell_type": "code",
   "execution_count": 19,
   "id": "a5cd7f6e",
   "metadata": {},
   "outputs": [
    {
     "name": "stdout",
     "output_type": "stream",
     "text": [
      "       Student ID     student_name gender grade         school_name  \\\n",
      "1               1     Victor Smith      M  12th   Huang High School   \n",
      "2               2  Kevin Rodriguez      M  12th   Huang High School   \n",
      "4               4       Bonnie Ray      F   9th   Huang High School   \n",
      "5               5    Bryan Miranda      M   9th   Huang High School   \n",
      "6               6    Sheena Carter      F  11th   Huang High School   \n",
      "...           ...              ...    ...   ...                 ...   \n",
      "39165       39165     Donna Howard      F  12th  Thomas High School   \n",
      "39166       39166        Dawn Bell      F  10th  Thomas High School   \n",
      "39167       39167   Rebecca Tanner      F   9th  Thomas High School   \n",
      "39168       39168     Desiree Kidd      F  10th  Thomas High School   \n",
      "39169       39169  Carolyn Jackson      F  11th  Thomas High School   \n",
      "\n",
      "       reading_score  math_score  School ID      type  size   budget  \n",
      "1                 94          61          0  District  2917  1910635  \n",
      "2                 90          60          0  District  2917  1910635  \n",
      "4                 97          84          0  District  2917  1910635  \n",
      "5                 94          94          0  District  2917  1910635  \n",
      "6                 82          80          0  District  2917  1910635  \n",
      "...              ...         ...        ...       ...   ...      ...  \n",
      "39165             99          90         14   Charter  1635  1043130  \n",
      "39166             95          70         14   Charter  1635  1043130  \n",
      "39167             73          84         14   Charter  1635  1043130  \n",
      "39168             99          90         14   Charter  1635  1043130  \n",
      "39169             95          75         14   Charter  1635  1043130  \n",
      "\n",
      "[33610 rows x 11 columns]\n"
     ]
    }
   ],
   "source": [
    "# find number of student who have a math score of 70 or greater\n",
    "passing_reading_students = complete_copy_df.loc[complete_copy_df[\"reading_score\"] >= 70]\n",
    "\n",
    "print(passing_reading_students)"
   ]
  },
  {
   "cell_type": "code",
   "execution_count": 20,
   "id": "e81ca701",
   "metadata": {},
   "outputs": [
    {
     "data": {
      "text/plain": [
       "33610"
      ]
     },
     "execution_count": 20,
     "metadata": {},
     "output_type": "execute_result"
    }
   ],
   "source": [
    "# set variable and value for total students who are passing reading\n",
    "total_passing_reading_students = len(passing_reading_students)\n",
    "total_passing_reading_students"
   ]
  },
  {
   "cell_type": "code",
   "execution_count": 21,
   "id": "59864b81",
   "metadata": {},
   "outputs": [],
   "source": [
    "# calculating percentage of students passing math and percentage of students passing reading passing divide by total student\n",
    "# need to convert to correct data type"
   ]
  },
  {
   "cell_type": "code",
   "execution_count": 22,
   "id": "f5f9c2b3",
   "metadata": {},
   "outputs": [
    {
     "data": {
      "text/plain": [
       "74.9808526933878"
      ]
     },
     "execution_count": 22,
     "metadata": {},
     "output_type": "execute_result"
    }
   ],
   "source": [
    "# calculate percent of students passing math\n",
    "percent_passing_math = (total_passing_math_students / total_students) * 100\n",
    "percent_passing_math"
   ]
  },
  {
   "cell_type": "code",
   "execution_count": 23,
   "id": "5b6de77a",
   "metadata": {},
   "outputs": [
    {
     "data": {
      "text/plain": [
       "85.80546336482001"
      ]
     },
     "execution_count": 23,
     "metadata": {},
     "output_type": "execute_result"
    }
   ],
   "source": [
    "# calculate percent of students passing reading\n",
    "percent_passing_reading =  (total_passing_reading_students / total_students) * 100\n",
    "percent_passing_reading"
   ]
  },
  {
   "cell_type": "code",
   "execution_count": 24,
   "id": "ead05a91",
   "metadata": {},
   "outputs": [
    {
     "name": "stdout",
     "output_type": "stream",
     "text": [
      "       Student ID     student_name gender grade         school_name  \\\n",
      "4               4       Bonnie Ray      F   9th   Huang High School   \n",
      "5               5    Bryan Miranda      M   9th   Huang High School   \n",
      "6               6    Sheena Carter      F  11th   Huang High School   \n",
      "8               8     Michael Roth      M  10th   Huang High School   \n",
      "9               9   Matthew Greene      M  10th   Huang High School   \n",
      "...           ...              ...    ...   ...                 ...   \n",
      "39165       39165     Donna Howard      F  12th  Thomas High School   \n",
      "39166       39166        Dawn Bell      F  10th  Thomas High School   \n",
      "39167       39167   Rebecca Tanner      F   9th  Thomas High School   \n",
      "39168       39168     Desiree Kidd      F  10th  Thomas High School   \n",
      "39169       39169  Carolyn Jackson      F  11th  Thomas High School   \n",
      "\n",
      "       reading_score  math_score  School ID      type  size   budget  \n",
      "4                 97          84          0  District  2917  1910635  \n",
      "5                 94          94          0  District  2917  1910635  \n",
      "6                 82          80          0  District  2917  1910635  \n",
      "8                 95          87          0  District  2917  1910635  \n",
      "9                 96          84          0  District  2917  1910635  \n",
      "...              ...         ...        ...       ...   ...      ...  \n",
      "39165             99          90         14   Charter  1635  1043130  \n",
      "39166             95          70         14   Charter  1635  1043130  \n",
      "39167             73          84         14   Charter  1635  1043130  \n",
      "39168             99          90         14   Charter  1635  1043130  \n",
      "39169             95          75         14   Charter  1635  1043130  \n",
      "\n",
      "[25528 rows x 11 columns]\n"
     ]
    }
   ],
   "source": [
    "# calculate percent of students who passed math and reading\n",
    "# using loc for students who have 70 or greater in math and 70 or greater in reading (dont forget to print)\n",
    "overall_passing = complete_copy_df.loc[(complete_copy_df[\"math_score\"] >= 70) & (complete_copy_df[\"reading_score\"] >= 70)]\n",
    "print(overall_passing)"
   ]
  },
  {
   "cell_type": "code",
   "execution_count": 25,
   "id": "50520f81",
   "metadata": {},
   "outputs": [],
   "source": [
    "# set variable for total students overall passing, use length function to get value\n",
    "total_overall_passing = len(overall_passing)\n",
    "# total_overall_passing"
   ]
  },
  {
   "cell_type": "code",
   "execution_count": 26,
   "id": "a683379f",
   "metadata": {},
   "outputs": [
    {
     "data": {
      "text/plain": [
       "65.17232575950983"
      ]
     },
     "execution_count": 26,
     "metadata": {},
     "output_type": "execute_result"
    }
   ],
   "source": [
    "# find percent of students overall passing\n",
    "percent_overall_passing = (total_overall_passing / total_students) * 100\n",
    "percent_overall_passing"
   ]
  },
  {
   "cell_type": "code",
   "execution_count": 27,
   "id": "cd0a0eff",
   "metadata": {},
   "outputs": [],
   "source": [
    "# creating Data Frame with the results\n",
    "results_df = pd.DataFrame({\"Total Schools\": [school_count],\n",
    "                           \"Total Students\": total_students,\n",
    "                           \"Total Budget\": total_budget,\n",
    "                           \"Average Math Score\": average_math_score,\n",
    "                           \"Average Reading Score\": average_reading_score,\n",
    "                           \"% Passing Math\": percent_passing_math,\n",
    "                           \"% Passing Reading\": percent_passing_reading,\n",
    "                           \"% Overall Passing\": percent_overall_passing,})"
   ]
  },
  {
   "cell_type": "code",
   "execution_count": 28,
   "id": "083a58df",
   "metadata": {},
   "outputs": [
    {
     "data": {
      "text/html": [
       "<div>\n",
       "<style scoped>\n",
       "    .dataframe tbody tr th:only-of-type {\n",
       "        vertical-align: middle;\n",
       "    }\n",
       "\n",
       "    .dataframe tbody tr th {\n",
       "        vertical-align: top;\n",
       "    }\n",
       "\n",
       "    .dataframe thead th {\n",
       "        text-align: right;\n",
       "    }\n",
       "</style>\n",
       "<table border=\"1\" class=\"dataframe\">\n",
       "  <thead>\n",
       "    <tr style=\"text-align: right;\">\n",
       "      <th></th>\n",
       "      <th>Total Schools</th>\n",
       "      <th>Total Students</th>\n",
       "      <th>Total Budget</th>\n",
       "      <th>Average Math Score</th>\n",
       "      <th>Average Reading Score</th>\n",
       "      <th>% Passing Math</th>\n",
       "      <th>% Passing Reading</th>\n",
       "      <th>% Overall Passing</th>\n",
       "    </tr>\n",
       "  </thead>\n",
       "  <tbody>\n",
       "    <tr>\n",
       "      <th>0</th>\n",
       "      <td>15</td>\n",
       "      <td>39170</td>\n",
       "      <td>24649428</td>\n",
       "      <td>78.998341</td>\n",
       "      <td>81.879058</td>\n",
       "      <td>74.980853</td>\n",
       "      <td>85.805463</td>\n",
       "      <td>65.172326</td>\n",
       "    </tr>\n",
       "  </tbody>\n",
       "</table>\n",
       "</div>"
      ],
      "text/plain": [
       "   Total Schools  Total Students  Total Budget  Average Math Score  \\\n",
       "0             15           39170      24649428           78.998341   \n",
       "\n",
       "   Average Reading Score  % Passing Math  % Passing Reading  % Overall Passing  \n",
       "0              81.879058       74.980853          85.805463          65.172326  "
      ]
     },
     "execution_count": 28,
     "metadata": {},
     "output_type": "execute_result"
    }
   ],
   "source": [
    "results_df"
   ]
  },
  {
   "cell_type": "code",
   "execution_count": 29,
   "id": "7a703774",
   "metadata": {},
   "outputs": [
    {
     "data": {
      "text/html": [
       "<div>\n",
       "<style scoped>\n",
       "    .dataframe tbody tr th:only-of-type {\n",
       "        vertical-align: middle;\n",
       "    }\n",
       "\n",
       "    .dataframe tbody tr th {\n",
       "        vertical-align: top;\n",
       "    }\n",
       "\n",
       "    .dataframe thead th {\n",
       "        text-align: right;\n",
       "    }\n",
       "</style>\n",
       "<table border=\"1\" class=\"dataframe\">\n",
       "  <thead>\n",
       "    <tr style=\"text-align: right;\">\n",
       "      <th></th>\n",
       "      <th>Total Schools</th>\n",
       "      <th>Total Students</th>\n",
       "      <th>Total Budget</th>\n",
       "      <th>Average Math Score</th>\n",
       "      <th>Average Reading Score</th>\n",
       "      <th>% Passing Math</th>\n",
       "      <th>% Passing Reading</th>\n",
       "      <th>% Overall Passing</th>\n",
       "    </tr>\n",
       "  </thead>\n",
       "  <tbody>\n",
       "    <tr>\n",
       "      <th>0</th>\n",
       "      <td>15</td>\n",
       "      <td>39170</td>\n",
       "      <td>$24,649,428.00</td>\n",
       "      <td>78.998341</td>\n",
       "      <td>81.879058</td>\n",
       "      <td>74.980853</td>\n",
       "      <td>85.805463</td>\n",
       "      <td>65.172326</td>\n",
       "    </tr>\n",
       "  </tbody>\n",
       "</table>\n",
       "</div>"
      ],
      "text/plain": [
       "   Total Schools  Total Students    Total Budget  Average Math Score  \\\n",
       "0             15           39170  $24,649,428.00           78.998341   \n",
       "\n",
       "   Average Reading Score  % Passing Math  % Passing Reading  % Overall Passing  \n",
       "0              81.879058       74.980853          85.805463          65.172326  "
      ]
     },
     "execution_count": 29,
     "metadata": {},
     "output_type": "execute_result"
    }
   ],
   "source": [
    "# Formatting Results Data Frame, using Mapping\n",
    "# for total students\n",
    "\n",
    "# for total budget\n",
    "results_df[\"Total Budget\"] = results_df[\"Total Budget\"].map(\"${:,.2f}\".format)\n",
    "# results_df"
   ]
  },
  {
   "cell_type": "code",
   "execution_count": 30,
   "id": "0cdcb8e6",
   "metadata": {},
   "outputs": [],
   "source": [
    "# Formatt for total students\n",
    "results_df[\"Total Students\"] = results_df[\"Total Students\"].map(\"{:,}\".format)"
   ]
  },
  {
   "cell_type": "code",
   "execution_count": 31,
   "id": "c531fc31",
   "metadata": {},
   "outputs": [
    {
     "data": {
      "text/html": [
       "<div>\n",
       "<style scoped>\n",
       "    .dataframe tbody tr th:only-of-type {\n",
       "        vertical-align: middle;\n",
       "    }\n",
       "\n",
       "    .dataframe tbody tr th {\n",
       "        vertical-align: top;\n",
       "    }\n",
       "\n",
       "    .dataframe thead th {\n",
       "        text-align: right;\n",
       "    }\n",
       "</style>\n",
       "<table border=\"1\" class=\"dataframe\">\n",
       "  <thead>\n",
       "    <tr style=\"text-align: right;\">\n",
       "      <th></th>\n",
       "      <th>Total Schools</th>\n",
       "      <th>Total Students</th>\n",
       "      <th>Total Budget</th>\n",
       "      <th>Average Math Score</th>\n",
       "      <th>Average Reading Score</th>\n",
       "      <th>% Passing Math</th>\n",
       "      <th>% Passing Reading</th>\n",
       "      <th>% Overall Passing</th>\n",
       "    </tr>\n",
       "  </thead>\n",
       "  <tbody>\n",
       "    <tr>\n",
       "      <th>0</th>\n",
       "      <td>15</td>\n",
       "      <td>39,170</td>\n",
       "      <td>$24,649,428.00</td>\n",
       "      <td>78.998341</td>\n",
       "      <td>81.879058</td>\n",
       "      <td>74.980853</td>\n",
       "      <td>85.805463</td>\n",
       "      <td>65.172326</td>\n",
       "    </tr>\n",
       "  </tbody>\n",
       "</table>\n",
       "</div>"
      ],
      "text/plain": [
       "   Total Schools Total Students    Total Budget  Average Math Score  \\\n",
       "0             15         39,170  $24,649,428.00           78.998341   \n",
       "\n",
       "   Average Reading Score  % Passing Math  % Passing Reading  % Overall Passing  \n",
       "0              81.879058       74.980853          85.805463          65.172326  "
      ]
     },
     "execution_count": 31,
     "metadata": {},
     "output_type": "execute_result"
    }
   ],
   "source": [
    "results_df"
   ]
  },
  {
   "cell_type": "code",
   "execution_count": 32,
   "id": "97ed22ae",
   "metadata": {},
   "outputs": [],
   "source": [
    "# School Summary\n",
    "# want to use the groupby school name data frame that I already created\n",
    "# use column manipulation to take mean of budget for each school to get the budget for each school\n",
    "# basically a lot of column manipulation on groupby data frames"
   ]
  },
  {
   "cell_type": "code",
   "execution_count": 34,
   "id": "34b751c8",
   "metadata": {},
   "outputs": [
    {
     "name": "stdout",
     "output_type": "stream",
     "text": [
      "<pandas.core.groupby.generic.DataFrameGroupBy object at 0x000001D743E92AC8>\n"
     ]
    }
   ],
   "source": [
    "# using previously made grouped data frame, which I grouped by school names, Checking counts and value counts, so on\n",
    "print(grouped_df)"
   ]
  },
  {
   "cell_type": "code",
   "execution_count": 37,
   "id": "f92a79ca",
   "metadata": {},
   "outputs": [
    {
     "data": {
      "text/html": [
       "<div>\n",
       "<style scoped>\n",
       "    .dataframe tbody tr th:only-of-type {\n",
       "        vertical-align: middle;\n",
       "    }\n",
       "\n",
       "    .dataframe tbody tr th {\n",
       "        vertical-align: top;\n",
       "    }\n",
       "\n",
       "    .dataframe thead th {\n",
       "        text-align: right;\n",
       "    }\n",
       "</style>\n",
       "<table border=\"1\" class=\"dataframe\">\n",
       "  <thead>\n",
       "    <tr style=\"text-align: right;\">\n",
       "      <th></th>\n",
       "      <th>Student ID</th>\n",
       "      <th>student_name</th>\n",
       "      <th>gender</th>\n",
       "      <th>grade</th>\n",
       "      <th>reading_score</th>\n",
       "      <th>math_score</th>\n",
       "      <th>School ID</th>\n",
       "      <th>type</th>\n",
       "      <th>size</th>\n",
       "      <th>budget</th>\n",
       "    </tr>\n",
       "    <tr>\n",
       "      <th>school_name</th>\n",
       "      <th></th>\n",
       "      <th></th>\n",
       "      <th></th>\n",
       "      <th></th>\n",
       "      <th></th>\n",
       "      <th></th>\n",
       "      <th></th>\n",
       "      <th></th>\n",
       "      <th></th>\n",
       "      <th></th>\n",
       "    </tr>\n",
       "  </thead>\n",
       "  <tbody>\n",
       "    <tr>\n",
       "      <th>Bailey High School</th>\n",
       "      <td>4976</td>\n",
       "      <td>4976</td>\n",
       "      <td>4976</td>\n",
       "      <td>4976</td>\n",
       "      <td>4976</td>\n",
       "      <td>4976</td>\n",
       "      <td>4976</td>\n",
       "      <td>4976</td>\n",
       "      <td>4976</td>\n",
       "      <td>4976</td>\n",
       "    </tr>\n",
       "    <tr>\n",
       "      <th>Cabrera High School</th>\n",
       "      <td>1858</td>\n",
       "      <td>1858</td>\n",
       "      <td>1858</td>\n",
       "      <td>1858</td>\n",
       "      <td>1858</td>\n",
       "      <td>1858</td>\n",
       "      <td>1858</td>\n",
       "      <td>1858</td>\n",
       "      <td>1858</td>\n",
       "      <td>1858</td>\n",
       "    </tr>\n",
       "    <tr>\n",
       "      <th>Figueroa High School</th>\n",
       "      <td>2949</td>\n",
       "      <td>2949</td>\n",
       "      <td>2949</td>\n",
       "      <td>2949</td>\n",
       "      <td>2949</td>\n",
       "      <td>2949</td>\n",
       "      <td>2949</td>\n",
       "      <td>2949</td>\n",
       "      <td>2949</td>\n",
       "      <td>2949</td>\n",
       "    </tr>\n",
       "    <tr>\n",
       "      <th>Ford High School</th>\n",
       "      <td>2739</td>\n",
       "      <td>2739</td>\n",
       "      <td>2739</td>\n",
       "      <td>2739</td>\n",
       "      <td>2739</td>\n",
       "      <td>2739</td>\n",
       "      <td>2739</td>\n",
       "      <td>2739</td>\n",
       "      <td>2739</td>\n",
       "      <td>2739</td>\n",
       "    </tr>\n",
       "    <tr>\n",
       "      <th>Griffin High School</th>\n",
       "      <td>1468</td>\n",
       "      <td>1468</td>\n",
       "      <td>1468</td>\n",
       "      <td>1468</td>\n",
       "      <td>1468</td>\n",
       "      <td>1468</td>\n",
       "      <td>1468</td>\n",
       "      <td>1468</td>\n",
       "      <td>1468</td>\n",
       "      <td>1468</td>\n",
       "    </tr>\n",
       "    <tr>\n",
       "      <th>Hernandez High School</th>\n",
       "      <td>4635</td>\n",
       "      <td>4635</td>\n",
       "      <td>4635</td>\n",
       "      <td>4635</td>\n",
       "      <td>4635</td>\n",
       "      <td>4635</td>\n",
       "      <td>4635</td>\n",
       "      <td>4635</td>\n",
       "      <td>4635</td>\n",
       "      <td>4635</td>\n",
       "    </tr>\n",
       "    <tr>\n",
       "      <th>Holden High School</th>\n",
       "      <td>427</td>\n",
       "      <td>427</td>\n",
       "      <td>427</td>\n",
       "      <td>427</td>\n",
       "      <td>427</td>\n",
       "      <td>427</td>\n",
       "      <td>427</td>\n",
       "      <td>427</td>\n",
       "      <td>427</td>\n",
       "      <td>427</td>\n",
       "    </tr>\n",
       "    <tr>\n",
       "      <th>Huang High School</th>\n",
       "      <td>2917</td>\n",
       "      <td>2917</td>\n",
       "      <td>2917</td>\n",
       "      <td>2917</td>\n",
       "      <td>2917</td>\n",
       "      <td>2917</td>\n",
       "      <td>2917</td>\n",
       "      <td>2917</td>\n",
       "      <td>2917</td>\n",
       "      <td>2917</td>\n",
       "    </tr>\n",
       "    <tr>\n",
       "      <th>Johnson High School</th>\n",
       "      <td>4761</td>\n",
       "      <td>4761</td>\n",
       "      <td>4761</td>\n",
       "      <td>4761</td>\n",
       "      <td>4761</td>\n",
       "      <td>4761</td>\n",
       "      <td>4761</td>\n",
       "      <td>4761</td>\n",
       "      <td>4761</td>\n",
       "      <td>4761</td>\n",
       "    </tr>\n",
       "    <tr>\n",
       "      <th>Pena High School</th>\n",
       "      <td>962</td>\n",
       "      <td>962</td>\n",
       "      <td>962</td>\n",
       "      <td>962</td>\n",
       "      <td>962</td>\n",
       "      <td>962</td>\n",
       "      <td>962</td>\n",
       "      <td>962</td>\n",
       "      <td>962</td>\n",
       "      <td>962</td>\n",
       "    </tr>\n",
       "    <tr>\n",
       "      <th>Rodriguez High School</th>\n",
       "      <td>3999</td>\n",
       "      <td>3999</td>\n",
       "      <td>3999</td>\n",
       "      <td>3999</td>\n",
       "      <td>3999</td>\n",
       "      <td>3999</td>\n",
       "      <td>3999</td>\n",
       "      <td>3999</td>\n",
       "      <td>3999</td>\n",
       "      <td>3999</td>\n",
       "    </tr>\n",
       "    <tr>\n",
       "      <th>Shelton High School</th>\n",
       "      <td>1761</td>\n",
       "      <td>1761</td>\n",
       "      <td>1761</td>\n",
       "      <td>1761</td>\n",
       "      <td>1761</td>\n",
       "      <td>1761</td>\n",
       "      <td>1761</td>\n",
       "      <td>1761</td>\n",
       "      <td>1761</td>\n",
       "      <td>1761</td>\n",
       "    </tr>\n",
       "    <tr>\n",
       "      <th>Thomas High School</th>\n",
       "      <td>1635</td>\n",
       "      <td>1635</td>\n",
       "      <td>1635</td>\n",
       "      <td>1635</td>\n",
       "      <td>1635</td>\n",
       "      <td>1635</td>\n",
       "      <td>1635</td>\n",
       "      <td>1635</td>\n",
       "      <td>1635</td>\n",
       "      <td>1635</td>\n",
       "    </tr>\n",
       "    <tr>\n",
       "      <th>Wilson High School</th>\n",
       "      <td>2283</td>\n",
       "      <td>2283</td>\n",
       "      <td>2283</td>\n",
       "      <td>2283</td>\n",
       "      <td>2283</td>\n",
       "      <td>2283</td>\n",
       "      <td>2283</td>\n",
       "      <td>2283</td>\n",
       "      <td>2283</td>\n",
       "      <td>2283</td>\n",
       "    </tr>\n",
       "    <tr>\n",
       "      <th>Wright High School</th>\n",
       "      <td>1800</td>\n",
       "      <td>1800</td>\n",
       "      <td>1800</td>\n",
       "      <td>1800</td>\n",
       "      <td>1800</td>\n",
       "      <td>1800</td>\n",
       "      <td>1800</td>\n",
       "      <td>1800</td>\n",
       "      <td>1800</td>\n",
       "      <td>1800</td>\n",
       "    </tr>\n",
       "  </tbody>\n",
       "</table>\n",
       "</div>"
      ],
      "text/plain": [
       "                       Student ID  student_name  gender  grade  reading_score  \\\n",
       "school_name                                                                     \n",
       "Bailey High School           4976          4976    4976   4976           4976   \n",
       "Cabrera High School          1858          1858    1858   1858           1858   \n",
       "Figueroa High School         2949          2949    2949   2949           2949   \n",
       "Ford High School             2739          2739    2739   2739           2739   \n",
       "Griffin High School          1468          1468    1468   1468           1468   \n",
       "Hernandez High School        4635          4635    4635   4635           4635   \n",
       "Holden High School            427           427     427    427            427   \n",
       "Huang High School            2917          2917    2917   2917           2917   \n",
       "Johnson High School          4761          4761    4761   4761           4761   \n",
       "Pena High School              962           962     962    962            962   \n",
       "Rodriguez High School        3999          3999    3999   3999           3999   \n",
       "Shelton High School          1761          1761    1761   1761           1761   \n",
       "Thomas High School           1635          1635    1635   1635           1635   \n",
       "Wilson High School           2283          2283    2283   2283           2283   \n",
       "Wright High School           1800          1800    1800   1800           1800   \n",
       "\n",
       "                       math_score  School ID  type  size  budget  \n",
       "school_name                                                       \n",
       "Bailey High School           4976       4976  4976  4976    4976  \n",
       "Cabrera High School          1858       1858  1858  1858    1858  \n",
       "Figueroa High School         2949       2949  2949  2949    2949  \n",
       "Ford High School             2739       2739  2739  2739    2739  \n",
       "Griffin High School          1468       1468  1468  1468    1468  \n",
       "Hernandez High School        4635       4635  4635  4635    4635  \n",
       "Holden High School            427        427   427   427     427  \n",
       "Huang High School            2917       2917  2917  2917    2917  \n",
       "Johnson High School          4761       4761  4761  4761    4761  \n",
       "Pena High School              962        962   962   962     962  \n",
       "Rodriguez High School        3999       3999  3999  3999    3999  \n",
       "Shelton High School          1761       1761  1761  1761    1761  \n",
       "Thomas High School           1635       1635  1635  1635    1635  \n",
       "Wilson High School           2283       2283  2283  2283    2283  \n",
       "Wright High School           1800       1800  1800  1800    1800  "
      ]
     },
     "execution_count": 37,
     "metadata": {},
     "output_type": "execute_result"
    }
   ],
   "source": [
    "# what I see from this is that the count of Student ID series with give me the total students per school\n",
    "# so just total students (=) will be grouped_df[\"Student ID\"].count then change column title in new data frame\n",
    "# total school budget I already have, the variable is saved as school_budget_df\n",
    "# budget per student will be new column that calculates school budget / total students\n",
    "# school type (=) will be grouped_df[\"type\"].value_counts()\n",
    "grouped_df.count()"
   ]
  },
  {
   "cell_type": "code",
   "execution_count": 39,
   "id": "8132e9a2",
   "metadata": {},
   "outputs": [
    {
     "data": {
      "text/plain": [
       "school_name            type    \n",
       "Bailey High School     District    4976\n",
       "Cabrera High School    Charter     1858\n",
       "Figueroa High School   District    2949\n",
       "Ford High School       District    2739\n",
       "Griffin High School    Charter     1468\n",
       "Hernandez High School  District    4635\n",
       "Holden High School     Charter      427\n",
       "Huang High School      District    2917\n",
       "Johnson High School    District    4761\n",
       "Pena High School       Charter      962\n",
       "Rodriguez High School  District    3999\n",
       "Shelton High School    Charter     1761\n",
       "Thomas High School     Charter     1635\n",
       "Wilson High School     Charter     2283\n",
       "Wright High School     Charter     1800\n",
       "Name: type, dtype: int64"
      ]
     },
     "execution_count": 39,
     "metadata": {},
     "output_type": "execute_result"
    }
   ],
   "source": [
    "grouped_df[\"type\"].value_counts()"
   ]
  },
  {
   "cell_type": "code",
   "execution_count": 43,
   "id": "60c631d4",
   "metadata": {},
   "outputs": [
    {
     "data": {
      "text/plain": [
       "school_name\n",
       "Bailey High School       77.048432\n",
       "Cabrera High School      83.061895\n",
       "Figueroa High School     76.711767\n",
       "Ford High School         77.102592\n",
       "Griffin High School      83.351499\n",
       "Hernandez High School    77.289752\n",
       "Holden High School       83.803279\n",
       "Huang High School        76.629414\n",
       "Johnson High School      77.072464\n",
       "Pena High School         83.839917\n",
       "Rodriguez High School    76.842711\n",
       "Shelton High School      83.359455\n",
       "Thomas High School       83.418349\n",
       "Wilson High School       83.274201\n",
       "Wright High School       83.682222\n",
       "Name: math_score, dtype: float64"
      ]
     },
     "execution_count": 43,
     "metadata": {},
     "output_type": "execute_result"
    }
   ],
   "source": [
    "# average math score by school\n",
    "school_summary_math_score = grouped_df[\"math_score\"].mean()\n",
    "# school_summary_math_score"
   ]
  },
  {
   "cell_type": "code",
   "execution_count": 44,
   "id": "eae5dea3",
   "metadata": {},
   "outputs": [
    {
     "data": {
      "text/plain": [
       "school_name\n",
       "Bailey High School       81.033963\n",
       "Cabrera High School      83.975780\n",
       "Figueroa High School     81.158020\n",
       "Ford High School         80.746258\n",
       "Griffin High School      83.816757\n",
       "Hernandez High School    80.934412\n",
       "Holden High School       83.814988\n",
       "Huang High School        81.182722\n",
       "Johnson High School      80.966394\n",
       "Pena High School         84.044699\n",
       "Rodriguez High School    80.744686\n",
       "Shelton High School      83.725724\n",
       "Thomas High School       83.848930\n",
       "Wilson High School       83.989488\n",
       "Wright High School       83.955000\n",
       "Name: reading_score, dtype: float64"
      ]
     },
     "execution_count": 44,
     "metadata": {},
     "output_type": "execute_result"
    }
   ],
   "source": [
    "# average reading score by school\n",
    "school_summary_reading_score = grouped_df[\"reading_score\"].mean()\n",
    "school_summary_reading_score"
   ]
  },
  {
   "cell_type": "code",
   "execution_count": 48,
   "id": "594847b4",
   "metadata": {},
   "outputs": [
    {
     "data": {
      "text/plain": [
       "school_name         math_score\n",
       "Bailey High School  91            130\n",
       "                    61            129\n",
       "                    68            124\n",
       "                    81            124\n",
       "                    63            123\n",
       "                                 ... \n",
       "Wright High School  93             49\n",
       "                    74             48\n",
       "                    68             47\n",
       "                    72             45\n",
       "                    71             43\n",
       "Name: math_score, Length: 571, dtype: int64"
      ]
     },
     "execution_count": 48,
     "metadata": {},
     "output_type": "execute_result"
    }
   ],
   "source": [
    "# finding number of students passing math for each school\n",
    "# finding number of students passing reading for each school\n",
    "# finding number of students passing both reading and math for each school\n",
    "# >= 70\n",
    "math_scores_by_school = grouped_df[\"math_score\"].value_counts()\n",
    "# math_scores_by_school"
   ]
  },
  {
   "cell_type": "code",
   "execution_count": 57,
   "id": "99c07796",
   "metadata": {},
   "outputs": [],
   "source": [
    "# OVER THINKING\n",
    "# create the varibales and the values for the columns first \n",
    "# create another copy of the complete df and add these columns to that copy\n",
    "# then make a groupby data frame for the summary with the columns you want\n",
    "# so still use .loc in the 2nd copy of the complete data frame"
   ]
  },
  {
   "cell_type": "code",
   "execution_count": null,
   "id": "cd18f13c",
   "metadata": {},
   "outputs": [],
   "source": []
  }
 ],
 "metadata": {
  "kernelspec": {
   "display_name": "Python 3 (ipykernel)",
   "language": "python",
   "name": "python3"
  },
  "language_info": {
   "codemirror_mode": {
    "name": "ipython",
    "version": 3
   },
   "file_extension": ".py",
   "mimetype": "text/x-python",
   "name": "python",
   "nbconvert_exporter": "python",
   "pygments_lexer": "ipython3",
   "version": "3.7.7"
  }
 },
 "nbformat": 4,
 "nbformat_minor": 5
}
